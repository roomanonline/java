{
 "cells": [
  {
   "cell_type": "markdown",
   "metadata": {},
   "source": [
    "# Important Instructions:"
   ]
  },
  {
   "cell_type": "raw",
   "metadata": {},
   "source": [
    "1)When coding in java using jupyter notebooks there is no need to provide a main method as it is automatically provided.\n",
    "\n",
    "2)Code written within a cell is automatically placed within the main method unless you explicitly place it within another class\n",
    "\n",
    "I hope you enjoyed the Strings classes and have built a good foundation for the logic involved. Now lets solve a few intresting questions to see what kind of logic you can come up with :)\n"
   ]
  },
  {
   "cell_type": "raw",
   "metadata": {},
   "source": [
    "1. Write a program to compute the frequency of each lowercase letter in the string.\n",
    "\n",
    "Sample Input:\n",
    "\n",
    "Enter the input string\n",
    "innovate\n",
    "\n",
    "Sample Output:\n",
    "\n",
    "The letter frequency is\n",
    "a 1\n",
    "e 1\n",
    "i 1\n",
    "n 2\n",
    "o 1\n",
    "t 1\n",
    "v 1\n"
   ]
  },
  {
   "cell_type": "code",
   "execution_count": null,
   "metadata": {},
   "outputs": [],
   "source": []
  },
  {
   "cell_type": "raw",
   "metadata": {},
   "source": [
    "2. Write a program to delete all vowels present in a string.\n",
    "\n",
    "Sample Input:\n",
    "\n",
    "Enter the input string\n",
    "rooman\n",
    "\n",
    "Sample Output: \n",
    "\n",
    "The output string is rmn\n"
   ]
  },
  {
   "cell_type": "code",
   "execution_count": null,
   "metadata": {},
   "outputs": [],
   "source": []
  },
  {
   "cell_type": "raw",
   "metadata": {},
   "source": [
    "3. Write a program to replace the characters with a special character, whenever that particular character is found \n",
    "Condition: \n",
    "     Replace ‘O’ with ‘@’\n",
    "     Replace ‘E’ with ‘#’\n",
    "     \n",
    "Sample Input:\n",
    "\n",
    "Enter the input string\n",
    "WELCOME TO CODING LAB\n",
    "\n",
    "Sample Output: \n",
    "\n",
    "The output string is W#LC@M# T@ C@DING LAB\n"
   ]
  },
  {
   "cell_type": "code",
   "execution_count": null,
   "metadata": {},
   "outputs": [],
   "source": []
  },
  {
   "cell_type": "raw",
   "metadata": {},
   "source": [
    "4. Write a java program to count the number of words in a string? (Without using any built in methods)\n",
    "\n",
    "Sample Input:\n",
    "\n",
    "Enter the input string\n",
    "Your only limit is You\n",
    "\n",
    "Sample Output:\n",
    "\n",
    "The output string is 5\n"
   ]
  },
  {
   "cell_type": "code",
   "execution_count": null,
   "metadata": {},
   "outputs": [],
   "source": []
  },
  {
   "cell_type": "raw",
   "metadata": {},
   "source": [
    "5. Write a program to convert lower case string to upper case String in java\n",
    "\n",
    "Sample Input:\n",
    "\n",
    "Enter the input string\n",
    "ROOMAN\n",
    "\n",
    "Sample Output:\n",
    "\n",
    "The output string is rooman\n"
   ]
  },
  {
   "cell_type": "code",
   "execution_count": null,
   "metadata": {},
   "outputs": [],
   "source": []
  },
  {
   "cell_type": "raw",
   "metadata": {},
   "source": [
    "6. Write a anagram program in java using strings: \n",
    "(Anagram: a word, phrase, or name formed by rearranging the letters of another)\n",
    "\n",
    "Sample Input:\n",
    "\n",
    "Enter the input strings:\n",
    "str1= Listen\n",
    "str2= Silent\n",
    "\n",
    "Sample Output:\n",
    "\n",
    "The output string is Strings are anagram\n"
   ]
  },
  {
   "cell_type": "code",
   "execution_count": null,
   "metadata": {},
   "outputs": [],
   "source": []
  },
  {
   "cell_type": "raw",
   "metadata": {},
   "source": [
    "7. Write a program to print duplicate character present in the string\n",
    "\n",
    "Sample Input:\n",
    "\n",
    "Enter the input string:\n",
    "Great responsibility\n",
    "\n",
    "Sample Output:\n",
    "\n",
    "The output string is r e t s i\n"
   ]
  },
  {
   "cell_type": "code",
   "execution_count": null,
   "metadata": {},
   "outputs": [],
   "source": []
  },
  {
   "cell_type": "raw",
   "metadata": {},
   "source": [
    "8. Write a program to check whether the string is palindrome or not\n",
    "\n",
    "Sample Input:\n",
    "\n",
    "Enter the input string:\n",
    "racecar\n",
    "\n",
    "Sample Output:\n",
    "\n",
    "The output is Palindrome\n"
   ]
  },
  {
   "cell_type": "code",
   "execution_count": null,
   "metadata": {},
   "outputs": [],
   "source": []
  },
  {
   "cell_type": "raw",
   "metadata": {},
   "source": [
    "9. Write a program to swap two strings \n",
    "\n",
    "Sample Input:\n",
    "\n",
    "Enter the input string:\n",
    "Jupyter Notebook\n",
    "\n",
    "Sample Output:\n",
    "\n",
    "The output string is Notebook Jupyter\n"
   ]
  },
  {
   "cell_type": "code",
   "execution_count": null,
   "metadata": {},
   "outputs": [],
   "source": []
  },
  {
   "cell_type": "raw",
   "metadata": {},
   "source": [
    "10.Write a program to check if a string is empty or not\n",
    "\n",
    "Ex1:\n",
    "\n",
    "Sample Input:\n",
    "\n",
    "Enter the input string:\n",
    "Hello World\n",
    "\n",
    "Sample Output:\n",
    "\n",
    "The output is String is not empty\n",
    "\n",
    "Ex2:\n",
    "\n",
    "Sample Input:\n",
    "\n",
    "Enter the input string:\n",
    "null\n",
    "\n",
    "Sample Output:\n",
    "\n",
    "The output is String is empty\n"
   ]
  },
  {
   "cell_type": "code",
   "execution_count": null,
   "metadata": {},
   "outputs": [],
   "source": []
  }
 ],
 "metadata": {
  "kernelspec": {
   "display_name": "Java",
   "language": "java",
   "name": "java"
  },
  "language_info": {
   "codemirror_mode": "java",
   "file_extension": ".jshell",
   "mimetype": "text/x-java-source",
   "name": "Java",
   "pygments_lexer": "java",
   "version": "11.0.6+10-post-Ubuntu-1ubuntu118.04.1"
  }
 },
 "nbformat": 4,
 "nbformat_minor": 4
}
