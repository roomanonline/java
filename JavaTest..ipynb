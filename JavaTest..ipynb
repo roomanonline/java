{
 "cells": [
  {
   "cell_type": "markdown",
   "metadata": {},
   "source": [
    "###### Write a Java Program to find the second-highest number in an array.\n",
    "\n",
    "<b>Sample Input:</b>\n",
    "\n",
    "The given array is: 100 14 46 47 94 94 52 86 36 94 89\n",
    "\n",
    "<b>Sample Output:</b>\n",
    "\n",
    "Second largest number is:94\n",
    "\n",
    "Largest Number is: 100\n"
   ]
  },
  {
   "cell_type": "code",
   "execution_count": null,
   "metadata": {},
   "outputs": [],
   "source": []
  },
  {
   "cell_type": "markdown",
   "metadata": {},
   "source": [
    "###### Write a Java Program to check if the given number is an Armstrong number or not.\n",
    "\n",
    "Hint: Armstrong number are equal to the sum of cubes of its digits."
   ]
  },
  {
   "cell_type": "code",
   "execution_count": null,
   "metadata": {},
   "outputs": [],
   "source": []
  },
  {
   "cell_type": "markdown",
   "metadata": {},
   "source": [
    "###### Write a program that reads an integer between 0 and 1000 and  adds  all the digits in the integer. For example, if an integer is 623, the  sum of all its digits is 11."
   ]
  },
  {
   "cell_type": "code",
   "execution_count": null,
   "metadata": {},
   "outputs": [],
   "source": []
  },
  {
   "cell_type": "markdown",
   "metadata": {},
   "source": [
    "###### Create a class named Product with the following private attributes. \n",
    "<b>Attribute\t  Data type\n",
    "\n",
    " Id\t     :          Long\n",
    "\n",
    "productName :\tString\n",
    "\n",
    "supplierName :\tString\n",
    "\n",
    "Include appropriate getters and setters.\n",
    "\n",
    "Include a 3-argument constructor and a default constructor.\n",
    "\n",
    "Include a method named display. It does not accept any arguments and its return type is void. Display the details of the\n",
    "\n",
    "product in this method.</b>\n",
    "\n",
    "\n",
    "Sample input:\n",
    "\n",
    "Enter the product id\n",
    "\n",
    "1\n",
    "\n",
    "Enter the product name\n",
    "\n",
    "Printer\n",
    "\n",
    "Enter the supplier name\n",
    "\n",
    "HP \n",
    "\n",
    "Output:\n",
    "\n",
    "Product Id is 1\n",
    "\n",
    "Product Name is Printer\n",
    "\n",
    "Supplier Name is HP\n"
   ]
  },
  {
   "cell_type": "code",
   "execution_count": null,
   "metadata": {},
   "outputs": [],
   "source": []
  },
  {
   "cell_type": "markdown",
   "metadata": {},
   "source": [
    "###### Create a class named 'Rectangle' with two data members 'length' and 'breadth' and two methods to print the area and perimeter of the rectangle respectively. Its constructor having parameters for length and breadth is used to initialize length and breadth of the rectangle. Let class 'Square' inherit the 'Rectangle' class with its constructor having a parameter for its side (suppose s) calling the constructor of its parent class as 'super(s,s)'. Print the area and perimeter of a rectangle and a square.\n",
    "\n",
    "Sample Output:\n",
    "\n",
    "Area of rectangle is....\n",
    "\n",
    "Enter length of rectangle\n",
    "\n",
    "4\n",
    "\n",
    "Enter breadth of rectangle\n",
    "\n",
    "5\n",
    "\n",
    "Area of rectangle is....\n",
    "\n",
    "20\n",
    "\n",
    "perimeter of rectangle is....\n",
    "\n",
    "18\n",
    "\n",
    "Area of square is....\n",
    "\n",
    "16\n",
    "\n",
    "perimeter of square is....\n",
    "\n",
    "16\n",
    "\n"
   ]
  },
  {
   "cell_type": "code",
   "execution_count": null,
   "metadata": {},
   "outputs": [],
   "source": []
  }
 ],
 "metadata": {
  "kernelspec": {
   "display_name": "Java",
   "language": "java",
   "name": "java"
  },
  "language_info": {
   "codemirror_mode": "java",
   "file_extension": ".jshell",
   "mimetype": "text/x-java-source",
   "name": "Java",
   "pygments_lexer": "java",
   "version": "11.0.8+10-post-Ubuntu-0ubuntu118.04.1"
  }
 },
 "nbformat": 4,
 "nbformat_minor": 4
}
