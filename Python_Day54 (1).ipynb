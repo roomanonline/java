{
 "cells": [
  {
   "cell_type": "markdown",
   "metadata": {},
   "source": [
    "# Important Instructions"
   ]
  },
  {
   "cell_type": "markdown",
   "metadata": {},
   "source": [
    "###### I hope you enjoyed Python classes and have built a good foundation for the logic involved. Now lets solve a few intresting questions to see what kind of logic you can come up with :)\n"
   ]
  },
  {
   "cell_type": "markdown",
   "metadata": {},
   "source": [
    "###### Write a script by extending the built-in class list to calculate the Points based on the online purchase.\n",
    "\n",
    "Fill the shopping cart with items, and if the purchase is more than 500!! Win 5 points. \n",
    "\n",
    "Sample Input:\n",
    "\n",
    "Cart('Dress',2000)\n",
    "\n",
    "Sample Output:\n",
    "\n",
    "Items in Cart {'item': 'Dress', 'price': 2000}\n",
    "\n",
    "Won 5 Points\n",
    "\n",
    "Sample Input:\n",
    "\n",
    "Cart('Dress',450)\n",
    "\n",
    "Sample Output:\n",
    "\n",
    "Items in Cart {'item': 'Dress', 'price': 450}\n",
    "\n",
    "Total price is less than 500\n"
   ]
  },
  {
   "cell_type": "code",
   "execution_count": null,
   "metadata": {},
   "outputs": [],
   "source": []
  },
  {
   "cell_type": "markdown",
   "metadata": {},
   "source": [
    "###### Write a script by extending the built-in class list to search the student details is present in the File or not. \n",
    "\n",
    "Sample Input:\n",
    "\n",
    "Attendace('Raj','CSE')\n",
    "\n",
    "Attendace('Jhon','EC')\n",
    "\n",
    "Sample Output:\n",
    "\n",
    "Students Record {'name': 'Raj', 'branch': 'CSE'}\n",
    "\n",
    "Students Record {'name': 'Jhon', 'branch': 'EC'}\n",
    "\n",
    "Student Found\n"
   ]
  },
  {
   "cell_type": "code",
   "execution_count": null,
   "metadata": {},
   "outputs": [],
   "source": []
  }
 ],
 "metadata": {
  "kernelspec": {
   "display_name": "Python 3",
   "language": "python",
   "name": "python3"
  },
  "language_info": {
   "codemirror_mode": {
    "name": "ipython",
    "version": 3
   },
   "file_extension": ".py",
   "mimetype": "text/x-python",
   "name": "python",
   "nbconvert_exporter": "python",
   "pygments_lexer": "ipython3",
   "version": "3.7.3"
  }
 },
 "nbformat": 4,
 "nbformat_minor": 4
}
