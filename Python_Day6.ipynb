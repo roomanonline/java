{
 "cells": [
  {
   "cell_type": "markdown",
   "metadata": {},
   "source": [
    "# Important Instructions"
   ]
  },
  {
   "cell_type": "raw",
   "metadata": {},
   "source": [
    "I hope you enjoyed Python classes and have built a good foundation for the logic involved. Now lets solve a few intresting questions to see what kind of logic you can come up with :)"
   ]
  },
  {
   "cell_type": "raw",
   "metadata": {},
   "source": [
    "1) Write a script to define a function which accepts one integer input and one real number as input :\n",
    "  a)\tprint the output by multiplying the respective inputs.\n",
    "  b)\tprint the type of output.\n"
   ]
  },
  {
   "cell_type": "code",
   "execution_count": null,
   "metadata": {},
   "outputs": [],
   "source": []
  },
  {
   "cell_type": "raw",
   "metadata": {},
   "source": [
    "2) Write a script to define a function were:\n",
    "  a)\tFunction named as  my_function \n",
    "  b)\tPrint the statement “Before calling my_function ” before my_function call\n",
    "  c)\tPrint the statement “After calling my_function ” after my_function call\n",
    "  d)\tPrint the statement “Inside my_function” when my_function is called.\n"
   ]
  },
  {
   "cell_type": "code",
   "execution_count": null,
   "metadata": {},
   "outputs": [],
   "source": []
  },
  {
   "cell_type": "raw",
   "metadata": {},
   "source": [
    "3) Write a script to define a function which takes two string inputs and return the output by swapping to given input values.\n",
    "    Sample Input: Online Python\n",
    "    Sample Output: Python Online\n"
   ]
  },
  {
   "cell_type": "code",
   "execution_count": null,
   "metadata": {},
   "outputs": [],
   "source": []
  },
  {
   "cell_type": "raw",
   "metadata": {},
   "source": [
    "4) Write a script to define a function which accepts a input as a string and return the output by converting the string value into complex value.\n",
    "    Sample Input: “3.5”\n",
    "    Sample Output: (3.5+0j)\n",
    "\n",
    "    Hint: Use Type Casting\n"
   ]
  },
  {
   "cell_type": "code",
   "execution_count": null,
   "metadata": {},
   "outputs": [],
   "source": []
  },
  {
   "cell_type": "raw",
   "metadata": {},
   "source": [
    "5)\tWrite a script to define a function with no input and no output value and calculate the sample output as given below.\n",
    "\n",
    "    Sample Input: -1,-400\n",
    "    Sample output: 399\n"
   ]
  },
  {
   "cell_type": "code",
   "execution_count": null,
   "metadata": {},
   "outputs": [],
   "source": []
  }
 ],
 "metadata": {
  "kernelspec": {
   "display_name": "Python 3",
   "language": "python",
   "name": "python3"
  },
  "language_info": {
   "codemirror_mode": {
    "name": "ipython",
    "version": 3
   },
   "file_extension": ".py",
   "mimetype": "text/x-python",
   "name": "python",
   "nbconvert_exporter": "python",
   "pygments_lexer": "ipython3",
   "version": "3.7.3"
  }
 },
 "nbformat": 4,
 "nbformat_minor": 4
}
