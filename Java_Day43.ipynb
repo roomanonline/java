{
 "cells": [
  {
   "cell_type": "markdown",
   "metadata": {},
   "source": [
    "# Important Instructions:"
   ]
  },
  {
   "cell_type": "raw",
   "metadata": {},
   "source": [
    "1)When coding in java using jupyter notebooks there is no need to provide a main method as it is automatically provided.\n",
    "\n",
    "2)Code written within a cell is automatically placed within the main method unless you explicitly place it within another class\n",
    "\n",
    "I hope you enjoyed the classes and have built a good foundation for the logic involved. Now lets solve a few intresting questions to see what kind of logic you can come up with :)"
   ]
  },
  {
   "cell_type": "code",
   "execution_count": null,
   "metadata": {},
   "outputs": [],
   "source": [
    "Write a program to get the reference to the current thread by calling currentThread() method."
   ]
  },
  {
   "cell_type": "code",
   "execution_count": null,
   "metadata": {},
   "outputs": [],
   "source": []
  },
  {
   "cell_type": "raw",
   "metadata": {},
   "source": [
    "Create a multithreaded program by creating the MyThread which is a subclass of Thread where the threads will execute concurrently and display a message “Small steps every day” But create threads as objects of the class MyClass, which is not a subclass of Thread. MyClass will implement the runnable interface and objects of MyClass will be executed as threads by passing them as arguments to the Thread constructor.\n",
    "Hint: Create String array to store the string “Small steps every day\n",
    "\n"
   ]
  },
  {
   "cell_type": "code",
   "execution_count": null,
   "metadata": {},
   "outputs": [],
   "source": []
  }
 ],
 "metadata": {
  "kernelspec": {
   "display_name": "Java",
   "language": "java",
   "name": "java"
  },
  "language_info": {
   "codemirror_mode": "java",
   "file_extension": ".jshell",
   "mimetype": "text/x-java-source",
   "name": "Java",
   "pygments_lexer": "java",
   "version": "11.0.8+10-post-Ubuntu-0ubuntu118.04.1"
  }
 },
 "nbformat": 4,
 "nbformat_minor": 4
}
