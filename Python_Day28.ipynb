{
 "cells": [
  {
   "cell_type": "markdown",
   "metadata": {},
   "source": [
    "# Important Instructions"
   ]
  },
  {
   "cell_type": "markdown",
   "metadata": {},
   "source": [
    "###### I hope you enjoyed Python classes and have built a good foundation for the logic involved. Now lets solve a few intresting questions to see what kind of logic you can come up with :)"
   ]
  },
  {
   "cell_type": "markdown",
   "metadata": {},
   "source": [
    "###### 1.\tStart with the list [8,9,10]. Do the following:\n",
    "\n",
    "(a) Set the second entry (index 1) to 17 \n",
    "    \n",
    "(b) Add 4, 5, and 6 to the end of the list \n",
    "    \n",
    "(c) Remove the first entry from the list \n",
    "       \n",
    "(d) Sort the list \n",
    "    \n",
    "(e) Double the list \n",
    "    \n",
    "(f) Insert 25 at index 3 \n",
    "\n",
    "<b>Sample Output:</b>\n",
    "\n",
    "The final list should equal [4,5,6,25,10,17,4,5,6,10,17]\n",
    "\n"
   ]
  },
  {
   "cell_type": "code",
   "execution_count": null,
   "metadata": {},
   "outputs": [],
   "source": []
  },
  {
   "cell_type": "markdown",
   "metadata": {},
   "source": [
    "###### 2)Ask the user to enter a list containing numbers between 1 and 12. Then replace all of the entries in the list that are greater than 10 with 10."
   ]
  },
  {
   "cell_type": "code",
   "execution_count": null,
   "metadata": {},
   "outputs": [],
   "source": []
  },
  {
   "cell_type": "markdown",
   "metadata": {},
   "source": [
    "###### 3)Ask the user to enter a list of strings. Create a new list that consists of those strings with their first characters removed.\n",
    "\n",
    "<b>Sample Input:</b>\n",
    "\n",
    "Enter the string: python is an interpreted language\n",
    "\n",
    "['python', 'is', 'an', 'interpreted', 'language']\n",
    "\n",
    "<b>Sample Output:</b>\n",
    "\n",
    "\t['ython', 's', 'n', 'nterpreted', 'anguage']\n",
    "\n",
    "<b>Hint: Use split() to split the string into list</b>\n"
   ]
  },
  {
   "cell_type": "code",
   "execution_count": null,
   "metadata": {},
   "outputs": [],
   "source": []
  },
  {
   "cell_type": "markdown",
   "metadata": {},
   "source": [
    "###### 4)Write a program to create a list of integers. Do the following: \n",
    "\n",
    "(a) Print the total number of items in the list. \n",
    "\n",
    "(b) Print the last item in the list.\n",
    "\n",
    "(c) Print the list in reverse order.\n",
    "\n",
    "(d) Print Yes if the list contains a 5 and No otherwise. \n",
    "\n",
    "(e) Remove the first and last items from the list and print the result.\n",
    "\n",
    "(f) Print how many integers in the list are less than 5 in the separate list.\n",
    "\n",
    "<b>Sample Input:</b>\n",
    "\n",
    "list = [1,2,3,4,5,6,7,8]\n",
    "\n",
    "<b>Sample Output:</b>\n",
    "\n",
    "Length of the list: 8\n",
    "\n",
    "Last item in the list: 8\n",
    "\n",
    "Reversed list: [8, 7, 6, 5, 4, 3, 2, 1]\n",
    "\n",
    "Yes, this list contains element 5 \n",
    "\n",
    "Removed first and last items from the list: [7, 6, 5, 4, 3, 2]\n",
    "\n",
    "[4, 3, 2] these 3 Elements are less than 5 in the list \n"
   ]
  },
  {
   "cell_type": "code",
   "execution_count": null,
   "metadata": {},
   "outputs": [],
   "source": []
  }
 ],
 "metadata": {
  "kernelspec": {
   "display_name": "Python 3",
   "language": "python",
   "name": "python3"
  },
  "language_info": {
   "codemirror_mode": {
    "name": "ipython",
    "version": 3
   },
   "file_extension": ".py",
   "mimetype": "text/x-python",
   "name": "python",
   "nbconvert_exporter": "python",
   "pygments_lexer": "ipython3",
   "version": "3.7.3"
  }
 },
 "nbformat": 4,
 "nbformat_minor": 4
}
