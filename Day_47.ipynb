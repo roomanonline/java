{
 "cells": [
  {
   "cell_type": "markdown",
   "metadata": {},
   "source": [
    "# Important Instructions"
   ]
  },
  {
   "cell_type": "markdown",
   "metadata": {},
   "source": [
    "###### I hope you enjoyed Python classes and have built a good foundation for the logic involved. Now lets solve a few intresting questions to see what kind of logic you can come up with :)"
   ]
  },
  {
   "cell_type": "markdown",
   "metadata": {},
   "source": [
    "###### Create a simple decorator function which decorates the inner class as shown below,\n",
    "<b>Condition: If the input is school, then decorate by flowers\n",
    "    \n",
    "If the input is other than school, then decorate by lights.</b>\n",
    "\n",
    "Sample Input:\n",
    "\n",
    "School\n",
    "\n",
    "Building\n",
    "\n",
    "Sample Output:\n",
    "\n",
    "School: Decorate with Flowers\n",
    "\n",
    "Building: Decorate with Lights\n",
    "\n",
    "Office Decorate with Lights\n"
   ]
  },
  {
   "cell_type": "code",
   "execution_count": null,
   "metadata": {},
   "outputs": [],
   "source": []
  },
  {
   "cell_type": "markdown",
   "metadata": {},
   "source": [
    "###### Create a simple decorator function to reverse a given string as shown below,\n",
    "\n",
    "Sample Input: Enter a string: Hello World\n",
    "\n",
    "Sample Output: dlroW olleH\n"
   ]
  },
  {
   "cell_type": "code",
   "execution_count": null,
   "metadata": {},
   "outputs": [],
   "source": []
  },
  {
   "cell_type": "markdown",
   "metadata": {},
   "source": [
    "###### Create a Decorator function which calculates the square and factorial of given input based on the function call.\n",
    "\n",
    "Sample Input: Enter a number:5\n",
    "\n",
    "<B>If the function call has made as below.\n",
    "\n",
    "decor(5,’Square’)\n",
    "\n",
    "decor(5,’Factorial’)</B>\n",
    "\n",
    "Sample Output:\n",
    "\n",
    "Inside Inner Function!! Square 25\n",
    "\n",
    "Inside decorator Function!! Factorial 120\n",
    "    \n"
   ]
  },
  {
   "cell_type": "code",
   "execution_count": null,
   "metadata": {},
   "outputs": [],
   "source": []
  }
 ],
 "metadata": {
  "kernelspec": {
   "display_name": "Python 3",
   "language": "python",
   "name": "python3"
  },
  "language_info": {
   "codemirror_mode": {
    "name": "ipython",
    "version": 3
   },
   "file_extension": ".py",
   "mimetype": "text/x-python",
   "name": "python",
   "nbconvert_exporter": "python",
   "pygments_lexer": "ipython3",
   "version": "3.7.3"
  }
 },
 "nbformat": 4,
 "nbformat_minor": 4
}
