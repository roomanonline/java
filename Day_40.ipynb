{
 "cells": [
  {
   "cell_type": "markdown",
   "metadata": {},
   "source": [
    "# Important Instructions:"
   ]
  },
  {
   "cell_type": "raw",
   "metadata": {},
   "source": [
    "1)When coding in java using jupyter notebooks there is no need to provide a main method as it is automatically provided.\n",
    "\n",
    "2)Code written within a cell is automatically placed within the main method unless you explicitly place it within another class\n",
    "\n",
    "I hope you enjoyed the classes and have built a good foundation for the logic involved. Now lets solve a few intresting questions to see what kind of logic you can come up with :)"
   ]
  },
  {
   "cell_type": "raw",
   "metadata": {},
   "source": [
    "1. In a program, an array of integer data to be initialized. During the initialization, if a user enters a value other than integer value, then it will throw InputMismatchException exception. On the occurrence of such an exception, your program should print “You entered bad data.” If there is no such exception it will print the total sum of the array.\n",
    "\n",
    "Sample input and output 1:\n",
    "\n",
    "Enter the limit or array size : e\n",
    "You entered bad data.\n",
    "\n",
    "Sample input and output 2:\n",
    "\n",
    "Enter the limit or array size : 4\n",
    "Enter 4 elements : \n",
    "99\n",
    "23\n",
    "^\n",
    "You entered bad data.\n"
   ]
  },
  {
   "cell_type": "code",
   "execution_count": null,
   "metadata": {},
   "outputs": [],
   "source": []
  },
  {
   "cell_type": "raw",
   "metadata": {},
   "source": [
    "2. Write a program, there may be multiple exceptions. You have to complete the code using only one try-catch block to handle all the possible exceptions.\n",
    "For example, if user’s input is 1, then it will throw and catch \"java.lang.NullPointerException\".4. Write a program, there may be multiple exceptions. You have to complete the code using only one try-catch block to handle all the possible exceptions.\n",
    "For example, if user’s input is 1, then it will throw and catch \"java.lang.NullPointerException\"."
   ]
  },
  {
   "cell_type": "code",
   "execution_count": null,
   "metadata": {},
   "outputs": [],
   "source": []
  }
 ],
 "metadata": {
  "kernelspec": {
   "display_name": "Java",
   "language": "java",
   "name": "java"
  },
  "language_info": {
   "codemirror_mode": "java",
   "file_extension": ".jshell",
   "mimetype": "text/x-java-source",
   "name": "Java",
   "pygments_lexer": "java",
   "version": "11.0.7+10-post-Ubuntu-2ubuntu218.04"
  }
 },
 "nbformat": 4,
 "nbformat_minor": 4
}
