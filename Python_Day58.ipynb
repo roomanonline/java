{
 "cells": [
  {
   "cell_type": "markdown",
   "metadata": {},
   "source": [
    "# Important Instructions"
   ]
  },
  {
   "cell_type": "markdown",
   "metadata": {},
   "source": [
    "###### I hope you enjoyed Python classes and have built a good foundation for the logic involved. Now lets solve a few intresting questions to see what kind of logic you can come up with :)"
   ]
  },
  {
   "cell_type": "markdown",
   "metadata": {},
   "source": [
    "###### Write a script to sort the user defined objects without using built-in function. \n",
    "a)Below is the students list sort the list based on their age. Students list consist of name, age and grade. \n",
    "\n",
    "<b>Sample Input:</b>\n",
    "\n",
    "Students(\"Jhon\",25,'D')\n",
    "\n",
    "Students(\"Dave\",24,'B')\n",
    "\n",
    "Students(\"Neil\",26,'A')\n",
    "\n",
    "Students(\"Harry\",22,'C')\n",
    "\n",
    "Students(\"Tom\",27,'E')\n",
    "\n",
    "<b>Sample Output:</b>\n",
    "\n",
    "Name:Harry age:22\n",
    "\n",
    "Name:Dave age:24\n",
    "\n",
    "Name:Jhon age:25\n",
    "\n",
    "Name:Neil age:26\n",
    "\n",
    "Name:Tom age:27\n",
    "\n"
   ]
  },
  {
   "cell_type": "code",
   "execution_count": null,
   "metadata": {},
   "outputs": [],
   "source": []
  },
  {
   "cell_type": "markdown",
   "metadata": {},
   "source": [
    "###### b) Using the same students list sort the list based on the highest grade scored.\n",
    "\n",
    "<b>Sample Input:</b>\n",
    "    \n",
    "Students(\"Jhon\",25,'D')\n",
    "\n",
    "Students(\"Dave\",24,'B')\n",
    "\n",
    "Students(\"Neil\",26,'A')\n",
    "\n",
    "Students(\"Harry\",22,'C')\n",
    "\n",
    "Students(\"Tom\",27,'E')\n",
    "\n",
    "<b>Sample Output:</b>\n",
    "\n",
    "Name:Neil age:26 grade:A\n",
    "\n",
    "Name:Dave age:24 grade:B\n",
    "\n",
    "Name:Harry age:22 grade:C\n",
    "\n",
    "Name:Jhon age:25 grade:D\n",
    "\n",
    "Name:Tom age:27 grade:E\n"
   ]
  },
  {
   "cell_type": "code",
   "execution_count": null,
   "metadata": {},
   "outputs": [],
   "source": []
  }
 ],
 "metadata": {
  "kernelspec": {
   "display_name": "Python 3",
   "language": "python",
   "name": "python3"
  },
  "language_info": {
   "codemirror_mode": {
    "name": "ipython",
    "version": 3
   },
   "file_extension": ".py",
   "mimetype": "text/x-python",
   "name": "python",
   "nbconvert_exporter": "python",
   "pygments_lexer": "ipython3",
   "version": "3.7.3"
  }
 },
 "nbformat": 4,
 "nbformat_minor": 4
}
