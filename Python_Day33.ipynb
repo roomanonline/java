{
 "cells": [
  {
   "cell_type": "markdown",
   "metadata": {},
   "source": [
    "# Important Instructions"
   ]
  },
  {
   "cell_type": "markdown",
   "metadata": {},
   "source": [
    "###### I hope you enjoyed Python classes and have built a good foundation for the logic involved. Now lets solve a few intresting questions to see what kind of logic you can come up with :)"
   ]
  },
  {
   "cell_type": "markdown",
   "metadata": {},
   "source": [
    "###### 1)Write a program that accepts a comma separated sequence of words as input and prints the words in a comma-separated sequence after sorting them alphabetically.\n",
    "\n",
    "Sample Input:\n",
    "\n",
    "Enter input: red,green,blue,white\n",
    "\n",
    "Sample Output:\n",
    "\n",
    "blue,green,red,white\n"
   ]
  },
  {
   "cell_type": "code",
   "execution_count": null,
   "metadata": {},
   "outputs": [],
   "source": []
  },
  {
   "cell_type": "markdown",
   "metadata": {},
   "source": [
    "###### 2) Write a program that accepts a sentence and calculate the number of upper case letters and lower case letters.\n",
    "\n",
    "Sample Input: Enter the sentence: Hello World\n",
    "        \n",
    "Sample Output:\n",
    "    \n",
    "UPPER CASE:  2\n",
    "    \n",
    "LOWER CASE:  8\n"
   ]
  },
  {
   "cell_type": "code",
   "execution_count": null,
   "metadata": {},
   "outputs": [],
   "source": []
  },
  {
   "cell_type": "markdown",
   "metadata": {},
   "source": [
    "###### 3) Write a Python program that accepts a string and calculate the number of digits and letters.\n",
    "Sample Input:\n",
    "\n",
    "Hello321Bye360\n",
    "\n",
    "Sample Output:\n",
    "\n",
    "Digit - 6\n",
    "\n",
    "Letter - 8\n"
   ]
  },
  {
   "cell_type": "code",
   "execution_count": null,
   "metadata": {},
   "outputs": [],
   "source": []
  },
  {
   "cell_type": "markdown",
   "metadata": {},
   "source": [
    "###### 4) By using list comprehension, write a program to print the list after removing numbers which are divisible by 5 and 7 in [12,24,35,70,88,120,155]\n",
    "\n",
    "Sample Input: [12,24,35,70,88,120,155]\n",
    "    \n",
    "Sample Output: [12, 24, 88]\n"
   ]
  },
  {
   "cell_type": "code",
   "execution_count": null,
   "metadata": {},
   "outputs": [],
   "source": []
  }
 ],
 "metadata": {
  "kernelspec": {
   "display_name": "Python 3",
   "language": "python",
   "name": "python3"
  },
  "language_info": {
   "codemirror_mode": {
    "name": "ipython",
    "version": 3
   },
   "file_extension": ".py",
   "mimetype": "text/x-python",
   "name": "python",
   "nbconvert_exporter": "python",
   "pygments_lexer": "ipython3",
   "version": "3.7.3"
  }
 },
 "nbformat": 4,
 "nbformat_minor": 4
}
