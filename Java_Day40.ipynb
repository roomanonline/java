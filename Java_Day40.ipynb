{
 "cells": [
  {
   "cell_type": "markdown",
   "metadata": {},
   "source": [
    "# Important Instructions:"
   ]
  },
  {
   "cell_type": "raw",
   "metadata": {},
   "source": [
    "1)When coding in java using jupyter notebooks there is no need to provide a main method as it is automatically provided.\n",
    "\n",
    "2)Code written within a cell is automatically placed within the main method unless you explicitly place it within another class\n",
    "\n",
    "I hope you enjoyed String classes and have built a good foundation for the logic involved. Now lets solve a few intresting questions to see what kind of logic you can come up with :)"
   ]
  },
  {
   "cell_type": "raw",
   "metadata": {},
   "source": [
    "A student portal provides user to register their profile. During registration the system needs to validate that the user should be located in India. If not the system should throw an exception. Step 1: Create a user defined exception class named “InvalidCountryException”. Step 2: Overload the respective constructors. Step 3: Create a main class “UserRegistration”, add the following method, registerUser– The parameter are String username,String userCountry and add the following logic, • if userCountry is not equal to “India” throw a InvalidCountryException with the message “User Outside India cannot be registered” • if userCountry is equal to “India”, print the message “User registration done successfully” Invoke the method registerUser from the main method with the data specified and see how the program behaves.\n",
    "\n",
    "Sample input and output 1:\n",
    "\n",
    "Enter your name: \n",
    "Geetha\n",
    "Enter your Country : \n",
    "US\n",
    "InvalidCountryException occured\n",
    "User Outside India  cannot be registered\n",
    "\n",
    "Sample input and output  2:\n",
    "\n",
    "Enter your name : \n",
    "Lokesh\n",
    "Enter your Country : \n",
    "India\n",
    "User registration done successfully\n",
    "\n"
   ]
  },
  {
   "cell_type": "code",
   "execution_count": null,
   "metadata": {},
   "outputs": [],
   "source": []
  },
  {
   "cell_type": "raw",
   "metadata": {},
   "source": [
    "Write a program to accept name and age of a person from the keyboard and ensure that the age entered is >=18 and < 60. Display proper error messages. The program must exit gracefully after displaying the error message in case the arguments passed are not proper. (Hint : Create a user defined exception class for handling errors.)\n",
    "\n",
    "Sample input and output 1:\n",
    "\n",
    "Enter your Name and Age:\n",
    "Naveena\n",
    "25\n",
    "\n",
    "Name: Naveena Age: 25\n",
    "\n",
    "Sample input and output 2:\n",
    "\n",
    "Enter your Name and Age:\n",
    "Shankar\n",
    "67\n",
    "\n",
    "Invalid age\n",
    "Exception in thread \"main\" excep.InvalidAgeException\n",
    "\tat excep.CheckAge.main(CheckAge.java:20)\n",
    "\n",
    "\n",
    "\n"
   ]
  },
  {
   "cell_type": "code",
   "execution_count": null,
   "metadata": {},
   "outputs": [],
   "source": []
  }
 ],
 "metadata": {
  "kernelspec": {
   "display_name": "Java",
   "language": "java",
   "name": "java"
  },
  "language_info": {
   "codemirror_mode": "java",
   "file_extension": ".jshell",
   "mimetype": "text/x-java-source",
   "name": "Java",
   "pygments_lexer": "java",
   "version": "11.0.8+10-post-Ubuntu-0ubuntu118.04.1"
  }
 },
 "nbformat": 4,
 "nbformat_minor": 4
}
