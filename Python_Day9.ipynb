{
 "cells": [
  {
   "cell_type": "markdown",
   "metadata": {},
   "source": [
    "# Important Instructions"
   ]
  },
  {
   "cell_type": "markdown",
   "metadata": {},
   "source": [
    "###### I hope you enjoyed Python classes and have built a good foundation for the logic involved. Now lets solve a few intresting questions to see what kind of logic you can come up with :)"
   ]
  },
  {
   "cell_type": "markdown",
   "metadata": {},
   "source": [
    "#### 1)Write a script to define a function named simple_calculator which performs the below operations and returns the output as shown below."
   ]
  },
  {
   "cell_type": "markdown",
   "metadata": {},
   "source": [
    "##### Operations: \n",
    "a)\tAddition of two numbers\n",
    "\n",
    "b)\tSubtraction of two numbers \n",
    "\n",
    "c)\tMultiplication of two numbers\n",
    "\n",
    "d)\tDivision of two numbers"
   ]
  },
  {
   "cell_type": "markdown",
   "metadata": {},
   "source": [
    "##### Sample Input: 10,20"
   ]
  },
  {
   "cell_type": "markdown",
   "metadata": {},
   "source": [
    "###### Sample Output: (30, -10, 200, 0.5)"
   ]
  },
  {
   "cell_type": "code",
   "execution_count": null,
   "metadata": {},
   "outputs": [],
   "source": []
  },
  {
   "cell_type": "markdown",
   "metadata": {},
   "source": [
    "###### 2)Write a script to define a function which takes the input from user and maintains employee_database consist of :\n",
    "   \n",
    "      EmployeeName\n",
    "      Salary \n",
    "      Company Name\n",
    ", and the function should return all the details and display the database as shown below.\n"
   ]
  },
  {
   "cell_type": "markdown",
   "metadata": {},
   "source": [
    "###### Sample Input:\n",
    "\n",
    "Enter Employee Name: jack\n",
    "\n",
    "Enter salary: 5000\n",
    "\n",
    "Enter Company name: hp"
   ]
  },
  {
   "cell_type": "markdown",
   "metadata": {},
   "source": [
    "###### Sample output:\n",
    "\n",
    "Employee Name: jack\n",
    "\n",
    "Salary:  5000\n",
    "\n",
    "Company Name: hp"
   ]
  },
  {
   "cell_type": "markdown",
   "metadata": {},
   "source": [
    "###### Condition: Function should return all the employee details at once."
   ]
  },
  {
   "cell_type": "code",
   "execution_count": null,
   "metadata": {},
   "outputs": [],
   "source": []
  },
  {
   "cell_type": "markdown",
   "metadata": {},
   "source": [
    "###### 3) Write a Script which takes one whole number and one real number input from the user and performs:\n",
    "a)\tThe addition of two numbers, print the output \n",
    "\n",
    "b)\tPrint the type of each numbers respectively."
   ]
  },
  {
   "cell_type": "markdown",
   "metadata": {},
   "source": [
    "###### Sample Input: \n",
    "    \n",
    "Enter first number: 10\n",
    "    \n",
    "Enter second number: 20.5"
   ]
  },
  {
   "cell_type": "markdown",
   "metadata": {},
   "source": [
    "###### Sample Output:\n",
    "    \n",
    "First Number: 10\n",
    "\n",
    "<class 'int'>\n",
    "\n",
    "Second Number: 20.5\n",
    "\n",
    "<class 'float'>\n",
    "\n",
    "Addition of two number is:  30.5\n",
    "\n",
    "<class 'float'>"
   ]
  },
  {
   "cell_type": "markdown",
   "metadata": {},
   "source": [
    "###### 4)Write a script to take input from the user and calculate the factorial of the given input:"
   ]
  },
  {
   "cell_type": "markdown",
   "metadata": {},
   "source": [
    "###### Sample Input: Enter a number: 5"
   ]
  },
  {
   "cell_type": "markdown",
   "metadata": {},
   "source": [
    "###### Sample output:  120"
   ]
  },
  {
   "cell_type": "markdown",
   "metadata": {},
   "source": [
    "###### Hint: math module"
   ]
  },
  {
   "cell_type": "code",
   "execution_count": null,
   "metadata": {},
   "outputs": [],
   "source": []
  }
 ],
 "metadata": {
  "kernelspec": {
   "display_name": "Python 3",
   "language": "python",
   "name": "python3"
  },
  "language_info": {
   "codemirror_mode": {
    "name": "ipython",
    "version": 3
   },
   "file_extension": ".py",
   "mimetype": "text/x-python",
   "name": "python",
   "nbconvert_exporter": "python",
   "pygments_lexer": "ipython3",
   "version": "3.7.3"
  }
 },
 "nbformat": 4,
 "nbformat_minor": 4
}
