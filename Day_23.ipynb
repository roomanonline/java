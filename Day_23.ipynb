{
 "cells": [
  {
   "cell_type": "markdown",
   "metadata": {},
   "source": [
    "# Important Instructions:"
   ]
  },
  {
   "cell_type": "raw",
   "metadata": {},
   "source": [
    "1)When coding in java using jupyter notebooks there is no need to provide a main method as it is automatically provided.\n",
    "\n",
    "2)Code written within a cell is automatically placed within the main method unless you explicitly place it within another class\n",
    "\n",
    "I hope you enjoyed the classes and have built a good foundation for the logic involved. Now lets solve a few intresting questions to see what kind of logic you can come up with :)"
   ]
  },
  {
   "cell_type": "raw",
   "metadata": {},
   "source": [
    "1.Write a program to restrict a class from creating not more than 3 objects."
   ]
  },
  {
   "cell_type": "code",
   "execution_count": null,
   "metadata": {},
   "outputs": [],
   "source": []
  },
  {
   "cell_type": "raw",
   "metadata": {},
   "source": [
    "2.Write a  Employee class, which has three overloaded constructors with different number of signatures. When we create  different objects with different parameters, then respective matching constructor get called.\n",
    "\n",
    "Sample output :\n",
    "Employee Info: \n",
    "ID: 0\n",
    "Name: Not Available\n",
    "Employee Info: \n",
    "ID: 123\n",
    "Name: Not Available\n",
    "Employee Info: \n",
    "ID: 124\n",
    "Name: Vicky"
   ]
  },
  {
   "cell_type": "code",
   "execution_count": null,
   "metadata": {},
   "outputs": [],
   "source": []
  },
  {
   "cell_type": "raw",
   "metadata": {},
   "source": [
    "3.Write a test program for constructor overloading in java"
   ]
  },
  {
   "cell_type": "code",
   "execution_count": null,
   "metadata": {},
   "outputs": [],
   "source": []
  },
  {
   "cell_type": "raw",
   "metadata": {},
   "source": [
    "4.Write a program compare the price of two cars in highestPriceCar(Car c) method. In if condition, to distinguish the incoming car object in parameter and with current car object we have refer the getPrice() method using this keyword.\n"
   ]
  },
  {
   "cell_type": "code",
   "execution_count": null,
   "metadata": {},
   "outputs": [],
   "source": []
  },
  {
   "cell_type": "raw",
   "metadata": {},
   "source": [
    "5.Write a program to accept Employee details like name and designation. The company name should be same for all the employees. Display all the details of employee.\n",
    "\n",
    "Hint: \n",
    " Company name should be static \n",
    " \n",
    "Sample Input:\n",
    " To accept Employee Details\n",
    "\n",
    "Enter name :\n",
    " Kavitha L\n",
    "Enter Designation :\n",
    " Java Faculty\n",
    " \n",
    "Enter name :\n",
    " Bhavya V\n",
    "Enter Designation :\n",
    "AWS Faculty\n",
    "\n",
    "Sample output:\n",
    "\n",
    "Employee Details\n",
    "\n",
    "Name : Kavitha L\tDesignation : Java Company name : Rooman Technologies Pvt Ltd\n",
    "Name : Bhavya V\tDesignation : AWS Company name : Rooman Technologies Pvt Ltd"
   ]
  },
  {
   "cell_type": "code",
   "execution_count": null,
   "metadata": {},
   "outputs": [],
   "source": []
  }
 ],
 "metadata": {
  "kernelspec": {
   "display_name": "Java",
   "language": "java",
   "name": "java"
  },
  "language_info": {
   "codemirror_mode": "java",
   "file_extension": ".jshell",
   "mimetype": "text/x-java-source",
   "name": "Java",
   "pygments_lexer": "java",
   "version": "11.0.6+10-post-Ubuntu-1ubuntu118.04.1"
  }
 },
 "nbformat": 4,
 "nbformat_minor": 4
}
