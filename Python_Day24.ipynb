{
 "cells": [
  {
   "cell_type": "markdown",
   "metadata": {},
   "source": [
    "# Important Instructions"
   ]
  },
  {
   "cell_type": "markdown",
   "metadata": {},
   "source": [
    "###### I hope you enjoyed Python classes and have built a good foundation for the logic involved. Now lets solve a few intresting questions to see what kind of logic you can come up with :)\n"
   ]
  },
  {
   "cell_type": "markdown",
   "metadata": {},
   "source": [
    "###### 1)Write a regular expression to return all the date from given string\n",
    "\n",
    "<b>“India got independence on 15/08/1945\n",
    "    \n",
    "and became republic with the adoption of the Constitution on 26/01/1950”</b>\n"
   ]
  },
  {
   "cell_type": "code",
   "execution_count": null,
   "metadata": {},
   "outputs": [],
   "source": []
  },
  {
   "cell_type": "markdown",
   "metadata": {},
   "source": [
    "###### Write a regular expression Check for valid airtel numbers in a list:\n",
    "\n",
    "<b>[909987879,9099878797,919987879,9699878796,9099]\n",
    "\n",
    "Constraints: Valid Airtel Number starts with 9099\n",
    "    \n",
    "\n",
    "Sample Output:</b>\n",
    "\n",
    "909987879 Invalid Number\n",
    "\n",
    "9099878797  Valid Airtel number\n",
    "\n",
    "919987879 Invalid Number\n",
    "\n",
    "9699878796 Invalid Number\n",
    "\n",
    "9099 Invalid Number\n",
    "\n",
    "\n"
   ]
  },
  {
   "cell_type": "code",
   "execution_count": null,
   "metadata": {},
   "outputs": [],
   "source": []
  },
  {
   "cell_type": "markdown",
   "metadata": {},
   "source": [
    "###### Write a regular expression to return Words which begin with vowels from the given string ” being alive is the greatest gift of life”."
   ]
  },
  {
   "cell_type": "code",
   "execution_count": null,
   "metadata": {},
   "outputs": [],
   "source": []
  },
  {
   "cell_type": "markdown",
   "metadata": {},
   "source": [
    "###### Write a regular expression to calculate which year of Indian Independence day we celebrate in 2020 ?\n",
    "\n",
    "<b>Sample Input:</b> India got Independence on 1947/08/15\n",
    "    \n",
    "<b>Sample Output:</b> 73 years\n"
   ]
  },
  {
   "cell_type": "code",
   "execution_count": null,
   "metadata": {},
   "outputs": [],
   "source": []
  }
 ],
 "metadata": {
  "kernelspec": {
   "display_name": "Python 3",
   "language": "python",
   "name": "python3"
  },
  "language_info": {
   "codemirror_mode": {
    "name": "ipython",
    "version": 3
   },
   "file_extension": ".py",
   "mimetype": "text/x-python",
   "name": "python",
   "nbconvert_exporter": "python",
   "pygments_lexer": "ipython3",
   "version": "3.7.3"
  }
 },
 "nbformat": 4,
 "nbformat_minor": 4
}
