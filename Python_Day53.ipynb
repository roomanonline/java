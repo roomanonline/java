{
 "cells": [
  {
   "cell_type": "markdown",
   "metadata": {},
   "source": [
    "# Important Instructions"
   ]
  },
  {
   "cell_type": "markdown",
   "metadata": {},
   "source": [
    "###### I hope you enjoyed Python classes and have built a good foundation for the logic involved. Now lets solve a few intresting questions to see what kind of logic you can come up with :)"
   ]
  },
  {
   "cell_type": "markdown",
   "metadata": {},
   "source": [
    "###### 1) Create a class named 'Rectangle' with two data members 'length' and 'breadth' and two methods to print the area and perimeter of the rectangle respectively. Its constructor(__init__()) having parameters for length and breadth is used to initialize length and breadth of the rectangle.Let class 'Square' inherit the 'Rectangle' class with its constructor having a parameter for its side (suppose length) calling the constructor of its parent class as 'super(length, length)'. Print the area and perimeter of a rectangle and a square.\n",
    "\n",
    "Sample Input:\n",
    "\n",
    "Square(4)\n",
    "\n",
    "Rectangle(2,4)\n",
    "\n",
    "Sample Output:\n",
    "\n",
    "Area of Square is: 16\n",
    "\n",
    "Area of Rectangle is: 8\n",
    "\n"
   ]
  },
  {
   "cell_type": "code",
   "execution_count": null,
   "metadata": {},
   "outputs": [],
   "source": []
  },
  {
   "attachments": {
    "image.png": {
     "image/png": "[encoded data removed]"
    }
   },
   "cell_type": "markdown",
   "metadata": {},
   "source": [
    "2) ![image.png](attachment:image.png)"
   ]
  },
  {
   "cell_type": "markdown",
   "metadata": {},
   "source": [
    "###### Create a class Employee_details and a subclass Worker ,where the parent class takes name, qualification and experience as input and calculates the salary of worker based on experience and average salary of Company.\n",
    "\n",
    "<b>If worker have more the 2 years of experience, 15% of salary Hike\n",
    "    \n",
    "If worker have more than 5 years of experience , 30% of salary Hike \n",
    "    \n",
    "As per the company norms, Freshers will get the average salary of 15000rs\n",
    "    \n",
    "Hint: use super()</b>\n",
    "\n",
    "Sample Input:\n",
    "\n",
    "Worker('Michael','M.Tech',\"Emp_010\",5)\n",
    "\n",
    "Worker('Jhon','B.Tech',\"Emp_012\",2)\n",
    "\n",
    "Worker('Raj','B.Tech',\"Emp_013\",0)\n",
    "\n",
    "Sample Output:\n",
    "\n",
    "Michael : Emp_010\n",
    "\n",
    "Salary 19500.0\n",
    "\n",
    "Jhon : Emp_012\n",
    "\n",
    "Salary 17250.0\n",
    "\n",
    "Raj : Emp_013\n",
    "\n",
    "Salary 15000\n",
    "\n"
   ]
  },
  {
   "cell_type": "code",
   "execution_count": null,
   "metadata": {},
   "outputs": [],
   "source": []
  }
 ],
 "metadata": {
  "kernelspec": {
   "display_name": "Python 3",
   "language": "python",
   "name": "python3"
  },
  "language_info": {
   "codemirror_mode": {
    "name": "ipython",
    "version": 3
   },
   "file_extension": ".py",
   "mimetype": "text/x-python",
   "name": "python",
   "nbconvert_exporter": "python",
   "pygments_lexer": "ipython3",
   "version": "3.7.3"
  }
 },
 "nbformat": 4,
 "nbformat_minor": 4
}
