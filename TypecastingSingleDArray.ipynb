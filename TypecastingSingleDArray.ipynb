{
 "cells": [
  {
   "cell_type": "markdown",
   "metadata": {},
   "source": [
    "# Important Instructions:"
   ]
  },
  {
   "cell_type": "markdown",
   "metadata": {},
   "source": [
    "1)When coding in java using jupyter notebooks there is no need to provide a main method as it is automatically provided.\n",
    "\n",
    "2)Code written within a cell is automatically placed within the main method unless you explicitly place it within another class\n",
    "\n",
    "I hope you enjoyed the Typecasting,Array classes and have built a good foundation for the logic involved. Now lets solve a few intresting questions to see what kind of logic you can come up with :)\n"
   ]
  },
  {
   "cell_type": "code",
   "execution_count": null,
   "metadata": {},
   "outputs": [],
   "source": [
    "1.Write a program that reads an integer between 0 and 1000 and  adds  all the digits in the integer.\n",
    "  For example, if an integer is 932, the  sum of all its digits is 14.\n",
    "\n",
    "Hint: Use the % operator to extract digits, and use the / operator to remove the extracted digit.\n",
    "      For instance, 932 % 10 = 2 and 932 / 10 = 93."
   ]
  },
  {
   "cell_type": "code",
   "execution_count": null,
   "metadata": {},
   "outputs": [],
   "source": []
  },
  {
   "cell_type": "raw",
   "metadata": {},
   "source": [
    "2.Write a program to input an interger number and determine which  data types is suitable to store that number.If there are multiple suitable datatypes, list them all in order.\n",
    "   \n",
    "Sample Input :\n",
    "-150\n",
    "150000\n",
    "1500000000\n",
    "213333333333333333333333333333333333\n",
    "-100000000000000\n",
    "\n",
    "Sample Output :\n",
    "-150 can be fitted in: *short  *int  * long\n",
    "150000 can be fitted in: *int  *long  \n",
    "1500000000 can be fitted in: *int  *long  \n",
    "213333333333333333333333333333333333 can't be fitted anywhere.\n",
    "-100000000000000 can be fitted in: *long  "
   ]
  },
  {
   "cell_type": "code",
   "execution_count": null,
   "metadata": {},
   "outputs": [],
   "source": []
  },
  {
   "cell_type": "markdown",
   "metadata": {},
   "source": [
    "3.Write a java program which accepts a character as a input and dispalys its corresponding ASCII value.\n",
    "             \n",
    "Sample Input  : Enter a character : $\n",
    "Sample Output : 36"
   ]
  },
  {
   "cell_type": "code",
   "execution_count": null,
   "metadata": {},
   "outputs": [],
   "source": []
  },
  {
   "cell_type": "markdown",
   "metadata": {},
   "source": [
    "4.Define a class named ArraySum. In the class aninteger array of N elements is created and N integers are read into it from the keyboard. The sum of these integers, is the displayed as output.\n",
    "  \n",
    "Sample Input : \n",
    "\n",
    "Enter limit (i.e, N) :  5\n",
    "Enter num 1 : 6\n",
    "Enter num 2 : 9\n",
    "           .\n",
    "           .\n",
    "Enter num  5 : 100\n",
    "\n",
    "Sample Output :\n",
    "Sum of the numbers is : 145  "
   ]
  },
  {
   "cell_type": "code",
   "execution_count": null,
   "metadata": {},
   "outputs": [],
   "source": []
  },
  {
   "cell_type": "raw",
   "metadata": {},
   "source": [
    "5.Define a class named MaxMin. In the class an integer array of N elements is created and N integers are read into it from keyboard. The max and min of these integers, are displayed as output.\n",
    "\n",
    "Sample Input :\n",
    "\n",
    "Enter the limit : 10\n",
    "\n",
    "Enter num 1 : 45 \n",
    "Enter num 2 : 7\n",
    ".\n",
    ".\n",
    "Enter num 10 : 34\n",
    "\n",
    "Sample output : \n",
    "Max number is….45 Min number is….7"
   ]
  },
  {
   "cell_type": "code",
   "execution_count": null,
   "metadata": {},
   "outputs": [],
   "source": []
  },
  {
   "cell_type": "raw",
   "metadata": {},
   "source": [
    "6.Define a class named DuplicateFinder. In the class an integer array of N elements is created and N integers are read into it from keyboard. Print all the elements of the array and its duplicate elements along with their frequency of occurrence are printed.\n",
    "Sample Input:\n",
    "Enter the limit : 10\n",
    "\n",
    "Enter num 1 : 4 \n",
    "Enter num 2 : 7\n",
    "…\n",
    "Enter num 5 : 7\n",
    "…\n",
    "Enter num 10 : 45\n",
    "\n",
    "Sample output:\n",
    "Elements:45,7,....,45\n",
    "Duplicate Element      Frequency of Occurrence\n",
    "     7                          2\n",
    "    45                          2"
   ]
  },
  {
   "cell_type": "code",
   "execution_count": null,
   "metadata": {},
   "outputs": [],
   "source": []
  },
  {
   "cell_type": "raw",
   "metadata": {},
   "source": [
    "7.Define a class named  Merger. In the class declare two arrays and fill them with N integer elements collected from the keyboard. Declare a third array, in which first two arrays are merged and printed as output.\n",
    "Sample input\n",
    "First array : [2 4 6]\n",
    "Second array: [1 3 5]\n",
    "\n",
    "Sample output :\n",
    "Merged array : 2 4 6 1 3 5"
   ]
  },
  {
   "cell_type": "code",
   "execution_count": null,
   "metadata": {},
   "outputs": [],
   "source": []
  },
  {
   "cell_type": "raw",
   "metadata": {},
   "source": [
    "8.How to find the missing number in integer array of 1 to 100? \n",
    "\n",
    "This is one of the most simple array problems you will see, mostly asked in a technical round of Interview. You have given an integer array which contains numbers from 1 to 100 but one number is missing, you need to write a Java program to find that missing number in an array. You cannot use any open source library or Java API methods(built-in methods) which solves this problem. \n",
    "Hint:One trick to solve this problem is to calculate sum of all numbers in the array and compare with expected sum, the difference would be the missing number. However there can be other logics to achieve the same.\n",
    "\n",
    "Sample input : [1,2,4,5]\n",
    "Sample output : 3"
   ]
  },
  {
   "cell_type": "code",
   "execution_count": null,
   "metadata": {},
   "outputs": [],
   "source": []
  },
  {
   "cell_type": "raw",
   "metadata": {},
   "source": [
    "9.Write a java program to check the equality of two arrays?\n",
    "\n",
    "Sample input : \n",
    "array1= [1,2,4,5]\n",
    "array2= [1,2,4,5]\n",
    "Sample output : Arrays are equal"
   ]
  },
  {
   "cell_type": "code",
   "execution_count": null,
   "metadata": {},
   "outputs": [],
   "source": []
  },
  {
   "cell_type": "raw",
   "metadata": {},
   "source": [
    "10.Write a java program to separate zeros from non-zeros in an integer array? \n",
    "\n",
    "Sample input: [12, 0, 7, 0, 8, 0, 3]\n",
    "Sample output : [12, 7, 8, 3, 0, 0, 0]"
   ]
  },
  {
   "cell_type": "code",
   "execution_count": null,
   "metadata": {},
   "outputs": [],
   "source": []
  },
  {
   "cell_type": "raw",
   "metadata": {},
   "source": [
    "11.Write a program to print the element of an array that has occurred the highest number  of times\n",
    "\n",
    " Sample input : [10,20,10,30,40,100,99] \n",
    " Sample output :10"
   ]
  },
  {
   "cell_type": "code",
   "execution_count": null,
   "metadata": {},
   "outputs": [],
   "source": []
  }
 ],
 "metadata": {
  "kernelspec": {
   "display_name": "Java",
   "language": "java",
   "name": "java"
  },
  "language_info": {
   "codemirror_mode": "java",
   "file_extension": ".jshell",
   "mimetype": "text/x-java-source",
   "name": "Java",
   "pygments_lexer": "java",
   "version": "11.0.6+10-post-Ubuntu-1ubuntu118.04.1"
  }
 },
 "nbformat": 4,
 "nbformat_minor": 4
}
