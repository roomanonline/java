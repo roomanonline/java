{
 "cells": [
  {
   "cell_type": "markdown",
   "metadata": {},
   "source": [
    "# Important Instructions"
   ]
  },
  {
   "cell_type": "markdown",
   "metadata": {},
   "source": [
    "###### I hope you enjoyed Python classes and have built a good foundation for the logic involved. Now lets solve a few intresting questions to see what kind of logic you can come up with :)"
   ]
  },
  {
   "cell_type": "markdown",
   "metadata": {},
   "source": [
    "###### Instruction: Write the below code using def() as well as lambda()\n",
    "\n",
    "Given a list of heterogeneous elements, Write a program to filter and print a separate list of all:\n",
    "\n",
    "a)Integer values from the given list \n",
    "\n",
    "b)String values from the given list \n",
    "\n",
    "c)Complex values from the given list\n",
    "\n",
    "<b>Sample Input:</b>\n",
    "\n",
    "[10,20.5,30+5j,'A',\"Python\",1,5,4,89,12,45,36]\n",
    "\n",
    "<b>Sample Output:</b>\n",
    "\n",
    "Integer value: [10, 1, 5, 4, 89, 12, 45, 36]\n",
    "\n",
    "Complex values: [(30+5j)]\n",
    "\n",
    "String values: ['A', 'python']\n"
   ]
  },
  {
   "cell_type": "code",
   "execution_count": null,
   "metadata": {},
   "outputs": [],
   "source": []
  },
  {
   "cell_type": "code",
   "execution_count": null,
   "metadata": {},
   "outputs": [],
   "source": []
  },
  {
   "cell_type": "markdown",
   "metadata": {},
   "source": [
    "###### Instruction: Write the below code using def() as well as lambda()\n",
    "\n",
    "Given the list of integer elements write a script to find the product of all the numbers in the list and find if the result is\n",
    "\n",
    "even product or odd product. \n",
    "\n",
    "<b>Sample Input:</b>\n",
    "\n",
    "[10,12,13,45,6,80,7]\n",
    "\n",
    "<b>Sample Output:</b>\n",
    "\n",
    "Total Product: 235872000\n",
    "\n",
    "235872000 is an Even Product\n"
   ]
  },
  {
   "cell_type": "code",
   "execution_count": null,
   "metadata": {},
   "outputs": [],
   "source": []
  },
  {
   "cell_type": "code",
   "execution_count": null,
   "metadata": {},
   "outputs": [],
   "source": []
  },
  {
   "cell_type": "markdown",
   "metadata": {},
   "source": [
    "###### Instruction: Write the below code using def() as well as lambda()\n",
    "\n",
    "Given the list which have whole numbers and real numbers, write a script to get a separate list of , \n",
    "\n",
    "a)Remainders, when the numbers in the list is divided by 10\n",
    "\n",
    "b)Types of each remainder.\n",
    "\n",
    "<b>Sample Input:</b>\n",
    "\n",
    "lst = [10,25.5,8.6,79,54,9.6]\n",
    "\n",
    "<b>Sample Output:</b>\n",
    "\n",
    "List of Remainder: [0, 5.5, 8.6, 9, 4, 9.6]\n",
    "\n",
    "List of Remainder Type: [<class 'int'>, <class 'float'>, <class 'float'>, <class 'int'>, <class 'int'>, <class 'float'>]\n"
   ]
  },
  {
   "cell_type": "code",
   "execution_count": null,
   "metadata": {},
   "outputs": [],
   "source": []
  },
  {
   "cell_type": "code",
   "execution_count": null,
   "metadata": {},
   "outputs": [],
   "source": []
  },
  {
   "cell_type": "markdown",
   "metadata": {},
   "source": [
    "###### Given the list which have whole numbers and real numbers,, write a script to:\n",
    "\n",
    "a)Map all the Quotients, when the numbers in the list is divided by 5\n",
    "\n",
    "b)Filter all the Quotients, if the quotient is greater than 5\n",
    "\n",
    "c)Find the sum of all Quotients, which is greater than 5.\n",
    "\n",
    "d)Print the type of total sum.\n",
    "\n",
    "<b>Sample Input:</b>\n",
    "\n",
    "[10,25.5,8.6,79,54,9.6]\n",
    "\n",
    "<b>Sample Output:</b>\n",
    "\n",
    "List of Quotients : [2.0, 5.1, 1.72, 15.8, 10.8, 1.92]\n",
    "\n",
    "List of Quotients greater than 5: [5.1, 15.8, 10.8]\n",
    "\n",
    "Total Sum of all Quotients: 31.7\n",
    "\n",
    "Sum type <class 'float'>\n"
   ]
  },
  {
   "cell_type": "code",
   "execution_count": null,
   "metadata": {},
   "outputs": [],
   "source": []
  }
 ],
 "metadata": {
  "kernelspec": {
   "display_name": "Python 3",
   "language": "python",
   "name": "python3"
  },
  "language_info": {
   "codemirror_mode": {
    "name": "ipython",
    "version": 3
   },
   "file_extension": ".py",
   "mimetype": "text/x-python",
   "name": "python",
   "nbconvert_exporter": "python",
   "pygments_lexer": "ipython3",
   "version": "3.7.3"
  }
 },
 "nbformat": 4,
 "nbformat_minor": 4
}
