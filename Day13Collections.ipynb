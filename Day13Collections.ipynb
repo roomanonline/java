{
 "cells": [
  {
   "cell_type": "markdown",
   "metadata": {},
   "source": [
    "# Important Instructions:\n",
    "\n",
    "1)When coding in java using jupyter notebooks there is no need to provide a main method as it is automatically provided.\n",
    "\n",
    "2)Code written within a cell is automatically placed within the main method unless you explicitly place it within another class\n",
    "\n",
    "I hope you enjoyed the classes and have built a good foundation for the logic involved. Now lets solve a few intresting questions to see what kind of logic you can come up with :)\n"
   ]
  },
  {
   "cell_type": "markdown",
   "metadata": {},
   "source": [
    "### Note : You can add and remove any kind of data. Sample output is shown with Strings"
   ]
  },
  {
   "cell_type": "raw",
   "metadata": {},
   "source": [
    "1. Write a program to traverse (or iterate) ArrayList and get sub list from same ArrayList\n",
    "\n",
    "Sample output:\n",
    "\n",
    "ArrayList elements: \n",
    "Rooman\n",
    "Classroom\n",
    "Canvas\n",
    "LMS\n",
    "\n",
    "Sub List: [Canvas, LMS]"
   ]
  },
  {
   "cell_type": "code",
   "execution_count": null,
   "metadata": {},
   "outputs": [],
   "source": []
  },
  {
   "cell_type": "raw",
   "metadata": {},
   "source": [
    "2. Write a program to add element at particular index of ArrayList and  to remove element from specified index of ArrayList\n",
    "\n",
    "Sample output:\n",
    "\n",
    "Array list at begining: \n",
    "\n",
    "Rajajinagar HO\n",
    "Electronic City\n",
    "Mahadevpura\n",
    "Chikkaballapur\n",
    "\n",
    "ArrayList after adding String Nelamangala:[Rajajinagar HO, Electronic City, Nelamangala, Mahadevpura, Chikkaballapur]\n",
    "\n",
    "ArrayList after adding String Davangere:[Davangere, Rajajinagar HO, Electronic City, Nelamangala, Mahadevpura, Chikkaballapur]\n",
    "\n",
    "ArrayList After removing some elements:\n",
    "\n",
    "Rajajinagar HO\n",
    "Electronic City\n",
    "Chikkaballapur"
   ]
  },
  {
   "cell_type": "code",
   "execution_count": null,
   "metadata": {},
   "outputs": [],
   "source": []
  },
  {
   "cell_type": "raw",
   "metadata": {},
   "source": [
    "3. How To Convert ArrayList To String Array\n",
    "\n",
    "Method 1:\n",
    "\n",
    "a. Obtain the ArrayList size using size() method\n",
    "b. Bring each element of the list using get() method\n",
    "c. Assigned each element to corresponding array element using assignment = operator.\n",
    "\n",
    "Method 2:\n",
    "\n",
    "convert ArrayList to String array using toArray() method."
   ]
  },
  {
   "cell_type": "code",
   "execution_count": null,
   "metadata": {},
   "outputs": [],
   "source": []
  },
  {
   "cell_type": "raw",
   "metadata": {},
   "source": [
    "4.\tWhy is an ArrayList better than an array for a toDoList program mentioned below?\n",
    "public class ToDoListArrays\n",
    "{\n",
    "   public static void main(String[] args)\n",
    "   {\n",
    "      // Rewrite this code to use an ArrayList instead of an array\n",
    "      String[] toDoList = new String[3];\n",
    "      toDoList[0] = \"Do homework\";\n",
    "      toDoList[1] = \"Help make dinner\";\n",
    "      toDoList[2] = \"Call grandma\";\n",
    "\n",
    "      // changing element 1\n",
    "      toDoList[1] = \"Order pizza\";\n",
    "System.out.println(toDoList.length + \" things to do!\");\n",
    "      System.out.println(\"Here's the first thing to do: \"+ toDoList[0] );\n",
    "      // remove item 0 and move everything down\n",
    "      //  (this can be done in 1 command with ArrayList)\n",
    "      toDoList[0] = toDoList[1];\n",
    "      toDoList[1] = toDoList[2];\n",
    "      toDoList[2] = \"\";\n",
    "System.out.println(\"Here's the next thing to do: \"  + toDoList[0] );\n",
    "   }\n",
    "}\n",
    "\n",
    "Sample output using Arrays:\n",
    "\n",
    "3 things to do!\n",
    "Here's the first thing to do: Do homework\n",
    "Here's the next thing to do: Do homework //because it is overwritten\n"
   ]
  },
  {
   "cell_type": "markdown",
   "metadata": {},
   "source": [
    "#### Now Rewrite the program using ArrayList class.\n",
    "\n",
    "Sample output using ArrayList:\n",
    "\n",
    "4 things to do!\n",
    "Here's the first thing to do: Do homework\n",
    "Remaining to do list : [Order pizza, Help make dinner, Call grandma]"
   ]
  },
  {
   "cell_type": "code",
   "execution_count": null,
   "metadata": {},
   "outputs": [],
   "source": []
  },
  {
   "cell_type": "raw",
   "metadata": {},
   "source": [
    "5. Write a program to Create and fill Linked List of Integers. And perform operations like add and remove elements from Linked List.\n",
    "\n",
    "Sample output:\n",
    "\n",
    "Original List : [10, 30, 50]\n",
    "After modifying first and second index : [10, 76, 30, 80, 50]\n",
    "After removing third  index : [10, 76, 30, 50]\n",
    "Final list, printed using advanced for loop : 10 76 30 50"
   ]
  },
  {
   "cell_type": "code",
   "execution_count": null,
   "metadata": {},
   "outputs": [],
   "source": []
  },
  {
   "cell_type": "raw",
   "metadata": {},
   "source": [
    "6. Write a program to illustrate ArrayDeque class, iterate the elements.\n",
    "Perform push(),pop(),peek(), offerFirst() and pollLast() methods on the same.\n",
    "\n",
    "Sample output:\n",
    "\n",
    "Original elements, after pushing :\n",
    "12\n",
    "53\n",
    "99\n",
    "1000\n",
    "500\n",
    "10\n",
    "Peek Operation is performed : 12\n",
    "Pop Operation is performed : 12\n",
    "Poll First Operation is performed : 53\n",
    "Poll Last Operation is performed : 10\n",
    "Final Queue...\n",
    "99\n",
    "1000\n",
    "500"
   ]
  },
  {
   "cell_type": "code",
   "execution_count": null,
   "metadata": {},
   "outputs": [],
   "source": []
  },
  {
   "cell_type": "raw",
   "metadata": {},
   "source": [
    "7. Write a program that uses isEmpty, size and clear of ArrayDeque class."
   ]
  },
  {
   "cell_type": "code",
   "execution_count": null,
   "metadata": {},
   "outputs": [],
   "source": []
  },
  {
   "cell_type": "raw",
   "metadata": {},
   "source": [
    "8. Write a Java program to iterate through all elements in a LinkedList starting at the specified position.\n",
    "\n",
    "Sample output:\n",
    "Original LinkedList..\n",
    "[Red, Green, Black, White, Pink]\n",
    "\n",
    "LinkedList after starting from index 2..\n",
    "\n",
    "Black\n",
    "White\n",
    "Pink"
   ]
  },
  {
   "cell_type": "code",
   "execution_count": null,
   "metadata": {},
   "outputs": [],
   "source": []
  },
  {
   "cell_type": "raw",
   "metadata": {},
   "source": [
    "9. Write a Java program to retrieve but not remove  the first  and last element of a LinkedList\n",
    "\n",
    "Sample output:\n",
    "\n",
    "Original LinkedList: [Red, Green, Black, White, Pink]\n",
    "First element in the list: Red\n",
    "Last element in the list: Pink\n",
    "LinkedList after retrieving first and last element: \n",
    "[Red, Green, Black, White, Pink]"
   ]
  },
  {
   "cell_type": "code",
   "execution_count": null,
   "metadata": {},
   "outputs": [],
   "source": []
  },
  {
   "cell_type": "raw",
   "metadata": {},
   "source": [
    "10.\tWrite a Java program to convert a LinkedList to ArrayList."
   ]
  },
  {
   "cell_type": "code",
   "execution_count": null,
   "metadata": {},
   "outputs": [],
   "source": []
  }
 ],
 "metadata": {
  "kernelspec": {
   "display_name": "Java",
   "language": "java",
   "name": "java"
  },
  "language_info": {
   "codemirror_mode": "java",
   "file_extension": ".jshell",
   "mimetype": "text/x-java-source",
   "name": "Java",
   "pygments_lexer": "java",
   "version": "11.0.7+10-post-Ubuntu-2ubuntu218.04"
  }
 },
 "nbformat": 4,
 "nbformat_minor": 4
}
