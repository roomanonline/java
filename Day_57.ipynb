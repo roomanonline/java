{
 "cells": [
  {
   "cell_type": "markdown",
   "metadata": {},
   "source": [
    "# Important Instructions:"
   ]
  },
  {
   "cell_type": "raw",
   "metadata": {},
   "source": [
    "1)When coding in java using jupyter notebooks there is no need to provide a main method as it is automatically provided.\n",
    "\n",
    "2)Code written within a cell is automatically placed within the main method unless you explicitly place it within another class\n",
    "\n",
    "I hope you enjoyed the classes and have built a good foundation for the logic involved. Now lets solve a few intresting questions to see what kind of logic you can come up with :)"
   ]
  },
  {
   "cell_type": "raw",
   "metadata": {},
   "source": [
    "1.\tWrite a program to create and traverse elements from  LinkedHashSet class. Use remove(),contains() methods.\n",
    "\n",
    "Sample output :\n",
    "Size of LinkedHashSet=5\n",
    "Original LinkedHashSet:[Maruti, BMW, Honda, Audi, WalksWagon]\n",
    "Removing Audi from LinkedHashSet: true\n",
    "Trying to Remove Z which is not present: false\n",
    "Checking if Maruti is present=true\n",
    "Updated LinkedHashSet: [Maruti, BMW, Honda, WalksWagon]"
   ]
  },
  {
   "cell_type": "code",
   "execution_count": null,
   "metadata": {},
   "outputs": [],
   "source": []
  },
  {
   "cell_type": "raw",
   "metadata": {},
   "source": [
    "2.\tWrite a program to compare two LinkedHashSet and retain elements which are same on both LinkedHashSet\n",
    "Sample output :\n",
    "Set elements : [first, second, third, apple, rat]\n",
    "Sub set elements : [rat, second, first]\n",
    "After retaining LinkedHashSet elements: [first, second, rat]\n"
   ]
  },
  {
   "cell_type": "code",
   "execution_count": null,
   "metadata": {},
   "outputs": [],
   "source": []
  }
 ],
 "metadata": {
  "kernelspec": {
   "display_name": "Java",
   "language": "java",
   "name": "java"
  },
  "language_info": {
   "codemirror_mode": "java",
   "file_extension": ".jshell",
   "mimetype": "text/x-java-source",
   "name": "Java",
   "pygments_lexer": "java",
   "version": "11.0.7+10-post-Ubuntu-2ubuntu218.04"
  }
 },
 "nbformat": 4,
 "nbformat_minor": 4
}
