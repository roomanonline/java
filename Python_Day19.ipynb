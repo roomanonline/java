{
 "cells": [
  {
   "cell_type": "markdown",
   "metadata": {},
   "source": [
    "# Important Instructions"
   ]
  },
  {
   "cell_type": "markdown",
   "metadata": {},
   "source": [
    "I hope you enjoyed Python classes and have built a good foundation for the logic involved. Now lets solve a few intresting questions to see what kind of logic you can come up with :)"
   ]
  },
  {
   "cell_type": "raw",
   "metadata": {},
   "source": [
    "1) Write a Python function to convert a given string to all uppercase if it contains at least 2 uppercase characters in the first 4 characters\n",
    "    Sample input:\n",
    "    Python\n",
    "    PyThon\n",
    "    Sample output: \n",
    "    Python\n",
    "    PYTHON\n"
   ]
  },
  {
   "cell_type": "code",
   "execution_count": null,
   "metadata": {},
   "outputs": [],
   "source": []
  },
  {
   "cell_type": "raw",
   "metadata": {},
   "source": [
    "2) Write a Python program to find the first non-repeating character in given string.\n",
    "    Sample input:\n",
    "    abcdef\n",
    "    abcabcdef\n",
    "    aabbbcc\n",
    "    Sample output:\n",
    "    a\n",
    "    d\n",
    "    None\n"
   ]
  },
  {
   "cell_type": "code",
   "execution_count": null,
   "metadata": {},
   "outputs": [],
   "source": []
  },
  {
   "cell_type": "raw",
   "metadata": {},
   "source": [
    "3) Write a Python program to remove spaces from a given string.\n",
    "    Sample input: p  y  t h on\n",
    "    Sample output: python\n"
   ]
  },
  {
   "cell_type": "code",
   "execution_count": null,
   "metadata": {},
   "outputs": [],
   "source": []
  },
  {
   "cell_type": "raw",
   "metadata": {},
   "source": [
    "4) Write a Python program to swap cases of a given string without using inbuilt function swapcase()\n",
    "    Sample input: \n",
    "    Python Exercises\n",
    "    JaVa\n",
    "    Sample output:\n",
    "    pYTHON eXERCISES\n",
    "    jAvA\n"
   ]
  },
  {
   "cell_type": "code",
   "execution_count": null,
   "metadata": {},
   "outputs": [],
   "source": []
  }
 ],
 "metadata": {
  "kernelspec": {
   "display_name": "Python 3",
   "language": "python",
   "name": "python3"
  },
  "language_info": {
   "codemirror_mode": {
    "name": "ipython",
    "version": 3
   },
   "file_extension": ".py",
   "mimetype": "text/x-python",
   "name": "python",
   "nbconvert_exporter": "python",
   "pygments_lexer": "ipython3",
   "version": "3.7.3"
  }
 },
 "nbformat": 4,
 "nbformat_minor": 4
}
