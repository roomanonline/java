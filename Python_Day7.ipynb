{
 "cells": [
  {
   "cell_type": "markdown",
   "metadata": {},
   "source": [
    "# Important Instructions"
   ]
  },
  {
   "cell_type": "raw",
   "metadata": {},
   "source": [
    "I hope you enjoyed Python classes and have built a good foundation for the logic involved. Now lets solve a few intresting questions to see what kind of logic you can come up with :)"
   ]
  },
  {
   "cell_type": "raw",
   "metadata": {},
   "source": [
    "1)Write a Script to define a function that can accept two arguments name and age and print its output.\n",
    "\n",
    "Hint: Positional Arguments ."
   ]
  },
  {
   "cell_type": "code",
   "execution_count": null,
   "metadata": {},
   "outputs": [],
   "source": []
  },
  {
   "cell_type": "raw",
   "metadata": {},
   "source": [
    "2)Write a script to define a  function which calculates the cube of 10 and print the output.\n",
    "\n",
    "Hint: Use the power off operator i.e. m**n."
   ]
  },
  {
   "cell_type": "code",
   "execution_count": null,
   "metadata": {},
   "outputs": [],
   "source": []
  },
  {
   "cell_type": "raw",
   "metadata": {},
   "source": [
    "3)Write a script to define a function employee_details() and do the following:\n",
    "   a)Function should accept employee name, and salary and print the output.\n",
    "   b)Function should accept employee name and if the salary is missing in function call it should show it as 10000"
   ]
  },
  {
   "cell_type": "code",
   "execution_count": null,
   "metadata": {},
   "outputs": [],
   "source": []
  },
  {
   "cell_type": "raw",
   "metadata": {},
   "source": [
    "4) Write a script to define a  function  which accepts five programming language as input and displays the output as shown below:\n",
    "Sample Input: “Python” “C” “Java” “C++” “C#” \n",
    "Sample Output: ('Python', 'C', 'Java', 'C++', 'C#') Programming Language"
   ]
  },
  {
   "cell_type": "code",
   "execution_count": null,
   "metadata": {},
   "outputs": [],
   "source": []
  },
  {
   "cell_type": "raw",
   "metadata": {},
   "source": [
    "5)Write a script to define a function which maintains the dictionary of following data:\n",
    "\n",
    "    Data: \n",
    "          Rose_is = \"Red\"\n",
    "          Voilets_are = \"Blue\"\n",
    "          Sugar_is = \"Sweet\"\n",
    "          Cashews_are = \"Nuts\"\n",
    "          Onions = \"Stink\"\n",
    "\n",
    "Hint: Variable Keyword Length Argument."
   ]
  },
  {
   "cell_type": "code",
   "execution_count": null,
   "metadata": {},
   "outputs": [],
   "source": []
  }
 ],
 "metadata": {
  "kernelspec": {
   "display_name": "Python 3",
   "language": "python",
   "name": "python3"
  },
  "language_info": {
   "codemirror_mode": {
    "name": "ipython",
    "version": 3
   },
   "file_extension": ".py",
   "mimetype": "text/x-python",
   "name": "python",
   "nbconvert_exporter": "python",
   "pygments_lexer": "ipython3",
   "version": "3.7.3"
  }
 },
 "nbformat": 4,
 "nbformat_minor": 4
}
