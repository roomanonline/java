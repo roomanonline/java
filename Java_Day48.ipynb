{
 "cells": [
  {
   "cell_type": "markdown",
   "metadata": {},
   "source": [
    "# Important Instructions:"
   ]
  },
  {
   "cell_type": "raw",
   "metadata": {},
   "source": [
    "1)When coding in java using jupyter notebooks there is no need to provide a main method as it is automatically provided.\n",
    "\n",
    "2)Code written within a cell is automatically placed within the main method unless you explicitly place it within another class\n",
    "\n",
    "I hope you enjoyed the classes and have built a good foundation for the logic involved. Now lets solve a few intresting questions to see what kind of logic you can come up with :)"
   ]
  },
  {
   "cell_type": "raw",
   "metadata": {},
   "source": [
    "1.Write a program to traverse (or iterate) ArrayList and get sub list from same ArrayList\n",
    "\n",
    "Sample output :\n",
    "ArrayList elements : \n",
    "Rooman\n",
    "Classroom\n",
    "Canvas\n",
    "LMS\n",
    "Sub List: [Canvas, LMS]"
   ]
  },
  {
   "cell_type": "code",
   "execution_count": null,
   "metadata": {},
   "outputs": [],
   "source": []
  },
  {
   "cell_type": "raw",
   "metadata": {},
   "source": [
    "2.Write a program to add element at particular index of ArrayList and  to remove element from specified index of ArrayList\n",
    "Note : You can add and remove any kind of data. Sample output is shown with Strings\n",
    "Sample output :\n",
    "Array list at begining :\n",
    "One\n",
    "Two\n",
    "Three\n",
    "Four\n",
    "ArrayList after adding String 2.5:[One, Two, 2.5, Three, Four]\n",
    "ArrayList after adding String zero:[Zero, One, Two, 2.5, Three, Four]\n",
    "ArrayList After removing some elements:\n",
    "One\n",
    "Two\n",
    "Four\n"
   ]
  },
  {
   "cell_type": "code",
   "execution_count": null,
   "metadata": {},
   "outputs": [],
   "source": []
  }
 ],
 "metadata": {
  "kernelspec": {
   "display_name": "Java",
   "language": "java",
   "name": "java"
  },
  "language_info": {
   "codemirror_mode": "java",
   "file_extension": ".jshell",
   "mimetype": "text/x-java-source",
   "name": "Java",
   "pygments_lexer": "java",
   "version": "11.0.8+10-post-Ubuntu-0ubuntu118.04.1"
  }
 },
 "nbformat": 4,
 "nbformat_minor": 4
}
