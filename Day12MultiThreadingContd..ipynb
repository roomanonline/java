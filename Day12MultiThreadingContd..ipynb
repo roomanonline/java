{
 "cells": [
  {
   "cell_type": "raw",
   "metadata": {},
   "source": [
    "1. Write a program to illustrate need of Synchronization in Threads"
   ]
  },
  {
   "cell_type": "code",
   "execution_count": null,
   "metadata": {},
   "outputs": [],
   "source": []
  },
  {
   "cell_type": "raw",
   "metadata": {},
   "source": [
    "2. Write a program to solve the producer consumer problem using threads."
   ]
  },
  {
   "cell_type": "code",
   "execution_count": null,
   "metadata": {},
   "outputs": [],
   "source": []
  },
  {
   "cell_type": "raw",
   "metadata": {},
   "source": [
    "3. Write a program to show how synchronized methods and objects monitors are used to coordinate access to a common object by multiple threads to print a message “Small steps every day”\n",
    "Hint1: \n",
    " Create String array to store the string “Small steps every day”.\n",
    " \n",
    "Hint 2: \n",
    " Same program as Program 7 in Day 11 Coding assignment, but you have to use synchronized methods\n",
    "\n",
    "Sample output:\n",
    "\n",
    "thread1: Small\n",
    "thread1: steps\n",
    "thread1: every\n",
    "thread1: day\n",
    "Thread 1 is dead.\n",
    "thread2: Small\n",
    "thread2: steps\n",
    "thread2: every\n",
    "thread2: day\n",
    "Thread 2 is dead.\n"
   ]
  },
  {
   "cell_type": "code",
   "execution_count": null,
   "metadata": {},
   "outputs": [],
   "source": []
  },
  {
   "cell_type": "raw",
   "metadata": {},
   "source": [
    "4. Write a program to illustrate DeadLock in Java\n",
    "\n",
    "Sample output:\n",
    "\n",
    "Thread 1: Holding lock 1...\n",
    "Thread 2: Holding lock 2...\n",
    "Thread 2: Waiting for lock 1...\n",
    "Thread 1: Waiting for lock 2..."
   ]
  },
  {
   "cell_type": "code",
   "execution_count": null,
   "metadata": {},
   "outputs": [],
   "source": []
  },
  {
   "cell_type": "raw",
   "metadata": {},
   "source": [
    "5. Write a program to illustrate how we can prevent DeadLock in Java\n",
    "\n",
    "Sample output:\n",
    "\n",
    "Thread 1: Holding lock 1...\n",
    "Thread 1: Waiting for lock 2...\n",
    "Thread 1: Holding lock 1 & 2...\n",
    "Thread 2: Holding lock 1...\n",
    "Thread 2: Waiting for lock 2...\n",
    "Thread 2: Holding lock 1 & 2..."
   ]
  },
  {
   "cell_type": "code",
   "execution_count": null,
   "metadata": {},
   "outputs": [],
   "source": []
  }
 ],
 "metadata": {
  "kernelspec": {
   "display_name": "Java",
   "language": "java",
   "name": "java"
  },
  "language_info": {
   "codemirror_mode": "java",
   "file_extension": ".jshell",
   "mimetype": "text/x-java-source",
   "name": "Java",
   "pygments_lexer": "java",
   "version": "11.0.6+10-post-Ubuntu-1ubuntu118.04.1"
  }
 },
 "nbformat": 4,
 "nbformat_minor": 4
}
