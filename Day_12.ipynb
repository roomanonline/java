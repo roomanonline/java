{
 "cells": [
  {
   "cell_type": "markdown",
   "metadata": {},
   "source": [
    "# Important Instructions:"
   ]
  },
  {
   "cell_type": "raw",
   "metadata": {},
   "source": [
    "1)When coding in java using jupyter notebooks there is no need to provide a main method as it is automatically provided.\n",
    "\n",
    "2)Code written within a cell is automatically placed within the main method unless you explicitly place it within another class\n",
    "\n",
    "I hope you enjoyed the Typecasting,Array classes and have built a good foundation for the logic involved. Now lets solve a few intresting questions to see what kind of logic you can come up with :)"
   ]
  },
  {
   "cell_type": "raw",
   "metadata": {},
   "source": [
    "1.Define a class named  Merger. In the class declare two arrays and fill them with N integer elements collected from the keyboard. Declare a third array, in which first two arrays are merged and printed as output.\n",
    "Sample input\n",
    "First array : [2 4 6]\n",
    "Second array: [1 3 5]\n",
    "\n",
    "Sample output :\n",
    "Merged array : 2 4 6 1 3 5"
   ]
  },
  {
   "cell_type": "code",
   "execution_count": null,
   "metadata": {},
   "outputs": [],
   "source": []
  },
  {
   "cell_type": "raw",
   "metadata": {},
   "source": [
    "2.How to find the missing number in integer array of 1 to 100? \n",
    "\n",
    "This is one of the most simple array problems you will see, mostly asked in a technical round of Interview. You have given an integer array which contains numbers from 1 to 100 but one number is missing, you need to write a Java program to find that missing number in an array. You cannot use any open source library or Java API methods(built-in methods) which solves this problem. \n",
    "Hint:One trick to solve this problem is to calculate sum of all numbers in the array and compare with expected sum, the difference would be the missing number. However there can be other logics to achieve the same.\n",
    "\n",
    "Sample input : [1,2,4,5]\n",
    "Sample output : 3"
   ]
  },
  {
   "cell_type": "code",
   "execution_count": null,
   "metadata": {},
   "outputs": [],
   "source": []
  }
 ],
 "metadata": {
  "kernelspec": {
   "display_name": "Java",
   "language": "java",
   "name": "java"
  },
  "language_info": {
   "codemirror_mode": "java",
   "file_extension": ".jshell",
   "mimetype": "text/x-java-source",
   "name": "Java",
   "pygments_lexer": "java",
   "version": "11.0.6+10-post-Ubuntu-1ubuntu118.04.1"
  }
 },
 "nbformat": 4,
 "nbformat_minor": 4
}
