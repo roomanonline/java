{
 "cells": [
  {
   "cell_type": "markdown",
   "metadata": {},
   "source": [
    "# Important Instructions"
   ]
  },
  {
   "cell_type": "markdown",
   "metadata": {},
   "source": [
    "###### I hope you enjoyed Python classes and have built a good foundation for the logic involved. Now lets solve a few intresting questions to see what kind of logic you can come up with :)"
   ]
  },
  {
   "cell_type": "markdown",
   "metadata": {},
   "source": [
    "###### Criteria\n",
    "\n",
    "<b>Write a Script which takes the user input of length and elements of the list and do the following:</b>\n"
   ]
  },
  {
   "cell_type": "markdown",
   "metadata": {},
   "source": [
    "###### a)create a list which contains [ list, tuple ,string and Numbers]\n",
    "\n",
    "<b>Sample Input:</b> Enter the length of the list:5\n",
    "\n",
    "Enter element to the list:[10,20]\n",
    "\n",
    "Enter element to the list:(2.0,3.2)\n",
    "\n",
    "Enter element to the list: \"Hello\"\n",
    "\n",
    "Enter element to the list:20\n",
    "\n",
    "Enter element to the list:20.3\n",
    "\n",
    "<b>Sample Output:</b>\n",
    "\n",
    "Created List:  [[10, 20], (2.0, 3.2), 'Hello', 20, 20.3] \n"
   ]
  },
  {
   "cell_type": "code",
   "execution_count": null,
   "metadata": {},
   "outputs": [],
   "source": []
  },
  {
   "cell_type": "markdown",
   "metadata": {},
   "source": [
    "###### b)create a list based on the above criteria and pop all the elements from the list using loop and print the final list.\n",
    "\n",
    "<b>Sample Input:</b>\n",
    "\n",
    "Enter the length of the list:5\n",
    "\n",
    "Enter element to the list:[10,20]\n",
    "\n",
    "Enter element to the list:(2.3,5.2)\n",
    "\n",
    "Enter element to the list:\"Hai\"\n",
    "\n",
    "Enter element to the list:56\n",
    "\n",
    "Enter element to the list:2.3\n",
    "\n",
    "\n",
    "<b>Sample Output:</b>\n",
    "\n",
    "Created List:  [[10, 20], (2.3, 5.2), 'Hai', 56, 2.3]\n",
    "\n",
    "Popped element is :  2.3\n",
    "\n",
    "Popped element is :  56\n",
    "\n",
    "Popped element is :  Hai\n",
    "\n",
    "Popped element is :  (2.3, 5.2)\n",
    "\n",
    "Popped element is :  [10, 20]\n",
    "\n",
    "Final List []\n"
   ]
  },
  {
   "cell_type": "code",
   "execution_count": null,
   "metadata": {},
   "outputs": [],
   "source": []
  },
  {
   "cell_type": "markdown",
   "metadata": {},
   "source": [
    "###### c) create the list based on the above criteria, delete all the odd position elements from the list and print the final list.\n",
    "\n",
    "<b>Sample Input:</b>\n",
    "    \n",
    "Enter the length of the list:5\n",
    "    \n",
    "Enter element to the list:[10,20]\n",
    "    \n",
    "Enter element to the list:(5.3,55)\n",
    "    \n",
    "Enter element to the list:\"Hi\"\n",
    "    \n",
    "Enter element to the list:56\n",
    "    \n",
    "Enter element to the list:2.3\n",
    "    \n",
    "<b>Sample Output:</b>\n",
    "    \n",
    "Created List:  [[10, 20], (5.3, 55), 'Hi', 56, 2.3]\n",
    "    \n",
    "Deleted all the odd position elements from the list \n",
    "\n",
    "Final List [(5.3, 55), 56]\n"
   ]
  },
  {
   "cell_type": "code",
   "execution_count": null,
   "metadata": {},
   "outputs": [],
   "source": []
  },
  {
   "cell_type": "markdown",
   "metadata": {},
   "source": [
    "###### d) create the list based on the above criteria, pop or remove all the string values from the list and print the final list.\n",
    "\n",
    "<b>Sample Input:</b>\n",
    "\n",
    "Enter the length of the list:5\n",
    "\n",
    "Enter element to the list:[10,20]\n",
    "\n",
    "Enter element to the list:\"Hi\"\n",
    "\n",
    "Enter element to the list:(5.6,2.3)\n",
    "\n",
    "Enter element to the list:\"Hello\"\n",
    "\n",
    "Enter element to the list:5\n",
    "\n",
    "<b>Sample Output:</b>\n",
    "\n",
    "Created List:  [[10, 20], 'Hi', (5.6, 2.3), 'Hello', 5]\n",
    "\n",
    "Final List: [[10, 20], (5.6, 2.3), 5]\n"
   ]
  },
  {
   "cell_type": "code",
   "execution_count": null,
   "metadata": {},
   "outputs": [],
   "source": []
  },
  {
   "cell_type": "markdown",
   "metadata": {},
   "source": [
    "###### e) create the list based on the above criteria and try to append the list of two programing languages to the existing list i.e. ['Python','Java'] and create a copy of the same list based on the below condition:\n",
    "\n",
    "<b>i) Copy list should reflect the changes if the value of ‘Java’ in the list ['Python','Java'] is changed to 500 \n",
    "\n",
    "Sample Input:</b>\n",
    "\n",
    "Enter the length of the list:5\n",
    "\n",
    "Enter element to the list:[2.3,50]\n",
    "\n",
    "Enter element to the list:5\n",
    "\n",
    "Enter element to the list:\"hi\"\n",
    "\n",
    "Enter element to the list:5.6\n",
    "\n",
    "Enter element to the list:(12,3)\n",
    "\n",
    "<b>Sample Output:</b>\n",
    "\n",
    "Created List:  [[2.3, 50], 5, 'hi', 5.6, (12, 3)]\n",
    "\n",
    "After adding the list: [[2.3, 50], 5, 'hi', 5.6, (12, 3), ['Python', 'Java']]\n",
    "\n",
    "Original List [[2.3, 50], 5, 'hi', 5.6, (12, 3), ['Python', 500]]\n",
    "\n",
    "Copy Created [[2.3, 50], 5, 'hi', 5.6, (12, 3), ['Python', 500]]\n"
   ]
  },
  {
   "cell_type": "code",
   "execution_count": null,
   "metadata": {},
   "outputs": [],
   "source": []
  },
  {
   "cell_type": "markdown",
   "metadata": {},
   "source": [
    "###### ii) Copy list should not reflect the changes if the value of ‘Java’ in the list ['Python','Java'] is changed to 500 \n",
    "\n",
    "<b>Sample Input:</b>\n",
    "\n",
    "Enter the length of the list:5\n",
    "\n",
    "Enter element to the list:[10,20]\n",
    "\n",
    "Enter element to the list:(6.3,5)\n",
    "\n",
    "Enter element to the list:\"Hi\"\n",
    "\n",
    "Enter element to the list:5.6\n",
    "\n",
    "Enter element to the list:8\n",
    "\n",
    "<b>Sample Output:</b>\n",
    "\n",
    "Created List:  [[10, 20], (6.3, 5), 'Hi', 5.6, 8]\n",
    "\n",
    "After adding the list: [[10, 20], (6.3, 5), 'Hi', 5.6, 8, ['Python', 'Java']]\n",
    "\n",
    "Original List: [[10, 20], (6.3, 5), 'Hi', 5.6, 8, ['Python', 500]]\n",
    "\n",
    "Copy Created: [[10, 20], (6.3, 5), 'Hi', 5.6, 8, ['Python', 'Java']]\n"
   ]
  },
  {
   "cell_type": "code",
   "execution_count": null,
   "metadata": {},
   "outputs": [],
   "source": []
  }
 ],
 "metadata": {
  "kernelspec": {
   "display_name": "Python 3",
   "language": "python",
   "name": "python3"
  },
  "language_info": {
   "codemirror_mode": {
    "name": "ipython",
    "version": 3
   },
   "file_extension": ".py",
   "mimetype": "text/x-python",
   "name": "python",
   "nbconvert_exporter": "python",
   "pygments_lexer": "ipython3",
   "version": "3.7.3"
  }
 },
 "nbformat": 4,
 "nbformat_minor": 4
}
