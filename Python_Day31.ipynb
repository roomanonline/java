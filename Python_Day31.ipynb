{
 "cells": [
  {
   "cell_type": "markdown",
   "metadata": {},
   "source": [
    "# Important Instructions"
   ]
  },
  {
   "cell_type": "markdown",
   "metadata": {},
   "source": [
    "###### I hope you enjoyed Python classes and have built a good foundation for the logic involved. Now lets solve a few intresting questions to see what kind of logic you can come up with :)"
   ]
  },
  {
   "cell_type": "markdown",
   "metadata": {},
   "source": [
    "#### Write all the script in both traditional approch and using list comprehension "
   ]
  },
  {
   "cell_type": "markdown",
   "metadata": {},
   "source": [
    "###### 1)Write a script to replace negative prices in the list with 0 and leave the positive values unchanged from the given list :\n",
    "[1.25, -9.45, 10.22, 3.78, -5.92, 1.16]\n",
    "\n",
    "Sample Output:\n",
    "\n",
    "[1.25, 0, 10.22, 3.78, 0, 1.16]\n"
   ]
  },
  {
   "cell_type": "code",
   "execution_count": null,
   "metadata": {},
   "outputs": [],
   "source": []
  },
  {
   "cell_type": "code",
   "execution_count": null,
   "metadata": {},
   "outputs": [],
   "source": []
  },
  {
   "cell_type": "markdown",
   "metadata": {},
   "source": [
    "###### 2)Write a script to convert each Celsius value in the list, to list of Fahrenheit value.\n",
    "\n",
    "<b>Hint: Celsius to Fahrenheit = (Celsius * 9/5) + 32</b>\n",
    "    \n",
    "Sample Input: Celsius = [39.2, 36.5, 37.3, 37.8]\n",
    "    \n",
    "Sample Output: Fahrenheit = [102.56, 97.7, 99.14, 100.03999999999999]\n",
    "\n"
   ]
  },
  {
   "cell_type": "code",
   "execution_count": null,
   "metadata": {},
   "outputs": [],
   "source": []
  },
  {
   "cell_type": "code",
   "execution_count": null,
   "metadata": {},
   "outputs": [],
   "source": []
  },
  {
   "cell_type": "markdown",
   "metadata": {},
   "source": [
    "###### 3)Write a script to create list of key: value pairs based on the below condition:\n",
    "        \n",
    "<b>Condition: key is the range starts from 1 and value is the corresponding factorial of key </b>\n",
    "    \n",
    "Sample Input: Enter total key:value pair :10\n",
    "            \n",
    "Sample Output:  \n",
    "[{1: 1}, {2: 2}, {3: 6}, {4: 24}, {5: 120}, {6: 720}, {7: 5040}, {8: 40320}, {9: 362880}, {10: 3628800}]\n"
   ]
  },
  {
   "cell_type": "code",
   "execution_count": null,
   "metadata": {},
   "outputs": [],
   "source": []
  },
  {
   "cell_type": "code",
   "execution_count": null,
   "metadata": {},
   "outputs": [],
   "source": []
  },
  {
   "cell_type": "markdown",
   "metadata": {},
   "source": [
    "###### 4)Write a script to create new list by multiplying  the corresponding elements of list1 with the elements of list2.\n",
    "\n",
    "Sample Input: \n",
    "    \n",
    "Enter list1: [10,20,30]\n",
    "    \n",
    "Enter list2: [1,2]\n",
    "    \n",
    "Sample Output: new_list =  [10, 20, 20, 40, 30, 60]\n"
   ]
  },
  {
   "cell_type": "code",
   "execution_count": null,
   "metadata": {},
   "outputs": [],
   "source": []
  },
  {
   "cell_type": "code",
   "execution_count": null,
   "metadata": {},
   "outputs": [],
   "source": []
  }
 ],
 "metadata": {
  "kernelspec": {
   "display_name": "Python 3",
   "language": "python",
   "name": "python3"
  },
  "language_info": {
   "codemirror_mode": {
    "name": "ipython",
    "version": 3
   },
   "file_extension": ".py",
   "mimetype": "text/x-python",
   "name": "python",
   "nbconvert_exporter": "python",
   "pygments_lexer": "ipython3",
   "version": "3.7.3"
  }
 },
 "nbformat": 4,
 "nbformat_minor": 4
}
