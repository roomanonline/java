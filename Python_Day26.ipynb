{
 "cells": [
  {
   "cell_type": "markdown",
   "metadata": {},
   "source": [
    "# Important Instructions"
   ]
  },
  {
   "cell_type": "markdown",
   "metadata": {},
   "source": [
    "###### I hope you enjoyed Python classes and have built a good foundation for the logic involved. Now lets solve a few intresting questions to see what kind of logic you can come up with :)"
   ]
  },
  {
   "cell_type": "markdown",
   "metadata": {},
   "source": [
    "###### 1) Write a script to define a function which takes the user input as list of integer numbers and calculate the sum of all numbers present within the list\n",
    "\n",
    "<b>Sample Input: Enter the List : [10,20,30]\n",
    "\n",
    "Sample Output: Sum of the list : 60</b>\n"
   ]
  },
  {
   "cell_type": "code",
   "execution_count": null,
   "metadata": {},
   "outputs": [],
   "source": []
  },
  {
   "cell_type": "markdown",
   "metadata": {},
   "source": [
    "###### 2) Write a script :\n",
    "\n",
    "<b>a)To Create a given nested list and extend it with adding sub list [\"h\", \"i\", \"j\"] in a such a way that it will look like the expected output.\n",
    "    \n",
    "Given List: list1 = [\"a\", \"b\", [\"c\", [\"d\", \"e\", [\"f\", \"g\"], \"k\"], \"l\"], \"m\", \"n\"]\n",
    "    \n",
    "\n",
    "Expected output: ['a', 'b', ['c', ['d', 'e', ['f', 'g', 'h', 'i', 'j'], 'k'], 'l'], 'm', 'n']</b>\n"
   ]
  },
  {
   "cell_type": "code",
   "execution_count": null,
   "metadata": {},
   "outputs": [],
   "source": []
  },
  {
   "cell_type": "markdown",
   "metadata": {},
   "source": [
    "###### b) Using the above given list try to print the sub list as sample output \n",
    "\n",
    "<b>Sample Input: ['a', 'b', ['c', ['d', 'e', ['f', 'g', 'h', 'i', 'j'], 'k'], 'l'], 'm', 'n']\n",
    "\n",
    "Sample Output: [['c', ['d', 'e', ['f', 'g', 'h', 'i', 'j'], 'k'], 'l']]</b>\n"
   ]
  },
  {
   "cell_type": "code",
   "execution_count": null,
   "metadata": {},
   "outputs": [],
   "source": []
  },
  {
   "cell_type": "markdown",
   "metadata": {},
   "source": [
    "###### 3) Write a script to do the following: \n",
    "    \n",
    "<b>a)Given is the list of exponents of 2 i.e. [2,4,8,32,64,128,256], try to find the missing number in the list and insert the missing number at the correct position and print the list.\n",
    "\n",
    "Hint: Missing number is 16</b>\n"
   ]
  },
  {
   "cell_type": "code",
   "execution_count": null,
   "metadata": {},
   "outputs": [],
   "source": []
  },
  {
   "cell_type": "markdown",
   "metadata": {},
   "source": [
    "###### b)From the above list try to add the multiples of 3 at the odd position of the list.\n",
    "\n",
    "<b>Sample Output: [3, 4, 9, 16, 12, 64, 18, 256]</b>\n"
   ]
  },
  {
   "cell_type": "code",
   "execution_count": null,
   "metadata": {},
   "outputs": [],
   "source": []
  },
  {
   "cell_type": "markdown",
   "metadata": {},
   "source": [
    "###### 4) Write a script to create a list of integer numbers and remove the elements present in the according to the user input.\n",
    "\n",
    "<b>List : [10,20,30,20,40,50,20]\n",
    "    \n",
    "Sample Input: Enter the value to remove from the list: 20\n",
    "        \n",
    "Sample Output :[10, 30, 40, 50]</b>\n"
   ]
  },
  {
   "cell_type": "code",
   "execution_count": null,
   "metadata": {},
   "outputs": [],
   "source": []
  }
 ],
 "metadata": {
  "kernelspec": {
   "display_name": "Python 3",
   "language": "python",
   "name": "python3"
  },
  "language_info": {
   "codemirror_mode": {
    "name": "ipython",
    "version": 3
   },
   "file_extension": ".py",
   "mimetype": "text/x-python",
   "name": "python",
   "nbconvert_exporter": "python",
   "pygments_lexer": "ipython3",
   "version": "3.7.3"
  }
 },
 "nbformat": 4,
 "nbformat_minor": 4
}
