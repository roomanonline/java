{
 "cells": [
  {
   "cell_type": "markdown",
   "metadata": {},
   "source": [
    "# Important Instructions"
   ]
  },
  {
   "cell_type": "markdown",
   "metadata": {},
   "source": [
    "###### I hope you enjoyed Python classes and have built a good foundation for the logic involved. Now lets solve a few intresting questions to see what kind of logic you can come up with :)"
   ]
  },
  {
   "cell_type": "markdown",
   "metadata": {},
   "source": [
    "###### Vowels\n",
    "Write a script to take a sentence as input from the user and define a function which identifies all the vowels present \n",
    "in the particular sentence and also the total number of vowels present in the sentence.\n",
    "\n",
    "<b>Input Format:</b>\n",
    "\n",
    "Enter the sentence: Im an Indian\n",
    "\n",
    "<b>Output Format:</b>\n",
    "\n",
    "Vowel found : I\n",
    "\n",
    "Vowel found : a\n",
    "\n",
    "Vowel found : I\n",
    "\n",
    "Vowel found : i\n",
    "\n",
    "Vowel found : a\n",
    "\n",
    "Total number of vowels found : 5\n"
   ]
  },
  {
   "cell_type": "code",
   "execution_count": null,
   "metadata": {},
   "outputs": [],
   "source": []
  },
  {
   "cell_type": "markdown",
   "metadata": {},
   "source": [
    "###### Guesser Game:\n",
    "Write a script, which gives user 3 chance to guess the correct number between 1 and 20,,\n",
    "\n",
    "If the guesser guesses the correct number than display the number of attempts made by the guesser to guess the correct number.\n",
    "\n",
    "<b>Criteria: Correct number is 7.</b>\n",
    "\n",
    "<b>I/O Format</b>\n",
    "\n",
    "Guess a number between 1 and 20: 5\n",
    "\n",
    "Incorrect Guess, Try again\n",
    "\n",
    "Guess a number between 1 and 20: 2\n",
    "\n",
    "Incorrect Guess, Try again\n",
    "\n",
    "Guess a number between 1 and 20: 7\n",
    "\n",
    "Well done you correctly guessed the number!! attempts made 3\n"
   ]
  },
  {
   "cell_type": "code",
   "execution_count": null,
   "metadata": {},
   "outputs": [],
   "source": []
  },
  {
   "cell_type": "markdown",
   "metadata": {},
   "source": [
    "###### Points Calculator:\n",
    "Given below is the list of points, Define a function which calculates the points of “King, Queen , Jack and Ace” based on the\n",
    "\n",
    "below criteria \n",
    "\n",
    "<b>Points: = [1,20,86,7,2,5,69,45,23,14,56,32,45,67,12]</b>\n",
    "\n",
    "<b>Criteria : </b>\n",
    "\n",
    "a)Jack, gets all the points which lies between 10 and 20\n",
    "\n",
    "b)Queen, gets all the points which lies between 20 and 40\n",
    "\n",
    "c)King, gets all the points which lies between 40 and 60\n",
    "\n",
    "d)Ace, gets all the points which lies between 1 and 10\n",
    "\n",
    "e)Apart from this all the points are invalid.\n",
    "\n",
    "<b>Sample Output:</b>\n",
    "\n",
    "86 is Invalid Point\n",
    "\n",
    "69 is Invalid Point\n",
    "\n",
    "67 is Invalid Point\n",
    "\n",
    "---valid points---\n",
    "\n",
    "Jack 37\n",
    "\n",
    "Queen 67\n",
    "\n",
    "King 159\n",
    "\n",
    "Ace 16\n",
    "\n",
    "<b>Hint:</b>[In cards , Jack is considered as 11\n",
    "\n",
    "Queen is considered as 12\n",
    "\n",
    "King is considered as 13\n",
    "\n",
    "Ace is considered as 1 ]\n"
   ]
  },
  {
   "cell_type": "code",
   "execution_count": null,
   "metadata": {},
   "outputs": [],
   "source": []
  }
 ],
 "metadata": {
  "kernelspec": {
   "display_name": "Python 3",
   "language": "python",
   "name": "python3"
  },
  "language_info": {
   "codemirror_mode": {
    "name": "ipython",
    "version": 3
   },
   "file_extension": ".py",
   "mimetype": "text/x-python",
   "name": "python",
   "nbconvert_exporter": "python",
   "pygments_lexer": "ipython3",
   "version": "3.7.3"
  }
 },
 "nbformat": 4,
 "nbformat_minor": 4
}
