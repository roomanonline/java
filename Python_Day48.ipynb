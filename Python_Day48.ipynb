{
 "cells": [
  {
   "cell_type": "markdown",
   "metadata": {},
   "source": [
    "# Important Instructions"
   ]
  },
  {
   "cell_type": "markdown",
   "metadata": {},
   "source": [
    "###### I hope you enjoyed Python classes and have built a good foundation for the logic involved. Now lets solve a few intresting questions to see what kind of logic you can come up with :)"
   ]
  },
  {
   "cell_type": "markdown",
   "metadata": {},
   "source": [
    "###### Fill the Remaining Code To get the following output.\n",
    "\n",
    "Sample Output: Hello World\n"
   ]
  },
  {
   "cell_type": "raw",
   "metadata": {},
   "source": [
    "def outerFunction(text): \n",
    "    text = text \n",
    "    \n",
    "     ###### Write your code here\n",
    "\n",
    "myFunction = outerFunction(\"Hello World\") \n",
    "myFunction() \n"
   ]
  },
  {
   "cell_type": "code",
   "execution_count": null,
   "metadata": {},
   "outputs": [],
   "source": []
  },
  {
   "cell_type": "markdown",
   "metadata": {},
   "source": [
    "###### Fill the Remaining Code To get the following output.\n",
    "\n",
    "Sample Output: 100"
   ]
  },
  {
   "cell_type": "raw",
   "metadata": {},
   "source": [
    "def multiplier_of(n):\n",
    "\n",
    "    ###### Write your code here\n",
    "    \n",
    "multiplywith10 = multiplier_of(10)\n",
    "print(multiplywith10(10))\n"
   ]
  },
  {
   "cell_type": "code",
   "execution_count": null,
   "metadata": {},
   "outputs": [],
   "source": []
  },
  {
   "cell_type": "markdown",
   "metadata": {},
   "source": [
    "###### Fill the Remaining Code To get the following output.\n",
    "\n",
    "Sample Output:\n",
    "Return value is dict\n",
    "{'lang': 'python'}"
   ]
  },
  {
   "cell_type": "raw",
   "metadata": {},
   "source": [
    "def check(f):\n",
    "\n",
    "    ###### Write your code here\n",
    "\n",
    "@check\n",
    "def my_code(args):\n",
    "    return {\"lang\": args}\n",
    "print(my_code(\"python\"))"
   ]
  },
  {
   "cell_type": "code",
   "execution_count": null,
   "metadata": {},
   "outputs": [],
   "source": []
  }
 ],
 "metadata": {
  "kernelspec": {
   "display_name": "Python 3",
   "language": "python",
   "name": "python3"
  },
  "language_info": {
   "codemirror_mode": {
    "name": "ipython",
    "version": 3
   },
   "file_extension": ".py",
   "mimetype": "text/x-python",
   "name": "python",
   "nbconvert_exporter": "python",
   "pygments_lexer": "ipython3",
   "version": "3.7.3"
  }
 },
 "nbformat": 4,
 "nbformat_minor": 4
}
