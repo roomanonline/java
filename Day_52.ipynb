{
 "cells": [
  {
   "cell_type": "markdown",
   "metadata": {},
   "source": [
    "# Important Instructions:"
   ]
  },
  {
   "cell_type": "raw",
   "metadata": {},
   "source": [
    "1)When coding in java using jupyter notebooks there is no need to provide a main method as it is automatically provided.\n",
    "\n",
    "2)Code written within a cell is automatically placed within the main method unless you explicitly place it within another class\n",
    "\n",
    "I hope you enjoyed the classes and have built a good foundation for the logic involved. Now lets solve a few intresting questions to see what kind of logic you can come up with :)"
   ]
  },
  {
   "cell_type": "raw",
   "metadata": {},
   "source": [
    "1.Write a program to Create and fill Linked List of Integers. And perform operations like add and remove elements from Linked List.\n",
    "\n",
    "Sample output:\n",
    "Original List : [10, 30, 50]\n",
    "After modifying first and second index : [10, 76, 30, 80, 50]\n",
    "After removing third  index : [10, 76, 30, 50]\n",
    "Final list, printed using advanced for loop : 10 76 30 50\n"
   ]
  },
  {
   "cell_type": "code",
   "execution_count": null,
   "metadata": {},
   "outputs": [],
   "source": []
  },
  {
   "cell_type": "raw",
   "metadata": {},
   "source": [
    "2.Write a Java program to iterate through all elements in a LinkedList starting at the specified position.\n",
    "\n",
    "Sample output:\n",
    "Original LinkedList..\n",
    "[Red, Green, Black, White, Pink]\n",
    "\n",
    "LinkedList after starting from index 2..\n",
    "\n",
    "Black\n",
    "White\n",
    "Pink\n"
   ]
  },
  {
   "cell_type": "code",
   "execution_count": null,
   "metadata": {},
   "outputs": [],
   "source": []
  },
  {
   "cell_type": "raw",
   "metadata": {},
   "source": [
    "3.\tWrite a Java program to retrieve but not remove  the first  and last element of a LinkedList\n",
    "\n",
    "Sample output:\n",
    "\n",
    "Original LinkedList: [Red, Green, Black, White, Pink]\n",
    "First element in the list: Red\n",
    "Last element in the list: Pink\n",
    "LinkedList after retrieving first and last element: \n",
    "[Red, Green, Black, White, Pink]\n",
    "\n"
   ]
  },
  {
   "cell_type": "code",
   "execution_count": null,
   "metadata": {},
   "outputs": [],
   "source": []
  },
  {
   "cell_type": "raw",
   "metadata": {},
   "source": [
    "4.Write a Java program to convert a LinkedList to ArrayList."
   ]
  },
  {
   "cell_type": "code",
   "execution_count": null,
   "metadata": {},
   "outputs": [],
   "source": []
  }
 ],
 "metadata": {
  "kernelspec": {
   "display_name": "Java",
   "language": "java",
   "name": "java"
  },
  "language_info": {
   "codemirror_mode": "java",
   "file_extension": ".jshell",
   "mimetype": "text/x-java-source",
   "name": "Java",
   "pygments_lexer": "java",
   "version": "11.0.7+10-post-Ubuntu-2ubuntu218.04"
  }
 },
 "nbformat": 4,
 "nbformat_minor": 4
}
