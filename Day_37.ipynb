{
 "cells": [
  {
   "cell_type": "markdown",
   "metadata": {},
   "source": [
    "# Important Instructions:"
   ]
  },
  {
   "cell_type": "raw",
   "metadata": {},
   "source": [
    "1)When coding in java using jupyter notebooks there is no need to provide a main method as it is automatically provided.\n",
    "\n",
    "2)Code written within a cell is automatically placed within the main method unless you explicitly place it within another class\n",
    "\n",
    "I hope you enjoyed the classes and have built a good foundation for the logic involved. Now lets solve a few intresting questions to see what kind of logic you can come up with :)"
   ]
  },
  {
   "cell_type": "raw",
   "metadata": {},
   "source": [
    "1.Create a Cycle interface, with implementations Unicycle, Bicycle, and Tricycle.Print the number of wheels in each type of cycles.\n",
    "\n",
    "Sample output:\n",
    "\n",
    "Number of wheels in Unicycle is: \n",
    "1\n",
    "Number of wheels in Bicycle is: \n",
    "2\n",
    "Number of wheels in Tricycle is: \n",
    "3"
   ]
  },
  {
   "cell_type": "code",
   "execution_count": null,
   "metadata": {},
   "outputs": [],
   "source": []
  },
  {
   "cell_type": "raw",
   "metadata": {},
   "source": [
    "2.Create a interface called FastFood (with appropriate methods) and a class called Sandwich.Change Sandwich class so that it also inherits FastFood. Write a test class and use Sandwich class.\n",
    "\n",
    "Sample output:\n",
    "\n",
    "Yummy Burger!\n",
    "Tasty, Vegetable Sandwich\n",
    "Cheesee! Cheese Sandwich"
   ]
  },
  {
   "cell_type": "code",
   "execution_count": null,
   "metadata": {},
   "outputs": [],
   "source": []
  },
  {
   "cell_type": "raw",
   "metadata": {},
   "source": [
    "3.rite a program to demonstrate the use of try and catch block. \n",
    "\n",
    "For ex: check whether the given array size is negative or not.\n",
    "\n",
    "Sample output:\n",
    "\n",
    "generated exception : java.lang.NegativeArraySizeException"
   ]
  },
  {
   "cell_type": "code",
   "execution_count": null,
   "metadata": {},
   "outputs": [],
   "source": []
  },
  {
   "cell_type": "raw",
   "metadata": {},
   "source": [
    "4.Write a program to demonstrate multiple catch statements occurring in a program."
   ]
  },
  {
   "cell_type": "code",
   "execution_count": null,
   "metadata": {},
   "outputs": [],
   "source": []
  }
 ],
 "metadata": {
  "kernelspec": {
   "display_name": "Java",
   "language": "java",
   "name": "java"
  },
  "language_info": {
   "codemirror_mode": "java",
   "file_extension": ".jshell",
   "mimetype": "text/x-java-source",
   "name": "Java",
   "pygments_lexer": "java",
   "version": "11.0.7+10-post-Ubuntu-2ubuntu218.04"
  }
 },
 "nbformat": 4,
 "nbformat_minor": 4
}
