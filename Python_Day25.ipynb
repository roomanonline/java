{
 "cells": [
  {
   "cell_type": "markdown",
   "metadata": {},
   "source": [
    "# Important Instructions"
   ]
  },
  {
   "cell_type": "markdown",
   "metadata": {},
   "source": [
    "###### I hope you enjoyed Python classes and have built a good foundation for the logic involved. Now lets solve a few intresting questions to see what kind of logic you can come up with :)\n"
   ]
  },
  {
   "cell_type": "markdown",
   "metadata": {},
   "source": [
    "###### Write a script to do the following:\n",
    "    \n",
    "<b>a) Create a list with heterogeneous data i.e. int,float,complex,Boolean,list,tuple,set,dictionary\n",
    "\n",
    "b) Print the type of the list</b>\n"
   ]
  },
  {
   "cell_type": "code",
   "execution_count": null,
   "metadata": {},
   "outputs": [],
   "source": []
  },
  {
   "cell_type": "markdown",
   "metadata": {},
   "source": [
    "###### Print the type of all the values present within a list\n",
    "\n",
    "Sample Input: [10,20.2,3+5j,'Hello',False,[10,20],(20,30),{4,5},{1:'One'},{2:'Two'}]\n",
    "    \n",
    "Sample Output: \n",
    "    \n",
    "10 <class 'int'>\n",
    "\n",
    "20.2 <class 'float'>\n",
    " \n",
    "\t.\n",
    "    \n",
    "    .\n",
    "    \n",
    "    .\n",
    "{1: 'One'} <class 'dict'>\n"
   ]
  },
  {
   "cell_type": "code",
   "execution_count": null,
   "metadata": {},
   "outputs": [],
   "source": []
  },
  {
   "cell_type": "markdown",
   "metadata": {},
   "source": [
    "###### write a script to reverse the above list"
   ]
  },
  {
   "cell_type": "code",
   "execution_count": null,
   "metadata": {},
   "outputs": [],
   "source": []
  },
  {
   "cell_type": "markdown",
   "metadata": {},
   "source": [
    "###### Add a list of three programing languages at the rare of the list"
   ]
  },
  {
   "cell_type": "code",
   "execution_count": null,
   "metadata": {},
   "outputs": [],
   "source": []
  },
  {
   "cell_type": "markdown",
   "metadata": {},
   "source": [
    "###### Write a script to replicate the string value 10 times which is present within the list."
   ]
  },
  {
   "cell_type": "code",
   "execution_count": null,
   "metadata": {},
   "outputs": [],
   "source": []
  },
  {
   "cell_type": "markdown",
   "metadata": {},
   "source": [
    "###### write a script to create three list and combine all the three list into a single list in a reversed order of list creation.\n",
    "\n",
    "Sample Input:\n",
    "\n",
    "[10,20.2,3+5j]\n",
    "\n",
    "[(20,30),{4,5}]\n",
    "\n",
    "[{1:'One',2:'Two'}]\n",
    "\n",
    "Sample Output:\n",
    "\n",
    "[{1: 'One', 2: 'Two'}, (20, 30), {4, 5}, 10, 20.2, (3+5j)]\n"
   ]
  },
  {
   "cell_type": "code",
   "execution_count": null,
   "metadata": {},
   "outputs": [],
   "source": []
  }
 ],
 "metadata": {
  "kernelspec": {
   "display_name": "Python 3",
   "language": "python",
   "name": "python3"
  },
  "language_info": {
   "codemirror_mode": {
    "name": "ipython",
    "version": 3
   },
   "file_extension": ".py",
   "mimetype": "text/x-python",
   "name": "python",
   "nbconvert_exporter": "python",
   "pygments_lexer": "ipython3",
   "version": "3.7.3"
  }
 },
 "nbformat": 4,
 "nbformat_minor": 4
}
