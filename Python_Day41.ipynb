{
 "cells": [
  {
   "cell_type": "markdown",
   "metadata": {},
   "source": [
    "# Important Instructions"
   ]
  },
  {
   "cell_type": "markdown",
   "metadata": {},
   "source": [
    "###### I hope you enjoyed Python classes and have built a good foundation for the logic involved. Now lets solve a few intresting questions to see what kind of logic you can come up with :)"
   ]
  },
  {
   "cell_type": "markdown",
   "metadata": {},
   "source": [
    "###### Write a script to remove words containing in the list characters from the original list.\n",
    "\n",
    "List characters = ['g', 'o']\n",
    "\n",
    "Sample Input:\n",
    "\n",
    "The original list is : ['give', 'ur', 'best', 'performance']\n",
    "\n",
    "The character list is : ['g', 'o']\n",
    "\n",
    "Sample Output:\n",
    "\n",
    "The original list is : ['give', 'ur', 'best', 'performance']\n",
    "\n",
    "The character list is : ['g', 'o']\n",
    "\n",
    "The filtered strings are : ['ur', 'best']\n"
   ]
  },
  {
   "cell_type": "code",
   "execution_count": null,
   "metadata": {},
   "outputs": [],
   "source": []
  },
  {
   "cell_type": "markdown",
   "metadata": {},
   "source": [
    "###### Write a script to remove the words from the input string, which is present in the given dictionary {‘best’:1}\n",
    "\n",
    "Sample Input: Enter the sentence: give your best performance\n",
    "\n",
    "Sample Output:\n",
    "\n",
    "The original string is : give your best \n",
    "\n",
    "The dictionary values : {'best': 1}\n",
    "\n",
    "The string after removing : give your  performance\n"
   ]
  },
  {
   "cell_type": "code",
   "execution_count": null,
   "metadata": {},
   "outputs": [],
   "source": []
  },
  {
   "cell_type": "markdown",
   "metadata": {},
   "source": [
    "###### Write a script to filter tuple dictionary keys using list comprehension based on the given condition.\n",
    "\n",
    "<b>Condition: Tuple keys should be greater than the given key.</b>\n",
    "    \n",
    "Sample Input:\n",
    "    \n",
    "Enter dictionary:{(5, 6) : 'fivesix', (1, 2, 8) : 'onetwo', (9, 10) : 'nineten'} \n",
    "    \n",
    "Enter the key:5\n",
    "    \n",
    "Sample Output:\n",
    "    \n",
    "The original dict is : {(5, 6): 'fivesix', (1, 2, 8): 'onetwo', (9, 10): 'nineten'}\n",
    "    \n",
    "The filtered dictionary tuple key elements are : [6, 8, 9, 10]\n"
   ]
  },
  {
   "cell_type": "code",
   "execution_count": null,
   "metadata": {},
   "outputs": [],
   "source": []
  }
 ],
 "metadata": {
  "kernelspec": {
   "display_name": "Python 3",
   "language": "python",
   "name": "python3"
  },
  "language_info": {
   "codemirror_mode": {
    "name": "ipython",
    "version": 3
   },
   "file_extension": ".py",
   "mimetype": "text/x-python",
   "name": "python",
   "nbconvert_exporter": "python",
   "pygments_lexer": "ipython3",
   "version": "3.7.3"
  }
 },
 "nbformat": 4,
 "nbformat_minor": 4
}
