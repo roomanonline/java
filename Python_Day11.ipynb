{
 "cells": [
  {
   "cell_type": "markdown",
   "metadata": {},
   "source": [
    "# Important Instructions"
   ]
  },
  {
   "cell_type": "markdown",
   "metadata": {},
   "source": [
    "###### I hope you enjoyed Python classes and have built a good foundation for the logic involved. Now lets solve a few intresting questions to see what kind of logic you can come up with :)"
   ]
  },
  {
   "cell_type": "markdown",
   "metadata": {},
   "source": [
    "###### <b>Simple RGB Calculator:</b>"
   ]
  },
  {
   "cell_type": "markdown",
   "metadata": {},
   "source": [
    "######  1)Given the list of RGB mixer constraints, write a script to define a function to take three integer inputs which is < 255 i.e. less than 255, from the user and calculates the colour based on the constraints below.\n",
    "\n",
    "<b>Input Format:</b>\n",
    "    \n",
    "Enter color one: 255\n",
    "    \n",
    "Enter color two: 255\n",
    "    \n",
    "Enter color three: 255\n",
    "\n",
    "<b>Output Format:</b>\n",
    "Green\n",
    "\n",
    "<b>Constraints:</b>\n",
    "\n",
    "255,255,255 : Green\n",
    "\n",
    "255,255,0 : Red\n",
    "\n",
    "255,0,0 : Blue\n",
    "\n",
    "<i>Except the above combination,</i>\n",
    "\n",
    " if any Input numbers are divisible by 2 : Violet\n",
    " \n",
    " if any Input numbers are negative : Black\n"
   ]
  },
  {
   "cell_type": "code",
   "execution_count": null,
   "metadata": {},
   "outputs": [],
   "source": []
  },
  {
   "cell_type": "markdown",
   "metadata": {},
   "source": [
    "###### 2) Define a function which takes the range of input i.e. starting range and ending range from the user based on the below constraints, User should be given three chances if constraints are violated. \n",
    "\n",
    "<b><i>Constraints:\n",
    "Starting range should be greater than Ending range</b></i>"
   ]
  },
  {
   "cell_type": "markdown",
   "metadata": {},
   "source": [
    "###### a) Calculate the square of all numbers between the range in descending order with two steps of two difference i.e. 10—8—6--4..,ending range is exclusive. \n",
    "\n",
    "<i><b>If user has followed  the constraints:</i></b>\n",
    "\n",
    "<b>Input Format:</b>\n",
    "\n",
    "Enter the starting range 20\n",
    "\n",
    "Enter the ending range 10\n",
    "\n",
    "<b>Output Format:</b>\n",
    "\n",
    "Square of: 20 = 400\n",
    "\n",
    "Square of: 18 = 324\n",
    "\n",
    "Square of: 16 = 256\n",
    "\n",
    "Square of: 14 = 196\n",
    "\n",
    "Square of: 12 = 144\n",
    "\n",
    "<b><i>If user has violated the constraints: User should be given three chances</b></i>\n",
    "\n",
    "<b>Input Format 2:</b>\n",
    "\n",
    "Enter the starting range 10\n",
    "\n",
    "Enter the ending range 20\n",
    "\n",
    "Starting range should be greater than the ending range.\n",
    "\n",
    "\t\t:\t\t\t\n",
    "\t    :\n",
    "        \n",
    "Enter the starting range 100\n",
    "\n",
    "Enter the ending range 200\n",
    "\n",
    "Starting range should be greater than the ending range\n",
    "\t\n",
    "<b><i>Hint:[use range()]</b></i>\n"
   ]
  },
  {
   "cell_type": "code",
   "execution_count": null,
   "metadata": {},
   "outputs": [],
   "source": []
  }
 ],
 "metadata": {
  "kernelspec": {
   "display_name": "Python 3",
   "language": "python",
   "name": "python3"
  },
  "language_info": {
   "codemirror_mode": {
    "name": "ipython",
    "version": 3
   },
   "file_extension": ".py",
   "mimetype": "text/x-python",
   "name": "python",
   "nbconvert_exporter": "python",
   "pygments_lexer": "ipython3",
   "version": "3.7.3"
  }
 },
 "nbformat": 4,
 "nbformat_minor": 4
}
