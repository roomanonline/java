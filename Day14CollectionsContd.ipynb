{
 "cells": [
  {
   "cell_type": "markdown",
   "metadata": {},
   "source": [
    "# Important Instructions:\n",
    "1)When coding in java using jupyter notebooks there is no need to provide a main method as it is automatically provided.\n",
    "\n",
    "2)Code written within a cell is automatically placed within the main method unless you explicitly place it within another class\n",
    "\n",
    "I hope you enjoyed the classes and have built a good foundation for the logic involved. Now lets solve a few intresting questions to see what kind of logic you can come up with :)"
   ]
  },
  {
   "cell_type": "markdown",
   "metadata": {},
   "source": [
    "#### Note : You can add and remove any kind of data. Sample output is shown with Strings"
   ]
  },
  {
   "cell_type": "raw",
   "metadata": {},
   "source": [
    "1.\tWrite a Java program to create a new ArrayList, add some elements (string) and print out the collection and also retrieve the element at 2nd index\n",
    "\n",
    "Sample output:\n",
    "\n",
    "Elements of the ArrayList are: \n",
    "[Red, Green, Orange, White, Black]\n",
    "\n",
    "Element present in 2nd index is: Orange"
   ]
  },
  {
   "cell_type": "code",
   "execution_count": null,
   "metadata": {},
   "outputs": [],
   "source": []
  },
  {
   "cell_type": "raw",
   "metadata": {},
   "source": [
    "2.\tWrite a Java program to add all the elements of a specified TreeSet to another TreeSet.\n",
    "\n",
    "Sample output:\n",
    "\n",
    "TreeSet1: [Green, Orange, Red]\n",
    "TreeSet2: [Black, Pink, White]\n",
    "TreeSet1: [Black, Green, Orange, Pink, Red, White]"
   ]
  },
  {
   "cell_type": "code",
   "execution_count": null,
   "metadata": {},
   "outputs": [],
   "source": []
  },
  {
   "cell_type": "raw",
   "metadata": {},
   "source": [
    "3.\tWrite a Java program to get the number of elements in a TreeSet\n",
    "\n",
    "Sample output:\n",
    "\n",
    "Original TreeSet: [Black, Green, Pink, Red, orange]\n",
    "Size of the TreeSet: 5"
   ]
  },
  {
   "cell_type": "code",
   "execution_count": null,
   "metadata": {},
   "outputs": [],
   "source": []
  },
  {
   "cell_type": "raw",
   "metadata": {},
   "source": [
    "4.\tWrite a Java program to remove all the elements from a PriorityQueue.\n",
    "\n",
    "Sample output:\n",
    "\n",
    "Original Priority Queue: [Black, Red, Green, White]\n",
    "The New Priority Queue: []"
   ]
  },
  {
   "cell_type": "code",
   "execution_count": null,
   "metadata": {},
   "outputs": [],
   "source": []
  },
  {
   "cell_type": "raw",
   "metadata": {},
   "source": [
    "5.\tWrite a Java program to insert a given element into a PriorityQueue.\n",
    "\n",
    "Sample output:\n",
    "\n",
    "Original Priority Queue: [Black, Red, Green, White]\n",
    "The New Priority Queue: [Black, Blue, Green, White, Red]"
   ]
  },
  {
   "cell_type": "code",
   "execution_count": null,
   "metadata": {},
   "outputs": [],
   "source": []
  },
  {
   "cell_type": "raw",
   "metadata": {},
   "source": [
    "6.\tWrite a program to illustrate HashSet class. Display the size and elements of HashSet. Check for some elements existence\n",
    "\n",
    "Sample output:\n",
    "\n",
    "HashSet Size : 3\n",
    "HashSet Elements : [castle, moat, bridge]\n",
    "Checking some elements in set : \n",
    "Is castle present ?:true\n",
    "Is bridge present ?:true\n",
    "Is river present ?:false"
   ]
  },
  {
   "cell_type": "code",
   "execution_count": null,
   "metadata": {},
   "outputs": [],
   "source": []
  },
  {
   "cell_type": "raw",
   "metadata": {},
   "source": [
    "7.\tWrite a program to add all the elements of ArrayList to HashSet. and use allAll(),retainAll(),contains() of HashSet class."
   ]
  },
  {
   "cell_type": "code",
   "execution_count": null,
   "metadata": {},
   "outputs": [],
   "source": []
  },
  {
   "cell_type": "raw",
   "metadata": {},
   "source": [
    "8.\tWrite a Java program to compare two HashSets and retain elements which are same on both sets.\n",
    "\n",
    "Sample output:\n",
    "\n",
    "Frist HashSet content: [Red, White, Black, Green]\n",
    "Second HashSet content: [Red, Pink, Black, Orange]\n",
    "HashSet content:\n",
    "[Red, Black]"
   ]
  },
  {
   "cell_type": "code",
   "execution_count": null,
   "metadata": {},
   "outputs": [],
   "source": []
  },
  {
   "cell_type": "raw",
   "metadata": {},
   "source": [
    "9.\tWrite a program to create and traverse elements from  LinkedHashSet class. Use remove(),contains() methods.\n",
    "\n",
    "Sample output:\n",
    "\n",
    "Size of LinkedHashSet=5\n",
    "Original LinkedHashSet:[Maruti, BMW, Honda, Audi, WalksWagon]\n",
    "Removing Audi from LinkedHashSet: true\n",
    "Trying to Remove Z which is not present: false\n",
    "Checking if Maruti is present=true\n",
    "Updated LinkedHashSet: [Maruti, BMW, Honda, WalksWagon]"
   ]
  },
  {
   "cell_type": "code",
   "execution_count": null,
   "metadata": {},
   "outputs": [],
   "source": []
  },
  {
   "cell_type": "raw",
   "metadata": {},
   "source": [
    "10.\tWrite a program to compare two LinkedHashSet and retain elements which are same on both LinkedHashSet\n",
    "Sample output :\n",
    "Set elements : [first, second, third, apple, rat]\n",
    "Sub set elements : [rat, second, first]\n",
    "After retaining LinkedHashSet elements: [first, second, rat]"
   ]
  },
  {
   "cell_type": "code",
   "execution_count": null,
   "metadata": {},
   "outputs": [],
   "source": []
  }
 ],
 "metadata": {
  "kernelspec": {
   "display_name": "Java",
   "language": "java",
   "name": "java"
  },
  "language_info": {
   "codemirror_mode": "java",
   "file_extension": ".jshell",
   "mimetype": "text/x-java-source",
   "name": "Java",
   "pygments_lexer": "java",
   "version": "11.0.7+10-post-Ubuntu-2ubuntu218.04"
  }
 },
 "nbformat": 4,
 "nbformat_minor": 4
}
