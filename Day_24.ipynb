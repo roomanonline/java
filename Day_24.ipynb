{
 "cells": [
  {
   "cell_type": "markdown",
   "metadata": {},
   "source": [
    "# Important Instructions:"
   ]
  },
  {
   "cell_type": "raw",
   "metadata": {},
   "source": [
    "1)When coding in java using jupyter notebooks there is no need to provide a main method as it is automatically provided.\n",
    "\n",
    "2)Code written within a cell is automatically placed within the main method unless you explicitly place it within another class\n",
    "\n",
    "I hope you enjoyed the classes and have built a good foundation for the logic involved. Now lets solve a few intresting questions to see what kind of logic you can come up with :)"
   ]
  },
  {
   "cell_type": "raw",
   "metadata": {},
   "source": [
    "1.Write a program to define all five elements which are present in a class namely variable, method, constructor, instance block, static block and try to understand the order of execution.  \n",
    "\n",
    "Sample output:\n",
    "Static block\n",
    "Instance block\n",
    "0-arg constructor\n",
    "Instance block\n",
    "1-arg constructor\n",
    "Instance method\n",
    "Static method"
   ]
  },
  {
   "cell_type": "code",
   "execution_count": null,
   "metadata": {},
   "outputs": [],
   "source": []
  },
  {
   "cell_type": "raw",
   "metadata": {},
   "source": [
    "2.Write a program where we will access static variable from both instance and static method"
   ]
  },
  {
   "cell_type": "code",
   "execution_count": null,
   "metadata": {},
   "outputs": [],
   "source": []
  },
  {
   "cell_type": "raw",
   "metadata": {},
   "source": [
    "3. Write a program where we will declare a variable as static and access it by using class name and object reference variable"
   ]
  },
  {
   "cell_type": "code",
   "execution_count": null,
   "metadata": {},
   "outputs": [],
   "source": []
  },
  {
   "cell_type": "raw",
   "metadata": {},
   "source": [
    "4.Which of the following will compile when inserted in the following code? (Choose all that apply)\n",
    "\n",
    "public class Demo {\n",
    " \n",
    "final String exam1 = \"O\";\n",
    "static String exam2 = \"C\";\n",
    " \n",
    "{\n",
    "// CODE SNIPPET 1\n",
    "  \n",
    "}\n",
    "static {\n",
    "// CODE SNIPPET 2\n",
    "  \n",
    "}\n",
    " \n",
    "}\n",
    "A. exam1 = “A”; instead of // CODE SNIPPET 1\n",
    "B. exam 2 = “J”; instead of // CODE SNIPPET 1\n",
    "C. exam 1 = “P”; instead of // CODE SNIPPET 2\n",
    "D. exam 2 = “8”; instead of // CODE SNIPPET 2\n",
    "E. compile time error.\n",
    "F. Exception at run time.\n",
    "\n",
    "Please type your answer with explanation\n",
    "\n"
   ]
  },
  {
   "cell_type": "code",
   "execution_count": null,
   "metadata": {},
   "outputs": [],
   "source": []
  }
 ],
 "metadata": {
  "kernelspec": {
   "display_name": "Java",
   "language": "java",
   "name": "java"
  },
  "language_info": {
   "codemirror_mode": "java",
   "file_extension": ".jshell",
   "mimetype": "text/x-java-source",
   "name": "Java",
   "pygments_lexer": "java",
   "version": "11.0.6+10-post-Ubuntu-1ubuntu118.04.1"
  }
 },
 "nbformat": 4,
 "nbformat_minor": 4
}
