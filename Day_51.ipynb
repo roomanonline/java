{
 "cells": [
  {
   "cell_type": "markdown",
   "metadata": {},
   "source": [
    "# Important Instructions:"
   ]
  },
  {
   "cell_type": "raw",
   "metadata": {},
   "source": [
    "1)When coding in java using jupyter notebooks there is no need to provide a main method as it is automatically provided.\n",
    "\n",
    "2)Code written within a cell is automatically placed within the main method unless you explicitly place it within another class\n",
    "\n",
    "I hope you enjoyed the classes and have built a good foundation for the logic involved. Now lets solve a few intresting questions to see what kind of logic you can come up with :)"
   ]
  },
  {
   "cell_type": "raw",
   "metadata": {},
   "source": [
    "1.\tHow To Convert ArrayList To String Array\n",
    "Method 1 :\n",
    "a. Obtain the ArrayList size using size() method\n",
    "b. Bring each element of the list using get() method\n",
    "c. Assigned each element to corresponding array element using assignment = operator.\n"
   ]
  },
  {
   "cell_type": "code",
   "execution_count": null,
   "metadata": {},
   "outputs": [],
   "source": []
  },
  {
   "cell_type": "raw",
   "metadata": {},
   "source": [
    "2.Write a Java program to create a new ArrayList, add some elements (string) and print out the collection and also retrieve the element at 2nd index\n",
    "Sample output:\n",
    "Elements of the ArrayList are: \n",
    "[Red, Green, Orange, White, Black]\n",
    "\n",
    "Element present in 2nd index is: Orange\n"
   ]
  },
  {
   "cell_type": "code",
   "execution_count": null,
   "metadata": {},
   "outputs": [],
   "source": []
  }
 ],
 "metadata": {
  "kernelspec": {
   "display_name": "Java",
   "language": "java",
   "name": "java"
  },
  "language_info": {
   "codemirror_mode": "java",
   "file_extension": ".jshell",
   "mimetype": "text/x-java-source",
   "name": "Java",
   "pygments_lexer": "java",
   "version": "11.0.7+10-post-Ubuntu-2ubuntu218.04"
  }
 },
 "nbformat": 4,
 "nbformat_minor": 4
}
