{
 "cells": [
  {
   "cell_type": "markdown",
   "metadata": {},
   "source": [
    "# Important Instructions"
   ]
  },
  {
   "cell_type": "raw",
   "metadata": {},
   "source": [
    "I hope you enjoyed Python classes and have built a good foundation for the logic involved. Now lets solve a few intresting questions to see what kind of logic you can come up with :)"
   ]
  },
  {
   "cell_type": "raw",
   "metadata": {},
   "source": [
    "1) Write a script which contains all the real world entities and print the respective data types available in python which represents each entities. \n",
    "Sample Input:  \n",
    "  0\n",
    "  0.0\n",
    "  True\n",
    "  ‘Python’\n",
    "  5+5j\n"
   ]
  },
  {
   "cell_type": "code",
   "execution_count": null,
   "metadata": {},
   "outputs": [],
   "source": []
  },
  {
   "cell_type": "raw",
   "metadata": {},
   "source": [
    "2) Write a Script to create a list with heterogenous data(int, float, complex, String) and Do the following:\n",
    "      a) Print the type of the list.\n",
    "      b) Add two elements of your choice at rare end of the list and print the result. \n",
    "      c) Remove the first and last items from the list and print the result.\n",
    "      d) Insert the string ‘Python’ at the 2nd position of the list and print the result.\n"
   ]
  },
  {
   "cell_type": "code",
   "execution_count": null,
   "metadata": {},
   "outputs": [],
   "source": []
  },
  {
   "cell_type": "raw",
   "metadata": {},
   "source": [
    "3) Write a Script to create a set with heterogenous data(int, float, complex, String) and Do the following:\n",
    "      a) Print the type of the set.\n",
    "      b) Add two elements of your choice to the set and print the result. \n",
    "      c) Remove the first element from the set and print the result.\n"
   ]
  },
  {
   "cell_type": "code",
   "execution_count": null,
   "metadata": {},
   "outputs": [],
   "source": []
  },
  {
   "cell_type": "raw",
   "metadata": {},
   "source": [
    "4) Write a Python program to display the first and last colors from the following list given below:\n",
    "   color_list = [\"Red\",\"Green\",\"White\",\"Blue\"]\n",
    "   "
   ]
  },
  {
   "cell_type": "code",
   "execution_count": null,
   "metadata": {},
   "outputs": [],
   "source": []
  },
  {
   "cell_type": "raw",
   "metadata": {},
   "source": [
    "5) Write a Python program to create a tuple with different data types and print the output."
   ]
  },
  {
   "cell_type": "code",
   "execution_count": null,
   "metadata": {},
   "outputs": [],
   "source": []
  }
 ],
 "metadata": {
  "kernelspec": {
   "display_name": "Python 3",
   "language": "python",
   "name": "python3"
  },
  "language_info": {
   "codemirror_mode": {
    "name": "ipython",
    "version": 3
   },
   "file_extension": ".py",
   "mimetype": "text/x-python",
   "name": "python",
   "nbconvert_exporter": "python",
   "pygments_lexer": "ipython3",
   "version": "3.7.3"
  }
 },
 "nbformat": 4,
 "nbformat_minor": 4
}
