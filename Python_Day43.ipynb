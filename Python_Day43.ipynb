{
 "cells": [
  {
   "cell_type": "markdown",
   "metadata": {},
   "source": [
    "# Important Instructions"
   ]
  },
  {
   "cell_type": "markdown",
   "metadata": {},
   "source": [
    "###### I hope you enjoyed Python classes and have built a good foundation for the logic involved. Now lets solve a few intresting questions to see what kind of logic you can come up with :)¶"
   ]
  },
  {
   "cell_type": "markdown",
   "metadata": {},
   "source": [
    "###### Given two dictionary \n",
    "\n",
    "dic1 = { 'a' : 1, 'b' : 2 } \n",
    "\n",
    "dic2 = { 'b' : 3, 'c' : 4 }\n",
    "\n",
    "<b>write a script to get the following output using Chainmap.</b>\n",
    "\n",
    "All the ChainMap contents are : \n",
    "\n",
    "ChainMap({'a': 1, 'b': 2}, {'b': 3, 'c': 4})\n",
    "\n",
    "Displaying new ChainMap : \n",
    "\n",
    "ChainMap({'a': 1, 'b': 2, 'f': 5}, {'b': 3, 'c': 4})\n",
    "\n",
    "Value associated with b :  2\n"
   ]
  },
  {
   "cell_type": "code",
   "execution_count": null,
   "metadata": {},
   "outputs": [],
   "source": []
  },
  {
   "cell_type": "markdown",
   "metadata": {},
   "source": [
    "###### Write a script using named tuple to create employee name, age and salary and access the name using keyname and access the salary using index.\n",
    "\n",
    "Sample Input: Name , Age, Salary\n",
    "\n",
    "Sample Output: \n",
    "\n",
    "The employee name using keyname is : Jack\n",
    "\n",
    "The employee salary using index is : 25000\n"
   ]
  },
  {
   "cell_type": "code",
   "execution_count": null,
   "metadata": {},
   "outputs": [],
   "source": []
  },
  {
   "cell_type": "markdown",
   "metadata": {},
   "source": [
    "###### Write a script to create a deque to get the following output:\n",
    "\n",
    "deque(['Red', 'Green', 'White'])\n",
    "\n",
    "Adding to the left: \n",
    "\n",
    "deque(['Pink', 'Red', 'Green', 'White'])\n",
    "\n",
    "Adding to the right: \n",
    "\n",
    "deque(['Pink', 'Red', 'Green', 'White', 'Orange'])\n",
    "\n",
    "Removing from the right: \n",
    "\n",
    "deque(['Pink', 'Red', 'Green', 'White'])\n",
    "\n",
    "Removing from the left: \n",
    "\n",
    "deque(['Red', 'Green', 'White'])\n",
    "\n",
    "Reversing the deque: \n",
    "\n",
    "deque(['White', 'Green', 'Red'])\n"
   ]
  },
  {
   "cell_type": "code",
   "execution_count": null,
   "metadata": {},
   "outputs": [],
   "source": []
  },
  {
   "cell_type": "markdown",
   "metadata": {},
   "source": [
    "###### Write a script to count occurrence of all elements of list in a tuple using counter.\n",
    "\n",
    "Sample Input:\n",
    "\n",
    "Enter the tuple:(\"a\",'b','c','b','a','a')\n",
    "\n",
    "Enter the List:['a','b']\n",
    "\n",
    "Sample Output:\n",
    "\n",
    "Enter the tuple:(\"a\",'b','c','b','a','a')\n",
    "\n",
    "Enter the List:['a','b']\n",
    "\n",
    "Total elements of list in a tuple is : 5\n"
   ]
  },
  {
   "cell_type": "code",
   "execution_count": null,
   "metadata": {},
   "outputs": [],
   "source": []
  }
 ],
 "metadata": {
  "kernelspec": {
   "display_name": "Python 3",
   "language": "python",
   "name": "python3"
  },
  "language_info": {
   "codemirror_mode": {
    "name": "ipython",
    "version": 3
   },
   "file_extension": ".py",
   "mimetype": "text/x-python",
   "name": "python",
   "nbconvert_exporter": "python",
   "pygments_lexer": "ipython3",
   "version": "3.7.3"
  }
 },
 "nbformat": 4,
 "nbformat_minor": 4
}
