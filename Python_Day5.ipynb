{
 "cells": [
  {
   "cell_type": "markdown",
   "metadata": {},
   "source": [
    "# Important Instructions"
   ]
  },
  {
   "cell_type": "raw",
   "metadata": {},
   "source": [
    "I hope you enjoyed Python classes and have built a good foundation for the logic involved. Now lets solve a few intresting questions to see what kind of logic you can come up with :)"
   ]
  },
  {
   "cell_type": "raw",
   "metadata": {},
   "source": [
    "1)\tWrite a Script to create a dictionary with “key : value” pair. Where key as multiples of 2 and value as a string which indicates the key, and Do the following:\n",
    "Hint: {2:’two’,4:’four’…..so on}\n",
    "Print the type of the dictionary.\n"
   ]
  },
  {
   "cell_type": "code",
   "execution_count": null,
   "metadata": {},
   "outputs": [],
   "source": []
  },
  {
   "cell_type": "raw",
   "metadata": {},
   "source": [
    "2)\tWrite a script to create a dictionary with key as month name and values as how many days are in the month and print the key: value pair"
   ]
  },
  {
   "cell_type": "code",
   "execution_count": null,
   "metadata": {},
   "outputs": [],
   "source": []
  },
  {
   "cell_type": "raw",
   "metadata": {},
   "source": [
    "3)\tConvert a string “PYTHON” into list, tuple and set.\n",
    "Hint: Use type casting\n",
    "Sample input:    “PYTHON”\n",
    "Sample output:\n",
    "[‘P’,’Y’,’T’,’H’,’O’,’N’]\n",
    "(‘P’,’Y’,’T’,’H’,’O’,’N’)\n",
    "{‘P’,’Y’,’T’,’H’,’O’,’N’}\n"
   ]
  },
  {
   "cell_type": "code",
   "execution_count": null,
   "metadata": {},
   "outputs": [],
   "source": []
  },
  {
   "cell_type": "raw",
   "metadata": {},
   "source": [
    "4)\tWrite a python program to create 2 list, 2 tuple, 2 strings, 2 dictionary and 2 sets where both variable must contain same value and check whether the memory locations of both the variable are same or different. \n",
    "Hint : use id()\n"
   ]
  },
  {
   "cell_type": "code",
   "execution_count": null,
   "metadata": {},
   "outputs": [],
   "source": []
  }
 ],
 "metadata": {
  "kernelspec": {
   "display_name": "Python 3",
   "language": "python",
   "name": "python3"
  },
  "language_info": {
   "codemirror_mode": {
    "name": "ipython",
    "version": 3
   },
   "file_extension": ".py",
   "mimetype": "text/x-python",
   "name": "python",
   "nbconvert_exporter": "python",
   "pygments_lexer": "ipython3",
   "version": "3.7.3"
  }
 },
 "nbformat": 4,
 "nbformat_minor": 4
}
