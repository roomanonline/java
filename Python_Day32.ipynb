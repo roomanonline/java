{
 "cells": [
  {
   "cell_type": "markdown",
   "metadata": {},
   "source": [
    "# Important Instructions"
   ]
  },
  {
   "cell_type": "markdown",
   "metadata": {},
   "source": [
    "###### I hope you enjoyed Python classes and have built a good foundation for the logic involved. Now lets solve a few intresting questions to see what kind of logic you can come up with :)"
   ]
  },
  {
   "cell_type": "markdown",
   "metadata": {},
   "source": [
    "###### Write a script to extract all the word from the given sentence and print it by separating with underscore.\n",
    "\n",
    "Sample Input: 1 sun 1 moon 1000 stars 9 planets and you\n",
    "\n",
    "Sample Output: sun_moon_stars_planets_and_you"
   ]
  },
  {
   "cell_type": "code",
   "execution_count": null,
   "metadata": {},
   "outputs": [],
   "source": []
  },
  {
   "cell_type": "markdown",
   "metadata": {},
   "source": [
    "###### 2)Write a script to print the output according to the sample output from the give list\n",
    "Given Input: \n",
    "\n",
    "vehicles = [\"unicycle\",\"motorcycle\",\"plane\",\"car\"]\n",
    "\n",
    "wheels = [1,2,3,4]\n",
    "\n",
    "Sample Output:\n",
    "\n",
    "unicycle has 1 wheels \n",
    "\n",
    "motorcycle has 2 wheels \n",
    "\n",
    "plane has 3 wheels \n",
    "\n",
    "car has 4 wheels\n"
   ]
  },
  {
   "cell_type": "code",
   "execution_count": null,
   "metadata": {},
   "outputs": [],
   "source": []
  },
  {
   "cell_type": "markdown",
   "metadata": {},
   "source": [
    "###### 3)Below there is the chart of xyz company which includes the  list of sales and its corresponding cost, using these data do the following:\n",
    "\n",
    "Sample Input:\n",
    "\n",
    "sales_list = [120,500,800]\n",
    "\n",
    "cost_list = [100,200,500]\n",
    "\n",
    "Sample output:\n",
    "\n",
    "Profit_list =  [20, 300, 300]"
   ]
  },
  {
   "cell_type": "markdown",
   "metadata": {},
   "source": [
    "###### a) find the profit of the company: sales – cost  =  profit."
   ]
  },
  {
   "cell_type": "code",
   "execution_count": null,
   "metadata": {},
   "outputs": [],
   "source": []
  },
  {
   "cell_type": "markdown",
   "metadata": {},
   "source": [
    "###### Using all() and any():\n",
    "    \n",
    "<b>b)check if any sales has given the profit more than 500</b>\n"
   ]
  },
  {
   "cell_type": "code",
   "execution_count": null,
   "metadata": {},
   "outputs": [],
   "source": []
  },
  {
   "cell_type": "markdown",
   "metadata": {},
   "source": [
    "###### <b>c)check if all the sales are profits</b>"
   ]
  },
  {
   "cell_type": "code",
   "execution_count": null,
   "metadata": {},
   "outputs": [],
   "source": []
  }
 ],
 "metadata": {
  "kernelspec": {
   "display_name": "Python 3",
   "language": "python",
   "name": "python3"
  },
  "language_info": {
   "codemirror_mode": {
    "name": "ipython",
    "version": 3
   },
   "file_extension": ".py",
   "mimetype": "text/x-python",
   "name": "python",
   "nbconvert_exporter": "python",
   "pygments_lexer": "ipython3",
   "version": "3.7.3"
  }
 },
 "nbformat": 4,
 "nbformat_minor": 4
}
