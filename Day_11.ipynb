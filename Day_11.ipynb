{
 "cells": [
  {
   "cell_type": "markdown",
   "metadata": {},
   "source": [
    "# Important Instructions:"
   ]
  },
  {
   "cell_type": "raw",
   "metadata": {},
   "source": [
    "1)When coding in java using jupyter notebooks there is no need to provide a main method as it is automatically provided.\n",
    "\n",
    "2)Code written within a cell is automatically placed within the main method unless you explicitly place it within another class\n",
    "\n",
    "I hope you enjoyed the Typecasting,Array classes and have built a good foundation for the logic involved. Now lets solve a few intresting questions to see what kind of logic you can come up with :)"
   ]
  },
  {
   "cell_type": "raw",
   "metadata": {},
   "source": [
    "1.Define a class named ArraySum. In the class aninteger array of N elements is created and N integers are read into it from the keyboard. The sum of these integers, is the displayed as output.\n",
    "\n",
    "Sample Input :\n",
    "\n",
    "Enter limit (i.e, N) : 5 Enter num 1 : 6 Enter num 2 : 9 . . Enter num 5 : 100\n",
    "\n",
    "Sample Output : Sum of the numbers is : 145"
   ]
  },
  {
   "cell_type": "code",
   "execution_count": null,
   "metadata": {},
   "outputs": [],
   "source": []
  },
  {
   "cell_type": "raw",
   "metadata": {},
   "source": [
    "2.Define a class named MaxMin. In the class an integer array of N elements is created and N integers are read into it from keyboard. The max and min of these integers, are displayed as output.\n",
    "\n",
    "Sample Input :\n",
    "\n",
    "Enter the limit : 10\n",
    "\n",
    "Enter num 1 : 45 \n",
    "Enter num 2 : 7\n",
    ".\n",
    ".\n",
    "Enter num 10 : 34\n",
    "\n",
    "Sample output : \n",
    "Max number is….45 Min number is….7"
   ]
  },
  {
   "cell_type": "code",
   "execution_count": null,
   "metadata": {},
   "outputs": [],
   "source": []
  },
  {
   "cell_type": "raw",
   "metadata": {},
   "source": [
    "3.Define a class named DuplicateFinder. In the class an integer array of N elements is created and N integers are read into it from keyboard. Print all the elements of the array and its duplicate elements along with their frequency of occurrence are printed.\n",
    "Sample Input:\n",
    "Enter the limit : 10\n",
    "\n",
    "Enter num 1 : 4 \n",
    "Enter num 2 : 7\n",
    "…\n",
    "Enter num 5 : 7\n",
    "…\n",
    "Enter num 10 : 45\n",
    "\n",
    "Sample output:\n",
    "Elements:45,7,....,45\n",
    "Duplicate Element      Frequency of Occurrence\n",
    "     7                          2\n",
    "    45                          2"
   ]
  },
  {
   "cell_type": "code",
   "execution_count": null,
   "metadata": {},
   "outputs": [],
   "source": []
  },
  {
   "cell_type": "code",
   "execution_count": null,
   "metadata": {},
   "outputs": [],
   "source": []
  },
  {
   "cell_type": "code",
   "execution_count": null,
   "metadata": {},
   "outputs": [],
   "source": []
  }
 ],
 "metadata": {
  "kernelspec": {
   "display_name": "Java",
   "language": "java",
   "name": "java"
  },
  "language_info": {
   "codemirror_mode": "java",
   "file_extension": ".jshell",
   "mimetype": "text/x-java-source",
   "name": "Java",
   "pygments_lexer": "java",
   "version": "11.0.6+10-post-Ubuntu-1ubuntu118.04.1"
  }
 },
 "nbformat": 4,
 "nbformat_minor": 4
}
