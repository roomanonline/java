{
 "cells": [
  {
   "cell_type": "markdown",
   "metadata": {},
   "source": [
    "# Important Instructions:\n",
    "\n",
    "1)When coding in java using jupyter notebooks there is no need to provide a main method as it is automatically provided.\n",
    "\n",
    "2)Code written within a cell is automatically placed within the main method unless you explicitly place it within another class\n",
    "\n",
    "I hope you enjoyed the classes and have built a good foundation for the logic involved. Now lets solve a few intresting questions to see what kind of logic you can come up with :)\n"
   ]
  },
  {
   "cell_type": "raw",
   "metadata": {},
   "source": [
    "1. Write program to illustrate that, sleep() will \"slow down threads\"."
   ]
  },
  {
   "cell_type": "code",
   "execution_count": null,
   "metadata": {},
   "outputs": [],
   "source": []
  },
  {
   "cell_type": "raw",
   "metadata": {},
   "source": [
    "2. Create two threads and assign names ‘Rama and ‘Shama’ to the two threads. Display both thread names.\n",
    "Hint:\n",
    "Setting the name of the thread.\n",
    "\n",
    "Sample output:\n",
    "\n",
    "I'm Rama\n",
    "I'm Shama\n"
   ]
  },
  {
   "cell_type": "code",
   "execution_count": null,
   "metadata": {},
   "outputs": [],
   "source": []
  },
  {
   "cell_type": "raw",
   "metadata": {},
   "source": [
    "3. Store colours in the form of an array  \n",
    "for ex: String colours[]={\"white\",\"blue\",\"black\",\"green\",\"red\",\"yellow\"}; display all colours repeatedly by generating colour index from Random class. If the random colour index matches to red stop display. \n",
    "\n",
    "Note: \n",
    " perform this task by implementing Runnabe interface\n",
    "\n",
    "Hint:\n",
    " Thread creation \t\n",
    " \n",
    "Sample output:\n",
    "\n",
    "black\n",
    "white\n",
    "green\n",
    "green\n",
    "yellow\n",
    "yellow\n",
    "black"
   ]
  },
  {
   "cell_type": "code",
   "execution_count": null,
   "metadata": {},
   "outputs": [],
   "source": []
  },
  {
   "cell_type": "raw",
   "metadata": {},
   "source": [
    "4. Write a program to illustrate creation of threads using runnable interface (use sleep() to suspend the thread for 500 milliseconds)."
   ]
  },
  {
   "cell_type": "code",
   "execution_count": null,
   "metadata": {},
   "outputs": [],
   "source": []
  },
  {
   "cell_type": "raw",
   "metadata": {},
   "source": [
    "5. Write a program to create a class MyThread. MyThread class constructor should call the base class constructor (i.e., Thread class), using super and start the thread. The run method of the class starts after this. Check that both main thread and created child thread are executed concurrently"
   ]
  },
  {
   "cell_type": "code",
   "execution_count": null,
   "metadata": {},
   "outputs": [],
   "source": []
  },
  {
   "cell_type": "raw",
   "metadata": {},
   "source": [
    "6. Write a program to get the reference to the current thread by calling currentThread() method."
   ]
  },
  {
   "cell_type": "code",
   "execution_count": null,
   "metadata": {},
   "outputs": [],
   "source": []
  },
  {
   "cell_type": "raw",
   "metadata": {},
   "source": [
    "7. Create a multithreaded program by creating the MyThread which is a subclass of Thread where the threads will execute concurrently and display a message “Small steps every day” But create threads as objects of the class MyClass, which is not a subclass of Thread. MyClass will implement the runnable interface and objects of MyClass will be executed as threads by passing them as arguments to the Thread constructor.\n",
    "\n",
    "Hint:\n",
    " Create String array to store the string “Small steps every day”.\n"
   ]
  },
  {
   "cell_type": "code",
   "execution_count": null,
   "metadata": {},
   "outputs": [],
   "source": []
  },
  {
   "cell_type": "raw",
   "metadata": {},
   "source": [
    "8. Write a program to demonstrate Daemon thread"
   ]
  },
  {
   "cell_type": "code",
   "execution_count": null,
   "metadata": {},
   "outputs": [],
   "source": []
  }
 ],
 "metadata": {
  "kernelspec": {
   "display_name": "Java",
   "language": "java",
   "name": "java"
  },
  "language_info": {
   "codemirror_mode": "java",
   "file_extension": ".jshell",
   "mimetype": "text/x-java-source",
   "name": "Java",
   "pygments_lexer": "java",
   "version": "11.0.6+10-post-Ubuntu-1ubuntu118.04.1"
  }
 },
 "nbformat": 4,
 "nbformat_minor": 4
}
