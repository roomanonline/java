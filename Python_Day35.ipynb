{
 "cells": [
  {
   "cell_type": "markdown",
   "metadata": {},
   "source": [
    "# Important Instructions"
   ]
  },
  {
   "cell_type": "markdown",
   "metadata": {},
   "source": [
    "###### I hope you enjoyed Python classes and have built a good foundation for the logic involved. Now lets solve a few intresting questions to see what kind of logic you can come up with :)"
   ]
  },
  {
   "cell_type": "markdown",
   "metadata": {},
   "source": [
    "###### Write a program to take list input and remove the duplicate elements from the list using set().\n",
    "\n",
    "Sample Input: Enter a list:[10,10,20,20,30,40,50]\n",
    "\n",
    "Sample Output: {40, 10, 50, 20, 30}\n"
   ]
  },
  {
   "cell_type": "code",
   "execution_count": null,
   "metadata": {},
   "outputs": [],
   "source": []
  },
  {
   "cell_type": "markdown",
   "metadata": {},
   "source": [
    "###### Write a program to remove the repeated words from the given sentence.\n",
    "\n",
    "Sample Input: Enter a string: \"hello world hello hello world world hello python\"\n",
    "        \n",
    "Sample Output: {'hello', 'python', 'world'}\n"
   ]
  },
  {
   "cell_type": "code",
   "execution_count": null,
   "metadata": {},
   "outputs": [],
   "source": []
  },
  {
   "cell_type": "markdown",
   "metadata": {},
   "source": [
    "###### Define a function to find whether a given string has unique characters or not using set().\n",
    "\n",
    "Sample Input1:  Enter a String: \"Hello\"\n",
    "        \n",
    "Sample output2: Input string has duplicates\n",
    "\n",
    "\n",
    "Sample Input1:Enter a String:\"Hi\"\n",
    "        \n",
    "Sample output2:Input string has unique character\n"
   ]
  },
  {
   "cell_type": "code",
   "execution_count": null,
   "metadata": {},
   "outputs": [],
   "source": []
  }
 ],
 "metadata": {
  "kernelspec": {
   "display_name": "Python 3",
   "language": "python",
   "name": "python3"
  },
  "language_info": {
   "codemirror_mode": {
    "name": "ipython",
    "version": 3
   },
   "file_extension": ".py",
   "mimetype": "text/x-python",
   "name": "python",
   "nbconvert_exporter": "python",
   "pygments_lexer": "ipython3",
   "version": "3.7.3"
  }
 },
 "nbformat": 4,
 "nbformat_minor": 4
}
