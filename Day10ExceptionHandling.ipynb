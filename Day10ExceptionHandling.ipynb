{
 "cells": [
  {
   "cell_type": "markdown",
   "metadata": {},
   "source": [
    "# Important Instructions:\n",
    "\n",
    "1)When coding in java using jupyter notebooks there is no need to provide a main method as it is automatically provided.\n",
    "\n",
    "2)Code written within a cell is automatically placed within the main method unless you explicitly place it within another class\n",
    "\n",
    "I hope you enjoyed the classes and have built a good foundation for the logic involved. Now lets solve a few intresting questions to see what kind of logic you can come up with :)\n"
   ]
  },
  {
   "cell_type": "raw",
   "metadata": {},
   "source": [
    "1. Complete the code segment to catch the ArithmeticException, if any. On the occurrence of such an exception, your program should print “Exception caught: Division by zero.” If there is no such exception, it will print the result of division operation on two integer values.\n",
    "\n",
    "import java.util.Scanner;\n",
    "public class ArithExcep {\n",
    "\tpublic static void main(String[] args) {\n",
    "\t\tint numerator, denominator;\n",
    "\t\tScanner input = new Scanner(System.in);\n",
    "\n",
    "\t\tSystem.out.println(\"Enter Numerator : \");\n",
    "//Read any two values for numerator and denominator.\n",
    "\t\t\n",
    "\t\tSystem.out.println(\"Enter Denominator : \");\n",
    "\t\t\n",
    "//Get the result of a/b;\n",
    "\t\ttry {\n",
    "\t\t\t\n",
    "            \n",
    "\t\t    } \n",
    "        catch (ArithmeticException e) {\n",
    "\t\t\tSystem.out.print(\"Exception caught: Division by zero\");\n",
    "\t\t}\n",
    "     }\n",
    "\n",
    "Sample input and output 1:\n",
    "\n",
    "Enter Numerator : 12\n",
    "Enter Denominator : 3\n",
    "Quotient : 4\n",
    "\n",
    "Sample input and output 2:\n",
    "\n",
    "Enter Numerator : 34\n",
    "Enter Denominator : 0\n",
    "Exception caught: Division by zero\n",
    "\n"
   ]
  },
  {
   "cell_type": "code",
   "execution_count": null,
   "metadata": {},
   "outputs": [],
   "source": []
  },
  {
   "cell_type": "raw",
   "metadata": {},
   "source": [
    "2. Handle exception in number Problem statement: Get the input String from user and parse it to integer, if it is not a number it will throw number format exception Catch it and print \"Entered input is not a valid format for an integer.\" or else print the square of that number\n",
    "\n",
    "Sample input and output 1: \n",
    "\n",
    "Enter an integer: 12\n",
    " The square value is 144\n",
    " The work has been done successfully \n",
    "\n",
    "Sample input and output 2: \n",
    "\n",
    "Enter an integer: Java \n",
    "Entered input is not a valid format for an integer.\n"
   ]
  },
  {
   "cell_type": "code",
   "execution_count": null,
   "metadata": {},
   "outputs": [],
   "source": []
  },
  {
   "cell_type": "raw",
   "metadata": {},
   "source": [
    "3. In a program, an array of integer data to be initialized. During the initialization, if a user enters a value other than integer value, then it will throw InputMismatchException exception. On the occurrence of such an exception, your program should print “You entered bad data.” If there is no such exception it will print the total sum of the array.\n",
    "\n",
    "Sample input and output 1:\n",
    "\n",
    "Enter the limit or array size : e\n",
    "You entered bad data.\n",
    "\n",
    "Sample input and output 2:\n",
    "\n",
    "Enter the limit or array size : 4\n",
    "Enter 4 elements : \n",
    "99\n",
    "23\n",
    "^\n",
    "You entered bad data.\n"
   ]
  },
  {
   "cell_type": "code",
   "execution_count": null,
   "metadata": {},
   "outputs": [],
   "source": []
  },
  {
   "cell_type": "raw",
   "metadata": {},
   "source": [
    "4. Write a program, there may be multiple exceptions. You have to complete the code using only one try-catch block to handle all the possible exceptions.\n",
    "For example, if user’s input is 1, then it will throw and catch \"java.lang.NullPointerException\"."
   ]
  },
  {
   "cell_type": "code",
   "execution_count": null,
   "metadata": {},
   "outputs": [],
   "source": []
  },
  {
   "cell_type": "raw",
   "metadata": {},
   "source": [
    "5. A student portal provides user to register their profile. During registration the system needs to validate that the user should be located in India. If not the system should throw an exception. Step 1: Create a user defined exception class named “InvalidCountryException”. Step 2: Overload the respective constructors. Step 3: Create a main class “UserRegistration”, add the following method, registerUser– The parameter are String username,String userCountry and add the following logic, • if userCountry is not equal to “India” throw a InvalidCountryException with the message “User Outside India cannot be registered” • if userCountry is equal to “India”, print the message “User registration done successfully” Invoke the method registerUser from the main method with the data specified and see how the program behaves.\n",
    "\n",
    "Sample input and output 1:\n",
    "\n",
    "Enter your name: \n",
    "Geetha\n",
    "Enter your Country : \n",
    "US\n",
    "InvalidCountryException occured\n",
    "User Outside India  cannot be registered\n",
    "\n",
    "Sample input and output  2:\n",
    "\n",
    "Enter your name : \n",
    "Lokesh\n",
    "Enter your Country : \n",
    "India\n",
    "User registration done successfully\n"
   ]
  },
  {
   "cell_type": "code",
   "execution_count": null,
   "metadata": {},
   "outputs": [],
   "source": []
  },
  {
   "cell_type": "raw",
   "metadata": {},
   "source": [
    "6. Write a program to accept name and age of a person from the keyboard and ensure that the age entered is >=18 and < 60. Display proper error messages. The program must exit gracefully after displaying the error message in case the arguments passed are not proper. (Hint : Create a user defined exception class for handling errors.)\n",
    "\n",
    "Sample input and output 1:\n",
    "\n",
    "Enter your Name and Age:\n",
    "Naveena\n",
    "25\n",
    "\n",
    "Name: Naveena Age: 25\n",
    "\n",
    "Sample input and output 2:\n",
    "\n",
    "Enter your Name and Age:\n",
    "Shankar\n",
    "67\n",
    "\n",
    "Invalid age\n",
    "Exception in thread \"main\" excep.InvalidAgeException\n",
    "\tat excep.CheckAge.main(CheckAge.java:20)"
   ]
  },
  {
   "cell_type": "code",
   "execution_count": null,
   "metadata": {},
   "outputs": [],
   "source": []
  },
  {
   "cell_type": "raw",
   "metadata": {},
   "source": [
    "7. Write a program that accepts 2 integers a and b as input and finds the quotient of a/b. This program may generate an Arithmetic Exception. Use exception handling mechanisms to handle this exception. In the catch block, print the message as shown in the sample output. Also illustrate the use of finally block. Print the message “Inside finally block”. \n",
    "\n",
    "Sample Input and Output 1:\n",
    "\n",
    "Enter the 2 numbers\n",
    "4\n",
    "0\n",
    "/ by zero caught\n",
    "Inside finally block\n",
    "\n",
    "Sample Input and Output 2:\n",
    "\n",
    "Enter the 2 numbers\n",
    "30\n",
    "5\n",
    "The quotient of 30 / 5 = 6\n",
    "Inside finally block"
   ]
  },
  {
   "cell_type": "code",
   "execution_count": null,
   "metadata": {},
   "outputs": [],
   "source": []
  },
  {
   "cell_type": "raw",
   "metadata": {},
   "source": [
    "8. Create a class with a main() that throws an object of class Exception inside a try block. Give the constructor for Exception a String argument. Catch the exception inside a catch clause and print the String argument. Add a finally clause and print a message “Code execution complete”\n",
    "Hint: Use “throw” keyword"
   ]
  },
  {
   "cell_type": "code",
   "execution_count": null,
   "metadata": {},
   "outputs": [],
   "source": []
  }
 ],
 "metadata": {
  "kernelspec": {
   "display_name": "Java",
   "language": "java",
   "name": "java"
  },
  "language_info": {
   "codemirror_mode": "java",
   "file_extension": ".jshell",
   "mimetype": "text/x-java-source",
   "name": "Java",
   "pygments_lexer": "java",
   "version": "11.0.6+10-post-Ubuntu-1ubuntu118.04.1"
  }
 },
 "nbformat": 4,
 "nbformat_minor": 4
}
