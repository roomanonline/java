{
 "cells": [
  {
   "cell_type": "markdown",
   "metadata": {},
   "source": [
    "# Important Instructions:"
   ]
  },
  {
   "cell_type": "raw",
   "metadata": {},
   "source": [
    "1)When coding in java using jupyter notebooks there is no need to provide a main method as it is automatically provided.\n",
    "\n",
    "2)Code written within a cell is automatically placed within the main method unless you explicitly place it within another class\n",
    "\n",
    "I hope you enjoyed the classes and have built a good foundation for the logic involved. Now lets solve a few intresting questions to see what kind of logic you can come up with :)"
   ]
  },
  {
   "cell_type": "raw",
   "metadata": {},
   "source": [
    "1.Write a program to explain multiple inheritance with the below mwntioned scenario\n",
    "\n",
    "Create a class Number which contains two variables x & y.\n",
    "Create a interface Arithmetic which has two abstract methods add(int a, int b) and sub(int a, int b)\n",
    "Now create a class UseInterface which inherits from both Number class and Arithmetic interface.\n",
    "\n",
    "Sample output:\n",
    "\n",
    "The sum is 22\n",
    "The difference is 18"
   ]
  },
  {
   "cell_type": "code",
   "execution_count": null,
   "metadata": {},
   "outputs": [],
   "source": []
  },
  {
   "cell_type": "raw",
   "metadata": {},
   "source": [
    "2.Prove that all the methods in an interface are automatically public."
   ]
  },
  {
   "cell_type": "code",
   "execution_count": null,
   "metadata": {},
   "outputs": [],
   "source": []
  },
  {
   "cell_type": "raw",
   "metadata": {},
   "source": [
    "3.Create three interfaces, each with two methods.Create a new interface, inherit all three interfaces and add a new method. Create a concrete class and inherit newly created interface.\n",
    "Write a Test class and use all the methods\n",
    "\n",
    "Sample output:\n",
    "\n",
    "Method1 from Interface1\n",
    "Method2 from Interface1\n",
    "Method1 from Interface2\n",
    "Method2 from Interface2\n",
    "Method1 from Interface3\n",
    "Method2 from Interface3\n",
    "Method from Concrete class\n"
   ]
  },
  {
   "cell_type": "code",
   "execution_count": null,
   "metadata": {},
   "outputs": [],
   "source": []
  },
  {
   "cell_type": "raw",
   "metadata": {},
   "source": [
    "4.Prove that the fields in an interface are implicitly static and final"
   ]
  },
  {
   "cell_type": "code",
   "execution_count": null,
   "metadata": {},
   "outputs": [],
   "source": []
  }
 ],
 "metadata": {
  "kernelspec": {
   "display_name": "Java",
   "language": "java",
   "name": "java"
  },
  "language_info": {
   "codemirror_mode": "java",
   "file_extension": ".jshell",
   "mimetype": "text/x-java-source",
   "name": "Java",
   "pygments_lexer": "java",
   "version": "11.0.7+10-post-Ubuntu-2ubuntu218.04"
  }
 },
 "nbformat": 4,
 "nbformat_minor": 4
}
