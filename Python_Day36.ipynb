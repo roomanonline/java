{
 "cells": [
  {
   "cell_type": "markdown",
   "metadata": {},
   "source": [
    "# Important Instructions"
   ]
  },
  {
   "cell_type": "markdown",
   "metadata": {},
   "source": [
    "###### I hope you enjoyed Python classes and have built a good foundation for the logic involved. Now lets solve a few intresting questions to see what kind of logic you can come up with :)"
   ]
  },
  {
   "cell_type": "markdown",
   "metadata": {},
   "source": [
    "###### 1)Write a Python program to remove the intersection of a 2nd set from the 1st set.\n",
    "\n",
    "<b>Sample Input:</b>\n",
    "\n",
    "Original sets:\n",
    "\n",
    "{1, 2, 3, 4, 5}\n",
    "\n",
    "{4, 5, 6, 7, 8}\n",
    "\n",
    "<b>Sample output:</b>\n",
    "\n",
    "Remove the intersection of a 2nd set from the 1st set :\n",
    "\n",
    "{1, 2, 3}\n"
   ]
  },
  {
   "cell_type": "code",
   "execution_count": null,
   "metadata": {},
   "outputs": [],
   "source": []
  },
  {
   "cell_type": "markdown",
   "metadata": {},
   "source": [
    "###### 2) Write a Python program to check a given set has no elements in common with other given set.\n",
    "\n",
    "<b>Sample Input:</b>\n",
    "\n",
    "Enter set1:{1,2,3}\n",
    "\n",
    "Enter set2:{5,6,3}\n",
    "\n",
    "<b>Sample Output:</b>\n",
    "\n",
    "Original sets:\n",
    "\n",
    "{1, 2, 3}\n",
    "\n",
    "{3, 5, 6}\n",
    "\n",
    "s1 set has elements common with s2 set\n",
    "\n",
    "<b>Sample Input:</b>\n",
    "\n",
    "Enter set1:{2, 3, 4}\n",
    "\n",
    "Enter set2:{5, 6, 7}\n",
    "\n",
    "<b>Sample Output:</b>\n",
    "\n",
    "Original sets:\n",
    "\n",
    "{2, 3, 4}\n",
    "\n",
    "{5, 6, 7}\n",
    "\n",
    "s1 set has no elements common with s2 set\n"
   ]
  },
  {
   "cell_type": "code",
   "execution_count": null,
   "metadata": {},
   "outputs": [],
   "source": []
  },
  {
   "cell_type": "markdown",
   "metadata": {},
   "source": [
    "###### 3)Given 2 sets of integers, M and N, print their symmetric difference in ascending order.\n",
    "\n",
    "<b>Sample Input:</b>\n",
    "    \n",
    "Enter first space-separated integer :1 2 3 4\n",
    "    \n",
    "Enter second space-separated integer:2 3 4\n",
    "    \n",
    "<b>Sample Output:</b>\n",
    "    \n",
    "symmetric difference in ascending order\n",
    "\n",
    "1\n"
   ]
  },
  {
   "cell_type": "code",
   "execution_count": null,
   "metadata": {},
   "outputs": [],
   "source": []
  },
  {
   "cell_type": "markdown",
   "metadata": {},
   "source": [
    "###### 4)Write a program to define a function were with a given list [12,24,35,24,88,120,155,88,120,155], print this list after removing all duplicate values.\n",
    "\n",
    "<b>Hints:Use set() to store a number of values without duplicate.</b>\n",
    "\n",
    "<b>Sample Input:</b>[12,24,35,24,88,120,155,88,120,155]\n",
    "\n",
    "<b>Sample Output:</b>\n",
    "\n",
    "Original list: [12, 24, 35, 24, 88, 120, 155, 88, 120, 155]\n",
    "\n",
    "Duplicate Elements list: [12, 24, 35, 88, 120, 155]\n"
   ]
  },
  {
   "cell_type": "code",
   "execution_count": null,
   "metadata": {},
   "outputs": [],
   "source": []
  }
 ],
 "metadata": {
  "kernelspec": {
   "display_name": "Python 3",
   "language": "python",
   "name": "python3"
  },
  "language_info": {
   "codemirror_mode": {
    "name": "ipython",
    "version": 3
   },
   "file_extension": ".py",
   "mimetype": "text/x-python",
   "name": "python",
   "nbconvert_exporter": "python",
   "pygments_lexer": "ipython3",
   "version": "3.7.3"
  }
 },
 "nbformat": 4,
 "nbformat_minor": 4
}
