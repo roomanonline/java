{
 "cells": [
  {
   "cell_type": "markdown",
   "metadata": {},
   "source": [
    "# Important Instructions"
   ]
  },
  {
   "cell_type": "markdown",
   "metadata": {},
   "source": [
    "###### I hope you enjoyed Python classes and have built a good foundation for the logic involved. Now lets solve a few intresting questions to see what kind of logic you can come up with :)"
   ]
  },
  {
   "cell_type": "markdown",
   "metadata": {},
   "source": [
    "###### Write a program to convert dictionary into concatenated string.\n",
    "\n",
    "Sample Input: Enter the dictionary:{'one' : 1, 'two' : 2, 'three' : 3}\n",
    "        \n",
    "Sample Output: \n",
    "    \n",
    "The original dictionary is  :{'one' : 1, 'two' : 2, 'three' : 3}\n",
    "    \n",
    "The dictionary after concatenation is : one1two2three3\n"
   ]
  },
  {
   "cell_type": "code",
   "execution_count": null,
   "metadata": {},
   "outputs": [],
   "source": []
  },
  {
   "cell_type": "markdown",
   "metadata": {},
   "source": [
    "###### write a program to combine two dictionaries such that we get the added values for common keys in resultant dictionary.\n",
    "\n",
    "Sample Input: \n",
    "dict1 = {'black': 10, 'red': 25, 'color': 9} \n",
    "\n",
    "dict2 = {'blue': 100, 'color': 200, 'red': 300}\n",
    "\n",
    "Sample Output: {'blue': 100, 'color': 209, 'red': 325}\n"
   ]
  },
  {
   "cell_type": "code",
   "execution_count": null,
   "metadata": {},
   "outputs": [],
   "source": []
  },
  {
   "cell_type": "markdown",
   "metadata": {},
   "source": [
    "###### Write a program to swap the key, value  of a given dictionary.\n",
    "\n",
    "Sample Input:  Enter a dictionary :{'A': 67, 'B': 68, 'C': 69, 'D': 70, 'E': 71, 'F': 72}\n",
    "\n",
    "Sample Output:\n",
    "\n",
    "Original dictionary is : \n",
    "\n",
    "{'A': 67, 'B': 68, 'C': 69, 'D': 70, 'E': 71, 'F': 72}\n",
    "\n",
    "Dictionary after swapping is :  \n",
    "\n",
    "keys: values\n",
    "\n",
    "67  :   A\n",
    "\n",
    "68  :   B\n",
    "\n",
    "69  :   C\n",
    "\n",
    "70  :   D\n",
    "\n",
    "71  :   E\n",
    "\n",
    "72  :   F\n"
   ]
  },
  {
   "cell_type": "code",
   "execution_count": null,
   "metadata": {},
   "outputs": [],
   "source": []
  }
 ],
 "metadata": {
  "kernelspec": {
   "display_name": "Python 3",
   "language": "python",
   "name": "python3"
  },
  "language_info": {
   "codemirror_mode": {
    "name": "ipython",
    "version": 3
   },
   "file_extension": ".py",
   "mimetype": "text/x-python",
   "name": "python",
   "nbconvert_exporter": "python",
   "pygments_lexer": "ipython3",
   "version": "3.7.3"
  }
 },
 "nbformat": 4,
 "nbformat_minor": 4
}
