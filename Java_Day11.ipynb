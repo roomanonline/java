{
 "cells": [
  {
   "cell_type": "markdown",
   "metadata": {},
   "source": [
    "# Important Instructions:"
   ]
  },
  {
   "cell_type": "raw",
   "metadata": {},
   "source": [
    "1)When coding in java using jupyter notebooks there is no need to provide a main method as it is automatically provided.\n",
    "\n",
    "2)Code written within a cell is automatically placed within the main method unless you explicitly place it within another class\n",
    "\n",
    "I hope you enjoyed the Array classes and have built a good foundation for the logic involved. Now lets solve a few intresting questions to see what kind of logic you can come up with :)"
   ]
  },
  {
   "cell_type": "raw",
   "metadata": {},
   "source": [
    "1.Write a java program to create an integer array of length 5 and print each element of the array using the index number."
   ]
  },
  {
   "cell_type": "code",
   "execution_count": null,
   "metadata": {},
   "outputs": [],
   "source": []
  },
  {
   "cell_type": "raw",
   "metadata": {},
   "source": [
    "2.Write a program to input an interger number and to determine  which  data types you can store that number. If there are multiple suitable datatypes, list them all in the order.\n",
    "\n",
    "Sample Input\t\n",
    "\n",
    "\t-150\n",
    "\t150000\n",
    "\t1500000000\n",
    "\t213333333333333333333333333333333333\n",
    "\t-100000000000000\t\n",
    "\tSample Output\t\n",
    "\t-150 can be fitted in:\n",
    "\t* short\n",
    "\t* int\n",
    "\t* long\n",
    "\t150000 can be fitted in:\n",
    "\t* int\n",
    "\t* long\n",
    "\t1500000000 can be fitted in:\n",
    "\t* int\n",
    "\t* long\n",
    "\t213333333333333333333333333333333333 can't be fitted anywhere.\n",
    "\t-100000000000000 can be fitted in:\n",
    "\t* long\n"
   ]
  },
  {
   "cell_type": "code",
   "execution_count": null,
   "metadata": {},
   "outputs": [],
   "source": []
  }
 ],
 "metadata": {
  "kernelspec": {
   "display_name": "Java",
   "language": "java",
   "name": "java"
  },
  "language_info": {
   "codemirror_mode": "java",
   "file_extension": ".jshell",
   "mimetype": "text/x-java-source",
   "name": "Java",
   "pygments_lexer": "java",
   "version": "11.0.8+10-post-Ubuntu-0ubuntu118.04.1"
  }
 },
 "nbformat": 4,
 "nbformat_minor": 4
}
