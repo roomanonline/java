{
 "cells": [
  {
   "cell_type": "markdown",
   "metadata": {},
   "source": [
    "# Important Instructions"
   ]
  },
  {
   "cell_type": "markdown",
   "metadata": {},
   "source": [
    "##### I hope you enjoyed Python classes and have built a good foundation for the logic involved. Now lets solve a few intresting questions to see what kind of logic you can come up with :)"
   ]
  },
  {
   "cell_type": "markdown",
   "metadata": {},
   "source": [
    "###### 1)Write a script to define a function which accepts two parameters  and performs addition, subtraction, multiplication and division and prints the output as shown below:\n",
    "\n",
    "<b>Sample Input: 10,20\n",
    "\n",
    "Sample Output: 30,*,-10,*,200,*,0.5</b>"
   ]
  },
  {
   "cell_type": "code",
   "execution_count": null,
   "metadata": {},
   "outputs": [],
   "source": []
  },
  {
   "cell_type": "markdown",
   "metadata": {},
   "source": [
    "###### 2)Write a script to ask user to evaluate 2 power 5 i.e. 2**5 ,\n",
    "\n",
    "a)if the user enters the correct answer than, display \"You have cleared the test.\"\n",
    "\n",
    "b)if the user enters the incorrect answer than, display \"You have failed the test.\"\n"
   ]
  },
  {
   "cell_type": "code",
   "execution_count": null,
   "metadata": {},
   "outputs": [],
   "source": []
  },
  {
   "cell_type": "markdown",
   "metadata": {},
   "source": [
    "###### 3)Write a script to take an input of two string values from the user and\n",
    "a)compare two strings are equal or not\n",
    "\n",
    "b)compare eighter string1 is greater than string two or vice versa\n",
    "\n",
    "and try to display the respective message for each comparison.\n",
    "\n",
    "<b>Sample Input:</b>\n",
    "\n",
    "Enter the String1: python\n",
    "\n",
    "Enter the String2: python\n",
    "\n",
    "\n",
    "<b>Sample Output:</b>\n",
    "\n",
    "String1 : python\n",
    "\n",
    "String2 : python\n",
    "\n",
    "Strings are equal"
   ]
  },
  {
   "cell_type": "code",
   "execution_count": null,
   "metadata": {},
   "outputs": [],
   "source": []
  },
  {
   "cell_type": "markdown",
   "metadata": {},
   "source": [
    "###### 4)Write a Script to take any mutable(i.e. list, dictionary, set ) or immutable (i.e. int, float, str, bool, tuple)type of data as input from the user and define a function which identifies the correct type of the input and displays the appropriate message. \n",
    "\n",
    "<b>Sample Input1:</b> Enter the input : {10.2,5.6,3+5j}\n",
    "\n",
    "<b>Sample Output1:</b> Type of the variable is Set\n",
    "\n",
    "\n",
    "<b>Sample Input2:</b> Enter the input : 3+5j\n",
    "\n",
    "<b>Sample Output2:</b> Type of the variable is Complex\n",
    "\n"
   ]
  },
  {
   "cell_type": "code",
   "execution_count": null,
   "metadata": {},
   "outputs": [],
   "source": []
  },
  {
   "cell_type": "markdown",
   "metadata": {},
   "source": [
    "###### 5) Write a Script to take input of customer details and define a function which calculates the eligibility of the customer to provide driving license based on the below criteria,\n",
    "\n",
    "<b>Criteria 1:</b> Customer must be citizen of “India”.\n",
    "\n",
    "<b>Criteria 2:</b> Customer is eligible to take a license only if his age, > 18 and < 65\n",
    "\n",
    "<b>Sample Input:</b> \n",
    "    \n",
    "Enter your Name : Jack\n",
    "    \n",
    "Enter your Citizenship: Indian\n",
    "    \n",
    "Enter your age: 25\n",
    "    \n",
    "<b>Sample Output:</b> \n",
    "    \n",
    "Jack is  Eligible for License\n",
    "\n"
   ]
  },
  {
   "cell_type": "code",
   "execution_count": null,
   "metadata": {},
   "outputs": [],
   "source": []
  }
 ],
 "metadata": {
  "kernelspec": {
   "display_name": "Python 3",
   "language": "python",
   "name": "python3"
  },
  "language_info": {
   "codemirror_mode": {
    "name": "ipython",
    "version": 3
   },
   "file_extension": ".py",
   "mimetype": "text/x-python",
   "name": "python",
   "nbconvert_exporter": "python",
   "pygments_lexer": "ipython3",
   "version": "3.7.3"
  }
 },
 "nbformat": 4,
 "nbformat_minor": 4
}
