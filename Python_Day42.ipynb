{
 "cells": [
  {
   "cell_type": "markdown",
   "metadata": {},
   "source": [
    "# Important Instructions"
   ]
  },
  {
   "cell_type": "markdown",
   "metadata": {},
   "source": [
    "###### I hope you enjoyed Python classes and have built a good foundation for the logic involved. Now lets solve a few intresting questions to see what kind of logic you can come up with :)"
   ]
  },
  {
   "cell_type": "markdown",
   "metadata": {},
   "source": [
    "###### write a program to create a dictionary using the list of elements ,where dictionary keys are the elements present in list and the values are the respective length of its key using dictionary comprehension.\n",
    "\n",
    "Sample Input:\n",
    "\n",
    "Enter list:['java','python','c','c++']\n",
    "\n",
    "Sample Output: {'java': 4, 'python': 6, 'c': 1, 'c++': 3}\n"
   ]
  },
  {
   "cell_type": "code",
   "execution_count": null,
   "metadata": {},
   "outputs": [],
   "source": []
  },
  {
   "cell_type": "markdown",
   "metadata": {},
   "source": [
    "###### Write a script to remove the keys from the dictionary using dictionary comprehension.\n",
    "\n",
    "Sample Input: \n",
    "    \n",
    "Enter dictionary: {'Delhi': 121, 'Mumbai': 221, 'New York': 302, 'London': 250}\n",
    "    \n",
    "Enter list which has to be removed from dictionary:['New York','London']\n",
    "    \n",
    "Sample Output: Updated dictionary: {'Mumbai': 221, 'Delhi': 121}        "
   ]
  },
  {
   "cell_type": "code",
   "execution_count": null,
   "metadata": {},
   "outputs": [],
   "source": []
  },
  {
   "cell_type": "markdown",
   "metadata": {},
   "source": [
    "###### Write a script to create a dictionary with elements of the given list as keys and the index as values and using the new dictionary try to swap the key values ,using dictionary comprehension.\n",
    "\n",
    "Sample Input: Enter a List:['Apple','Mango','Grapes','Orang']\n",
    "\n",
    "Sample Output: \n",
    "\n",
    "New Dictionary: {'Apple': 0, 'Mango': 1, 'Grapes': 2, 'Orang': 3}\n",
    "\n",
    "Dictionary after swapping the key values: {0: 'Apple', 1: 'Mango', 2: 'Grapes', 3: 'Orang'}\n"
   ]
  },
  {
   "cell_type": "code",
   "execution_count": null,
   "metadata": {},
   "outputs": [],
   "source": []
  },
  {
   "cell_type": "markdown",
   "metadata": {},
   "source": [
    "###### Create a script to create a dictionary from the list of values, where the keys are the odd numbers of list and values are the factorial of corresponding keys.\n",
    "\n",
    "Sample Input: Enter a List:[1,2,3,4,8,9,5]\n",
    "\n",
    "Sample Output: New Dictionary: {1: 1, 3: 6, 9: 362880, 5: 120}\n"
   ]
  },
  {
   "cell_type": "code",
   "execution_count": null,
   "metadata": {},
   "outputs": [],
   "source": []
  },
  {
   "cell_type": "markdown",
   "metadata": {},
   "source": [
    "###### Write a script to update the given dictionary based on their values and given condition using dictionary comprehension.\n",
    "\n",
    "Condition: if value is even then update it to “Red” \n",
    "\n",
    "         If value is odd then update it to “Green”\n",
    "           \n",
    "Sample Input: Enter Dictionary:{'a': 1, 'b': 2, 'c': 3, 'd': 4, 'e': 5, 'f':6}\n",
    "\n",
    "Sample Output: {'a': 'Green', 'b': 'Red', 'c': 'Green', 'd': 'Red', 'e': 'Green', 'f': 'Red'}\n",
    "\n"
   ]
  },
  {
   "cell_type": "code",
   "execution_count": null,
   "metadata": {},
   "outputs": [],
   "source": []
  }
 ],
 "metadata": {
  "kernelspec": {
   "display_name": "Python 3",
   "language": "python",
   "name": "python3"
  },
  "language_info": {
   "codemirror_mode": {
    "name": "ipython",
    "version": 3
   },
   "file_extension": ".py",
   "mimetype": "text/x-python",
   "name": "python",
   "nbconvert_exporter": "python",
   "pygments_lexer": "ipython3",
   "version": "3.7.3"
  }
 },
 "nbformat": 4,
 "nbformat_minor": 4
}
