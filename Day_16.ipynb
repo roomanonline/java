{
 "cells": [
  {
   "cell_type": "markdown",
   "metadata": {},
   "source": [
    "# Important Instructions:"
   ]
  },
  {
   "cell_type": "raw",
   "metadata": {},
   "source": [
    "1)When coding in java using jupyter notebooks there is no need to provide a main method as it is automatically provided.\n",
    "\n",
    "2)Code written within a cell is automatically placed within the main method unless you explicitly place it within another class\n",
    "\n",
    "I hope you enjoyed the classes and have built a good foundation for the logic involved. Now lets solve a few intresting questions to see what kind of logic you can come up with :)"
   ]
  },
  {
   "cell_type": "raw",
   "metadata": {},
   "source": [
    "1.Write a program to check whether the string is palindrome or not\n",
    "\n",
    "Sample Input:\n",
    "\n",
    "Enter the input string:\n",
    "racecar\n",
    "\n",
    "Sample Output:\n",
    "\n",
    "The output is Palindrome\n"
   ]
  },
  {
   "cell_type": "code",
   "execution_count": null,
   "metadata": {},
   "outputs": [],
   "source": []
  },
  {
   "cell_type": "raw",
   "metadata": {},
   "source": [
    "2.Write a program to swap two strings \n",
    "\n",
    "Sample Input:\n",
    "\n",
    "Enter the input string:\n",
    "Jupyter Notebook\n",
    "\n",
    "Sample Output:\n",
    "\n",
    "The output string is Notebook Jupyter\n"
   ]
  },
  {
   "cell_type": "code",
   "execution_count": null,
   "metadata": {},
   "outputs": [],
   "source": []
  },
  {
   "cell_type": "code",
   "execution_count": null,
   "metadata": {},
   "outputs": [],
   "source": [
    "3.Write a program to check if a string is empty or not\n",
    "\n",
    "Ex1:\n",
    "\n",
    "Sample Input:\n",
    "\n",
    "Enter the input string:\n",
    "Hello World\n",
    "\n",
    "Sample Output:\n",
    "\n",
    "The output is String is not empty\n",
    "\n",
    "Ex2:\n",
    "\n",
    "Sample Input:\n",
    "\n",
    "Enter the input string:\n",
    "null\n",
    "\n",
    "Sample Output:\n",
    "\n",
    "The output is String is empty\n"
   ]
  },
  {
   "cell_type": "code",
   "execution_count": null,
   "metadata": {},
   "outputs": [],
   "source": []
  }
 ],
 "metadata": {
  "kernelspec": {
   "display_name": "Java",
   "language": "java",
   "name": "java"
  },
  "language_info": {
   "codemirror_mode": "java",
   "file_extension": ".jshell",
   "mimetype": "text/x-java-source",
   "name": "Java",
   "pygments_lexer": "java",
   "version": "11.0.6+10-post-Ubuntu-1ubuntu118.04.1"
  }
 },
 "nbformat": 4,
 "nbformat_minor": 4
}
