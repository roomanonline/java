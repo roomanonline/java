{
 "cells": [
  {
   "cell_type": "markdown",
   "metadata": {},
   "source": [
    "# Important Instructions:\n",
    "\n",
    "1)When coding in java using jupyter notebooks there is no need to provide a main method as it is automatically provided.\n",
    "\n",
    "2)Code written within a cell is automatically placed within the main method unless you explicitly place it within another class\n",
    "\n",
    "I hope you enjoyed the classes and have built a good foundation for the logic involved. Now lets solve a few intresting questions to see what kind of logic you can come up with :)\n"
   ]
  },
  {
   "cell_type": "raw",
   "metadata": {},
   "source": [
    "1.What is wrong with the following code?\n",
    "\n",
    "public interface SomethingIsWrong {\n",
    "    String aMethod(){\n",
    "        return \"Hi Mom\";\n",
    "    }\n",
    "}\n",
    "\n",
    "Fix the issue.\n",
    "\n",
    "Sample output:\n",
    "\n",
    "Hi Mom\n"
   ]
  },
  {
   "cell_type": "code",
   "execution_count": null,
   "metadata": {},
   "outputs": [],
   "source": []
  },
  {
   "cell_type": "raw",
   "metadata": {},
   "source": [
    "2. Create interface A which has two methods m1 and m2. Now create another interface B which inherits from interface A and declare method m3 in interface B.\n",
    "interface B should be inherited in a class named MyClass.\n",
    "(note: MyClass should have all the properties of interface A & B)\n",
    "\n",
    "Sample output:\n",
    "\n",
    "Implemented method 1....\n",
    "Implemented method 2....\n",
    "Implemented method 3....\n"
   ]
  },
  {
   "cell_type": "code",
   "execution_count": null,
   "metadata": {},
   "outputs": [],
   "source": []
  },
  {
   "cell_type": "raw",
   "metadata": {},
   "source": [
    "3. Write a program to explain multiple inheritance with the below mwntioned scenario\n",
    "\n",
    "Create a class Number which contains two variables x & y.\n",
    "Create a interface Arithmetic which has two abstract methods add(int a, int b) and sub(int a, int b)\n",
    "Now create a class UseInterface which inherits from both Number class and Arithmetic interface.\n",
    "\n",
    "Sample output:\n",
    "\n",
    "The sum is 22\n",
    "The difference is 18"
   ]
  },
  {
   "cell_type": "code",
   "execution_count": null,
   "metadata": {},
   "outputs": [],
   "source": []
  },
  {
   "cell_type": "raw",
   "metadata": {},
   "source": [
    "4. Prove that all the methods in an interface are automatically public."
   ]
  },
  {
   "cell_type": "code",
   "execution_count": null,
   "metadata": {},
   "outputs": [],
   "source": []
  },
  {
   "cell_type": "raw",
   "metadata": {},
   "source": [
    "5. Create three interfaces, each with two methods.Create a new interface, inherit all three interfaces and add a new method. Create a concrete class and inherit newly created interface.\n",
    "Write a Test class and use all the methods\n",
    "\n",
    "Sample output:\n",
    "\n",
    "Method1 from Interface1\n",
    "Method2 from Interface1\n",
    "Method1 from Interface2\n",
    "Method2 from Interface2\n",
    "Method1 from Interface3\n",
    "Method2 from Interface3\n",
    "Method from Concrete class\n"
   ]
  },
  {
   "cell_type": "code",
   "execution_count": null,
   "metadata": {},
   "outputs": [],
   "source": []
  },
  {
   "cell_type": "raw",
   "metadata": {},
   "source": [
    "6. Prove that the fields in an interface are implicitly static and final"
   ]
  },
  {
   "cell_type": "code",
   "execution_count": null,
   "metadata": {},
   "outputs": [],
   "source": []
  },
  {
   "cell_type": "raw",
   "metadata": {},
   "source": [
    "7. Create a Cycle interface, with implementations Unicycle, Bicycle, and Tricycle.Print the number of wheels in each type of cycles.\n",
    "\n",
    "Sample output:\n",
    "\n",
    "Number of wheels in Unicycle is: \n",
    "1\n",
    "Number of wheels in Bicycle is: \n",
    "2\n",
    "Number of wheels in Tricycle is: \n",
    "3"
   ]
  },
  {
   "cell_type": "code",
   "execution_count": null,
   "metadata": {},
   "outputs": [],
   "source": []
  },
  {
   "cell_type": "raw",
   "metadata": {},
   "source": [
    "8. Create a interface called FastFood (with appropriate methods) and a class called Sandwich.Change Sandwich class so that it also inherits FastFood. Write a test class and use Sandwich class.\n",
    "\n",
    "Sample output:\n",
    "\n",
    "Yummy Burger!\n",
    "Tasty, Vegetable Sandwich\n",
    "Cheesee! Cheese Sandwich"
   ]
  },
  {
   "cell_type": "code",
   "execution_count": null,
   "metadata": {},
   "outputs": [],
   "source": []
  },
  {
   "cell_type": "raw",
   "metadata": {},
   "source": [
    "9. Write a program to demonstrate the use of try and catch block. \n",
    "\n",
    "For ex: check whether the given array size is negative or not.\n",
    "\n",
    "Sample output:\n",
    "\n",
    "generated exception : java.lang.NegativeArraySizeException"
   ]
  },
  {
   "cell_type": "code",
   "execution_count": null,
   "metadata": {},
   "outputs": [],
   "source": []
  },
  {
   "cell_type": "raw",
   "metadata": {},
   "source": [
    "10.\tWrite a program to demonstrate multiple catch statements occurring in a program."
   ]
  },
  {
   "cell_type": "code",
   "execution_count": null,
   "metadata": {},
   "outputs": [],
   "source": []
  }
 ],
 "metadata": {
  "kernelspec": {
   "display_name": "Java",
   "language": "java",
   "name": "java"
  },
  "language_info": {
   "codemirror_mode": "java",
   "file_extension": ".jshell",
   "mimetype": "text/x-java-source",
   "name": "Java",
   "pygments_lexer": "java",
   "version": "11.0.6+10-post-Ubuntu-1ubuntu118.04.1"
  }
 },
 "nbformat": 4,
 "nbformat_minor": 4
}
