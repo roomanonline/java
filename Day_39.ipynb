{
 "cells": [
  {
   "cell_type": "markdown",
   "metadata": {},
   "source": [
    "# Important Instructions:"
   ]
  },
  {
   "cell_type": "raw",
   "metadata": {},
   "source": [
    "1)When coding in java using jupyter notebooks there is no need to provide a main method as it is automatically provided.\n",
    "\n",
    "2)Code written within a cell is automatically placed within the main method unless you explicitly place it within another class\n",
    "\n",
    "I hope you enjoyed the classes and have built a good foundation for the logic involved. Now lets solve a few intresting questions to see what kind of logic you can come up with :)"
   ]
  },
  {
   "cell_type": "raw",
   "metadata": {},
   "source": [
    "1. Complete the code segment to catch the ArithmeticException, if any. On the occurrence of such an exception, your program should print “Exception caught: Division by zero.” If there is no such exception, it will print the result of division operation on two integer values.\n",
    "\n",
    "import java.util.Scanner;\n",
    "public class ArithExcep {\n",
    "\tpublic static void main(String[] args) {\n",
    "\t\tint numerator, denominator;\n",
    "\t\tScanner input = new Scanner(System.in);\n",
    "\n",
    "\t\tSystem.out.println(\"Enter Numerator : \");\n",
    "//Read any two values for numerator and denominator.\n",
    "\t\t\n",
    "\t\tSystem.out.println(\"Enter Denominator : \");\n",
    "\t\t\n",
    "//Get the result of a/b;\n",
    "\t\ttry {\n",
    "\t\t\t\n",
    "            \n",
    "\t\t    } \n",
    "        catch (ArithmeticException e) {\n",
    "\t\t\tSystem.out.print(\"Exception caught: Division by zero\");\n",
    "\t\t}\n",
    "     }\n",
    "\n",
    "Sample input and output 1:\n",
    "\n",
    "Enter Numerator : 12\n",
    "Enter Denominator : 3\n",
    "Quotient : 4\n",
    "\n",
    "Sample input and output 2:\n",
    "\n",
    "Enter Numerator : 34\n",
    "Enter Denominator : 0\n",
    "Exception caught: Division by zero\n",
    "\n"
   ]
  },
  {
   "cell_type": "code",
   "execution_count": null,
   "metadata": {},
   "outputs": [],
   "source": []
  },
  {
   "cell_type": "raw",
   "metadata": {},
   "source": [
    "2. Handle exception in number Problem statement: Get the input String from user and parse it to integer, if it is not a number it will throw number format exception Catch it and print \"Entered input is not a valid format for an integer.\" or else print the square of that number\n",
    "\n",
    "Sample input and output 1: \n",
    "\n",
    "Enter an integer: 12\n",
    " The square value is 144\n",
    " The work has been done successfully \n",
    "\n",
    "Sample input and output 2: \n",
    "\n",
    "Enter an integer: Java \n",
    "Entered input is not a valid format for an integer.\n"
   ]
  },
  {
   "cell_type": "code",
   "execution_count": null,
   "metadata": {},
   "outputs": [],
   "source": []
  }
 ],
 "metadata": {
  "kernelspec": {
   "display_name": "Java",
   "language": "java",
   "name": "java"
  },
  "language_info": {
   "codemirror_mode": "java",
   "file_extension": ".jshell",
   "mimetype": "text/x-java-source",
   "name": "Java",
   "pygments_lexer": "java",
   "version": "11.0.7+10-post-Ubuntu-2ubuntu218.04"
  }
 },
 "nbformat": 4,
 "nbformat_minor": 4
}
