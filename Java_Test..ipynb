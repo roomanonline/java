{
 "cells": [
  {
   "cell_type": "markdown",
   "metadata": {},
   "source": [
    "### Answer any two questions"
   ]
  },
  {
   "cell_type": "markdown",
   "metadata": {},
   "source": [
    "###### Write a Java Program to find the second-highest number in an array.\n",
    "\n",
    "<b>Sample Input:</b>\n",
    "\n",
    "The given array is: 100 14 46 47 94 94 52 86 36 94 89\n",
    "\n",
    "<b>Sample Output:</b>\n",
    "\n",
    "Second largest number is:94\n",
    "\n",
    "Largest Number is: 100\n"
   ]
  },
  {
   "cell_type": "code",
   "execution_count": null,
   "metadata": {},
   "outputs": [],
   "source": []
  },
  {
   "cell_type": "markdown",
   "metadata": {},
   "source": [
    "###### Write a Java Program to check if the given number is an Armstrong number or not.\n",
    "\n",
    "Hint: Armstrong number are equal to the sum of cubes of its digits."
   ]
  },
  {
   "cell_type": "code",
   "execution_count": null,
   "metadata": {},
   "outputs": [],
   "source": []
  },
  {
   "cell_type": "markdown",
   "metadata": {},
   "source": [
    "###### Write a program that reads an integer between 0 and 1000 and  adds  all the digits in the integer. For example, if an integer is 623, the  sum of all its digits is 11."
   ]
  },
  {
   "cell_type": "code",
   "execution_count": null,
   "metadata": {},
   "outputs": [],
   "source": []
  }
 ],
 "metadata": {
  "kernelspec": {
   "display_name": "Java",
   "language": "java",
   "name": "java"
  },
  "language_info": {
   "codemirror_mode": "java",
   "file_extension": ".jshell",
   "mimetype": "text/x-java-source",
   "name": "Java",
   "pygments_lexer": "java",
   "version": "11.0.8+10-post-Ubuntu-0ubuntu118.04.1"
  }
 },
 "nbformat": 4,
 "nbformat_minor": 4
}
