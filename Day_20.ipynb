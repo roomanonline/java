{
 "cells": [
  {
   "cell_type": "markdown",
   "metadata": {},
   "source": [
    "# Important Instructions:"
   ]
  },
  {
   "cell_type": "raw",
   "metadata": {},
   "source": [
    "1)When coding in java using jupyter notebooks there is no need to provide a main method as it is automatically provided.\n",
    "\n",
    "2)Code written within a cell is automatically placed within the main method unless you explicitly place it within another class\n",
    "\n",
    "I hope you enjoyed the classes and have built a good foundation for the logic involved. Now lets solve a few intresting questions to see what kind of logic you can come up with :)"
   ]
  },
  {
   "cell_type": "raw",
   "metadata": {},
   "source": [
    "Hint : For all programs a method should accept input and return corresponding output"
   ]
  },
  {
   "cell_type": "raw",
   "metadata": {},
   "source": [
    "1.Write a program that prompts the user to enter the starting velocity v0 in meters/second, the ending velocity v1 in   \n",
    "meters/second, and the time span t in seconds, and displays the average acceleration. \n",
    "\n",
    "Average acceleration is defined as the change of velocity divided by the time taken to make the change, as shown in the following formula:\n",
    "a = (v1 - v0) / t\n",
    "\n",
    "Sample input : Enter v0, v1, and t: 35 40 8\n",
    "Sample output: The average acceleration is 0.625"
   ]
  },
  {
   "cell_type": "code",
   "execution_count": null,
   "metadata": {},
   "outputs": [],
   "source": []
  },
  {
   "cell_type": "raw",
   "metadata": {},
   "source": [
    "2.Write a program that prompts the user to enter v in meters/second (m/s) and the acceleration a in meters/second squared (m/s^2), and displays the minimum runway length.\n",
    "\n",
    "Given an airplane's acceleration a and take-off speed v, you can compute\n",
    "the minimum runway length needed for an airplane to take off.\n",
    "formula:   length = (v^2 / 2a)\n",
    "\n",
    "Sample input :\n",
    "Enter speed and acceleration: 55 2.8\n",
    "Sample output:\n",
    "The minimum runway length for this airplane is 540.1785714285714"
   ]
  },
  {
   "cell_type": "code",
   "execution_count": null,
   "metadata": {},
   "outputs": [],
   "source": []
  },
  {
   "cell_type": "raw",
   "metadata": {},
   "source": [
    "3.Write a program that prompts the user to enter a monthly saving amount and displays the account value after the sixth month.\n",
    "\n",
    "Suppose you save Rs.100 each month into a savings account with the annual interest rate 5%. Thus, the monthly interest rate is 0.05/12 = 0.00417.\n",
    "After the first month, the value in the account becomes\n",
    "100 * (1 + 0.00417) = 100.417\n",
    "\n",
    "After the second month, the value in the account becomes\n",
    "(100 + 100.417) * (1 + 0.00417) = 201.252\n",
    "\n",
    "After the third month, the value in the account becomes\n",
    "(100 * 201.252) * (1 + 0.00417) = 302.507 and so on.\n",
    "\n",
    "Sample input :\n",
    "Enter the monthly saving amount: 1000\n",
    "Sample output:\n",
    "After the sixth month, the account value is Rs.6088.11"
   ]
  },
  {
   "cell_type": "code",
   "execution_count": null,
   "metadata": {},
   "outputs": [],
   "source": []
  },
  {
   "cell_type": "raw",
   "metadata": {},
   "source": [
    "4.Write a program that prompts the user to enter the distance to drive, the fuel efficiency of the car in miles per gallon, and the price per gallon, and displays the cost of the trip.\n",
    "\n",
    "Sample Input :\n",
    "Enter the driving distance: 500\n",
    "Enter miles per gallon: 10\n",
    "Enter price per gallon: 120\n",
    "\n",
    "Sample output :\n",
    "The cost of driving is Rs6000.00"
   ]
  },
  {
   "cell_type": "code",
   "execution_count": null,
   "metadata": {},
   "outputs": [],
   "source": []
  },
  {
   "cell_type": "raw",
   "metadata": {},
   "source": [
    "5.Create a class to print the area of a square and a rectangle. The class has two methods with the same name but different \n",
    "number of parameters. The method for printing area of rectangle has two parameters which are length and breadth respectively \n",
    "while the other method for printing area of square has one parameter which is side of square.\n",
    "\n",
    "Sample input :\n",
    "To calculate Area of Square\n",
    "Enter the value of side: 3\n",
    "\n",
    "To calculate Area of Rectangle\n",
    "Enter the value of length: 4\n",
    "Enter the value of breadth: 6\n",
    "\n",
    "Sample output:\n",
    "Area of Square =9\n",
    "Area of Rectangle =24"
   ]
  },
  {
   "cell_type": "code",
   "execution_count": null,
   "metadata": {},
   "outputs": [],
   "source": []
  },
  {
   "cell_type": "raw",
   "metadata": {},
   "source": [
    "6.Write two overloaded methods that return the average of an array with the following headers:\n",
    "    public static int average(int[] array)\n",
    "    public static double average(double[] array)\n",
    "The program should prompt the user to enter N double/int values, invokes corresponding method, and displays the average value.\n",
    "\n",
    "Sample input  1:\n",
    "How many elements : 4\n",
    "Please enter 4 values: 6.7 2.4 8.9 2.3\n",
    "\n",
    "Sample output :\n",
    "The average is: 5.08"
   ]
  },
  {
   "cell_type": "code",
   "execution_count": null,
   "metadata": {},
   "outputs": [],
   "source": []
  }
 ],
 "metadata": {
  "kernelspec": {
   "display_name": "Java",
   "language": "java",
   "name": "java"
  },
  "language_info": {
   "codemirror_mode": "java",
   "file_extension": ".jshell",
   "mimetype": "text/x-java-source",
   "name": "Java",
   "pygments_lexer": "java",
   "version": "11.0.6+10-post-Ubuntu-1ubuntu118.04.1"
  }
 },
 "nbformat": 4,
 "nbformat_minor": 4
}
