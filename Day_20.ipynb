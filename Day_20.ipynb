{
 "cells": [
  {
   "cell_type": "markdown",
   "metadata": {},
   "source": [
    "# Important Instructions:"
   ]
  },
  {
   "cell_type": "raw",
   "metadata": {},
   "source": [
    "1)When coding in java using jupyter notebooks there is no need to provide a main method as it is automatically provided.\n",
    "\n",
    "2)Code written within a cell is automatically placed within the main method unless you explicitly place it within another class\n",
    "\n",
    "I hope you enjoyed the classes and have built a good foundation for the logic involved. Now lets solve a few intresting questions to see what kind of logic you can come up with :)"
   ]
  },
  {
   "cell_type": "raw",
   "metadata": {},
   "source": [
    "Hint : For all programs a method should accept input and return corresponding output"
   ]
  },
  {
   "cell_type": "raw",
   "metadata": {},
   "source": [
    "1.Write a program that prompts the user to enter the starting velocity v0 in meters/second, the ending velocity v1 in   \n",
    "meters/second, and the time span t in seconds, and displays the average acceleration. \n",
    "\n",
    "Average acceleration is defined as the change of velocity divided by the time taken to make the change, as shown in the following formula:\n",
    "a = (v1 - v0) / t\n",
    "\n",
    "Sample input : Enter v0, v1, and t: 35 40 8\n",
    "Sample output: The average acceleration is 0.625"
   ]
  },
  {
   "cell_type": "code",
   "execution_count": null,
   "metadata": {},
   "outputs": [],
   "source": []
  },
  {
   "cell_type": "raw",
   "metadata": {},
   "source": [
    "2.Write a program that prompts the user to enter v in meters/second (m/s) and the acceleration a in meters/second squared (m/s^2), and displays the minimum runway length.\n",
    "\n",
    "Given an airplane's acceleration a and take-off speed v, you can compute\n",
    "the minimum runway length needed for an airplane to take off.\n",
    "formula:   length = (v^2 / 2a)\n",
    "\n",
    "Sample input :\n",
    "Enter speed and acceleration: 55 2.8\n",
    "Sample output:\n",
    "The minimum runway length for this airplane is 540.1785714285714"
   ]
  },
  {
   "cell_type": "code",
   "execution_count": null,
   "metadata": {},
   "outputs": [],
   "source": []
  },
  {
   "cell_type": "raw",
   "metadata": {},
   "source": [
    "3.Write a program that prompts the user to enter a monthly saving amount and displays the account value after the sixth month.\n",
    "\n",
    "Suppose you save Rs.100 each month into a savings account with the annual interest rate 5%. Thus, the monthly interest rate is 0.05/12 = 0.00417.\n",
    "After the first month, the value in the account becomes\n",
    "100 * (1 + 0.00417) = 100.417\n",
    "\n",
    "After the second month, the value in the account becomes\n",
    "(100 + 100.417) * (1 + 0.00417) = 201.252\n",
    "\n",
    "After the third month, the value in the account becomes\n",
    "(100 * 201.252) * (1 + 0.00417) = 302.507 and so on.\n",
    "\n",
    "Sample input :\n",
    "Enter the monthly saving amount: 1000\n",
    "Sample output:\n",
    "After the sixth month, the account value is Rs.6088.11"
   ]
  },
  {
   "cell_type": "code",
   "execution_count": null,
   "metadata": {},
   "outputs": [],
   "source": []
  }
 ],
 "metadata": {
  "kernelspec": {
   "display_name": "Java",
   "language": "java",
   "name": "java"
  },
  "language_info": {
   "codemirror_mode": "java",
   "file_extension": ".jshell",
   "mimetype": "text/x-java-source",
   "name": "Java",
   "pygments_lexer": "java",
   "version": "11.0.6+10-post-Ubuntu-1ubuntu118.04.1"
  }
 },
 "nbformat": 4,
 "nbformat_minor": 4
}
