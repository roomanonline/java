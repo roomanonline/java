{
 "cells": [
  {
   "cell_type": "markdown",
   "metadata": {},
   "source": [
    "# Important Instructions"
   ]
  },
  {
   "cell_type": "markdown",
   "metadata": {},
   "source": [
    "I hope you enjoyed Python classes and have built a good foundation for the logic involved. Now lets solve a few intresting questions to see what kind of logic you can come up with :)"
   ]
  },
  {
   "cell_type": "raw",
   "metadata": {},
   "source": [
    "1) Write a Python program to remove and print every third number from a list of numbers until the list becomes empty."
   ]
  },
  {
   "cell_type": "code",
   "execution_count": null,
   "metadata": {},
   "outputs": [],
   "source": []
  },
  {
   "cell_type": "raw",
   "metadata": {},
   "source": [
    "2) Write a Python program to change a given string to a new string where the first and last chars have been exchanged.\n",
    "    Sample input: \n",
    "    abcd\n",
    "    12345\n",
    "    Sample output:\n",
    "    dbca\n",
    "    52341\n"
   ]
  },
  {
   "cell_type": "code",
   "execution_count": null,
   "metadata": {},
   "outputs": [],
   "source": []
  }
 ],
 "metadata": {
  "kernelspec": {
   "display_name": "Python 3",
   "language": "python",
   "name": "python3"
  },
  "language_info": {
   "codemirror_mode": {
    "name": "ipython",
    "version": 3
   },
   "file_extension": ".py",
   "mimetype": "text/x-python",
   "name": "python",
   "nbconvert_exporter": "python",
   "pygments_lexer": "ipython3",
   "version": "3.7.3"
  }
 },
 "nbformat": 4,
 "nbformat_minor": 4
}
