{
 "cells": [
  {
   "cell_type": "markdown",
   "metadata": {},
   "source": [
    "# Important Instructions"
   ]
  },
  {
   "cell_type": "markdown",
   "metadata": {},
   "source": [
    "###### I hope you enjoyed Python classes and have built a good foundation for the logic involved. Now lets solve a few intresting questions to see what kind of logic you can come up with :)"
   ]
  },
  {
   "cell_type": "markdown",
   "metadata": {},
   "source": [
    "###### Question 1:\n",
    "\n",
    "<b>Define a function to swap 2 numbers based on the below constraints</b>\n",
    "\n",
    "a)\tFunction should not return anything.\n",
    "\n",
    "b)\tFunction should not take any input.\n",
    "\n",
    "c)\tSwapped values should be printed after calling the function.\n",
    "\n",
    "<b>Hint: global variable</b>\n"
   ]
  },
  {
   "cell_type": "code",
   "execution_count": null,
   "metadata": {},
   "outputs": [],
   "source": []
  },
  {
   "cell_type": "markdown",
   "metadata": {},
   "source": [
    "###### Define three no input and no output function fun1(), fun2(), fun3() and declare a var1 = “Python Programing” and print the value of variable var1 in the particular functions based on the below criteria.\n",
    "\n",
    "<b>Criteria:</b>\n",
    "\n",
    "a) var1 is a global variable.\n",
    "\n",
    "b) fun1() should print “Python Programing”\n",
    "\n",
    "c) fun2() should print “Python”\n",
    "\n",
    "d) fun3() should print “Python Programing”\n"
   ]
  },
  {
   "cell_type": "code",
   "execution_count": null,
   "metadata": {},
   "outputs": [],
   "source": []
  }
 ],
 "metadata": {
  "kernelspec": {
   "display_name": "Python 3",
   "language": "python",
   "name": "python3"
  },
  "language_info": {
   "codemirror_mode": {
    "name": "ipython",
    "version": 3
   },
   "file_extension": ".py",
   "mimetype": "text/x-python",
   "name": "python",
   "nbconvert_exporter": "python",
   "pygments_lexer": "ipython3",
   "version": "3.7.3"
  }
 },
 "nbformat": 4,
 "nbformat_minor": 4
}
