{
 "cells": [
  {
   "cell_type": "markdown",
   "metadata": {},
   "source": [
    "# Important Instructions:"
   ]
  },
  {
   "cell_type": "raw",
   "metadata": {},
   "source": [
    "1)When coding in java using jupyter notebooks there is no need to provide a main method as it is automatically provided.\n",
    "\n",
    "2)Code written within a cell is automatically placed within the main method unless you explicitly place it within another class\n",
    "\n",
    "I hope you enjoyed the classes and have built a good foundation for the logic involved. Now lets solve a few intresting questions to see what kind of logic you can come up with :)\n",
    "\n"
   ]
  },
  {
   "cell_type": "raw",
   "metadata": {},
   "source": [
    "Hint : For all programs a method should accept input and return corresponding output"
   ]
  },
  {
   "cell_type": "raw",
   "metadata": {},
   "source": [
    "1.Write a class to get runs scored by a Cricket Player.\n",
    "The class should have only one property called “score”. Setter method should get runs scored by cricketer and it should add all the runs. Getter should return the score.\n",
    "Some concrete methods of the class are addFour(), addSingle() ect should be included.\n",
    "Sample output:\n",
    "Runs scored : 67"
   ]
  },
  {
   "cell_type": "code",
   "execution_count": null,
   "metadata": {},
   "outputs": [],
   "source": []
  },
  {
   "cell_type": "raw",
   "metadata": {},
   "source": [
    "2.How can you make the below class to exhibit fully encapsulation ?\n",
    "public class Student {\n",
    " public int id;\n",
    " protected String name;\n",
    " \n",
    " public int getId() {\n",
    "  return id;\n",
    " }\n",
    " \n",
    " public void setId(int id) {\n",
    "  this.id = id;\n",
    " }\n",
    " \n",
    " public String getName() {\n",
    "  return name;\n",
    " }\n",
    " \n",
    "}\n"
   ]
  },
  {
   "cell_type": "code",
   "execution_count": null,
   "metadata": {},
   "outputs": [],
   "source": []
  },
  {
   "cell_type": "raw",
   "metadata": {},
   "source": [
    "3.Write a program to print the names of students by creating a Student class. If no name is passed while creating an object of Student class, then the name should be \"Unknown\", otherwise the name should be equal to the String value passed while creating object of Student class.\n",
    "\n",
    "Sample input:\n",
    "Student name: Pavithra\n",
    "\n",
    "Sample output:\n",
    "Student name is Pavithra\n",
    "\n",
    "Sample input:\n",
    "Student name: \n",
    "\n",
    "Sample output:\n",
    "Student name is Unknown\n"
   ]
  },
  {
   "cell_type": "code",
   "execution_count": null,
   "metadata": {},
   "outputs": [],
   "source": []
  },
  {
   "cell_type": "raw",
   "metadata": {},
   "source": [
    "4.Create a class named Product with the following private attributes.\n",
    " \n",
    "Attribute\t  Data type\n",
    "Id\t            Long\n",
    "productName \tString\n",
    "supplierName \tString\n",
    "\n",
    "Include appropriate getters and setters.\n",
    "Include a 3-argument constructor and a default constructor.\n",
    "Include a method named display. It does not accept any arguments and its return type is void. Display the details of the product in this method.\n",
    "\n",
    "The method prototype is void display()\n",
    "\n",
    "Sample input:\n",
    "Enter the product id\n",
    "1 \n",
    "Enter the product name\n",
    "Printer \n",
    "Enter the supplier name\n",
    "HP \n",
    "\n",
    "Output:\n",
    "Product Id is 1\n",
    "Product Name is Printer\n",
    "Supplier Name is HP\n"
   ]
  },
  {
   "cell_type": "code",
   "execution_count": null,
   "metadata": {},
   "outputs": [],
   "source": []
  }
 ],
 "metadata": {
  "kernelspec": {
   "display_name": "Java",
   "language": "java",
   "name": "java"
  },
  "language_info": {
   "codemirror_mode": "java",
   "file_extension": ".jshell",
   "mimetype": "text/x-java-source",
   "name": "Java",
   "pygments_lexer": "java",
   "version": "11.0.8+10-post-Ubuntu-0ubuntu118.04.1"
  }
 },
 "nbformat": 4,
 "nbformat_minor": 4
}
