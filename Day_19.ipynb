{
 "cells": [
  {
   "cell_type": "markdown",
   "metadata": {},
   "source": [
    "# Important Instructions:"
   ]
  },
  {
   "cell_type": "raw",
   "metadata": {},
   "source": [
    "1)When coding in java using jupyter notebooks there is no need to provide a main method as it is automatically provided.\n",
    "\n",
    "2)Code written within a cell is automatically placed within the main method unless you explicitly place it within another class\n",
    "\n",
    "I hope you enjoyed the classes and have built a good foundation for the logic involved. Now lets solve a few intresting questions to see what kind of logic you can come up with :)"
   ]
  },
  {
   "cell_type": "raw",
   "metadata": {},
   "source": [
    "Hint : For all programs a method should accept input and return corresponding output"
   ]
  },
  {
   "cell_type": "raw",
   "metadata": {},
   "source": [
    "1.Write a class, that reads a Celsius degree in a double value from the Keyboard. then converts it to Fahrenheit and displays the result. \n",
    "Formula- fahrenheit = (9 / 5) * celsius + 32\n",
    "\n",
    "Sample input :\n",
    "Enter degree in Celsius: 50\n",
    "       \n",
    "Sample output :\n",
    "50.0 C = 122.0 F"
   ]
  },
  {
   "cell_type": "code",
   "execution_count": null,
   "metadata": {},
   "outputs": [],
   "source": []
  },
  {
   "cell_type": "raw",
   "metadata": {},
   "source": [
    "2.Write a program that reads the subtotal and the gratuity rate, then computes the gratuity and total.\n",
    "For example, if the user enters 10 for subtotal and 15% for gratuity rate, the program displays Rs.1.5 as gratuity and Rs.11.5 as total.\n",
    "\n",
    "Formula : Gratuity Rate = (Gratuity Rate/100.0)*subtotal\n",
    "\t      Total = subtotal+ Gratuity Rate\n",
    "\n",
    "Sample input : Enter the subtotal and gratuity rate: 10 15\n",
    "Sample output: The gratuity is Rs.1.50 and total is Rs.11.50"
   ]
  },
  {
   "cell_type": "code",
   "execution_count": null,
   "metadata": {},
   "outputs": [],
   "source": []
  }
 ],
 "metadata": {
  "kernelspec": {
   "display_name": "Java",
   "language": "java",
   "name": "java"
  },
  "language_info": {
   "codemirror_mode": "java",
   "file_extension": ".jshell",
   "mimetype": "text/x-java-source",
   "name": "Java",
   "pygments_lexer": "java",
   "version": "11.0.6+10-post-Ubuntu-1ubuntu118.04.1"
  }
 },
 "nbformat": 4,
 "nbformat_minor": 4
}
