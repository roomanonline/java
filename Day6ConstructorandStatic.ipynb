{
 "cells": [
  {
   "cell_type": "markdown",
   "metadata": {},
   "source": [
    "# Important Instructions:\n",
    "\n",
    "1)When coding in java using jupyter notebooks there is no need to provide a main method as it is automatically provided.\n",
    "\n",
    "2)Code written within a cell is automatically placed within the main method unless you explicitly place it within another class\n",
    "\n",
    "I hope you enjoyed the classes and have built a good foundation for the logic involved. Now lets solve a few intresting questions to see what kind of logic you can come up with :)\n"
   ]
  },
  {
   "cell_type": "raw",
   "metadata": {},
   "source": [
    "1. Write a program to print the names of students by creating a Student class. If no name is passed while creating an object of Student class, then the name should be \"Unknown\", otherwise the name should be equal to the String value passed while creating object of Student class.\n",
    "\n",
    "Sample input:\n",
    "Student name: Pavithra\n",
    "\n",
    "Sample output:\n",
    "Student name is Pavithra\n",
    "\n",
    "Sample input:\n",
    "Student name: \n",
    "\n",
    "Sample output:\n",
    "Student name is Unknown\n"
   ]
  },
  {
   "cell_type": "code",
   "execution_count": null,
   "metadata": {},
   "outputs": [],
   "source": []
  },
  {
   "cell_type": "raw",
   "metadata": {},
   "source": [
    "2. Create a class named Product with the following private attributes.\n",
    " \n",
    "Attribute\t  Data type\n",
    "Id\t            Long\n",
    "productName \tString\n",
    "supplierName \tString\n",
    "\n",
    "Include appropriate getters and setters.\n",
    "Include a 3-argument constructor and a default constructor.\n",
    "Include a method named display. It does not accept any arguments and its return type is void. Display the details of the product in this method.\n",
    "\n",
    "The method prototype is void display()\n",
    "\n",
    "Sample input:\n",
    "Enter the product id\n",
    "1 \n",
    "Enter the product name\n",
    "Printer \n",
    "Enter the supplier name\n",
    "HP \n",
    "\n",
    "Output:\n",
    "Product Id is 1\n",
    "Product Name is Printer\n",
    "Supplier Name is HP\n"
   ]
  },
  {
   "cell_type": "code",
   "execution_count": null,
   "metadata": {},
   "outputs": [],
   "source": []
  },
  {
   "cell_type": "raw",
   "metadata": {},
   "source": [
    "3. Write a program to restrict a class from creating not more than 3 objects."
   ]
  },
  {
   "cell_type": "code",
   "execution_count": null,
   "metadata": {},
   "outputs": [],
   "source": []
  },
  {
   "cell_type": "raw",
   "metadata": {},
   "source": [
    "4. Which of the following will compile when inserted in the following code? (Choose all that apply)\n",
    "\n",
    "public class Demo {\n",
    " \n",
    "final String exam1 = \"O\";\n",
    "static String exam2 = \"C\";\n",
    " \n",
    "{\n",
    "// CODE SNIPPET 1\n",
    "  \n",
    "}\n",
    "static {\n",
    "// CODE SNIPPET 2\n",
    "  \n",
    "}\n",
    " \n",
    "}\n",
    "A. exam1 = “A”; instead of // CODE SNIPPET 1\n",
    "B. exam 2 = “J”; instead of // CODE SNIPPET 1\n",
    "C. exam 1 = “P”; instead of // CODE SNIPPET 2\n",
    "D. exam 2 = “8”; instead of // CODE SNIPPET 2\n",
    "E. compile time error.\n",
    "F. Exception at run time.\n",
    "\n",
    "Please type your answer with explanation"
   ]
  },
  {
   "cell_type": "raw",
   "metadata": {},
   "source": [
    "Your answer : "
   ]
  },
  {
   "cell_type": "code",
   "execution_count": null,
   "metadata": {},
   "outputs": [],
   "source": []
  },
  {
   "cell_type": "raw",
   "metadata": {},
   "source": [
    "5. Write a  Employee class, which has three overloaded constructors with different number of signatures. When we create  different objects with different parameters, then respective matching constructor get called.\n",
    "\n",
    "Sample output :\n",
    "Employee Info: \n",
    "ID: 0\n",
    "Name: Not Available\n",
    "Employee Info: \n",
    "ID: 123\n",
    "Name: Not Available\n",
    "Employee Info: \n",
    "ID: 124\n",
    "Name: Vicky"
   ]
  },
  {
   "cell_type": "code",
   "execution_count": null,
   "metadata": {},
   "outputs": [],
   "source": []
  },
  {
   "cell_type": "raw",
   "metadata": {},
   "source": [
    "6. Write a test program for constructor overloading in java"
   ]
  },
  {
   "cell_type": "code",
   "execution_count": null,
   "metadata": {},
   "outputs": [],
   "source": []
  },
  {
   "cell_type": "raw",
   "metadata": {},
   "source": [
    "7. Write a program compare the price of two cars in highestPriceCar(Car c) method. In if condition, to distinguish the incoming car object in parameter and with current car object we have refer the getPrice() method using this keyword.\n",
    "\n",
    "Hint: \n",
    " You have parameterized constructor which accepts name and price of the Car\n",
    " \n",
    "Sample Output:\n",
    " TATA is the car with highest price."
   ]
  },
  {
   "cell_type": "code",
   "execution_count": null,
   "metadata": {},
   "outputs": [],
   "source": []
  },
  {
   "cell_type": "raw",
   "metadata": {},
   "source": [
    "8. Write a program to accept Employee details like name and designation. The company name should be same for all the employees. Display all the details of employee.\n",
    "\n",
    "Hint: \n",
    " Company name should be static \n",
    " \n",
    "Sample Input:\n",
    " To accept Employee Details\n",
    "\n",
    "Enter name :\n",
    " Kavitha L\n",
    "Enter Designation :\n",
    " Java Faculty\n",
    " \n",
    "Enter name :\n",
    " Bhavya V\n",
    "Enter Designation :\n",
    "AWS Faculty\n",
    "\n",
    "Sample output:\n",
    "\n",
    "Employee Details\n",
    "\n",
    "Name : Kavitha L\tDesignation : Java Company name : Rooman Technologies Pvt Ltd\n",
    "Name : Bhavya V\tDesignation : AWS Company name : Rooman Technologies Pvt Ltd"
   ]
  },
  {
   "cell_type": "code",
   "execution_count": null,
   "metadata": {},
   "outputs": [],
   "source": []
  }
 ],
 "metadata": {
  "kernelspec": {
   "display_name": "Java",
   "language": "java",
   "name": "java"
  },
  "language_info": {
   "codemirror_mode": "java",
   "file_extension": ".jshell",
   "mimetype": "text/x-java-source",
   "name": "Java",
   "pygments_lexer": "java",
   "version": "11.0.6+10-post-Ubuntu-1ubuntu118.04.1"
  }
 },
 "nbformat": 4,
 "nbformat_minor": 4
}
