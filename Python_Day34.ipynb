{
 "cells": [
  {
   "cell_type": "markdown",
   "metadata": {},
   "source": [
    "# Important Instructions"
   ]
  },
  {
   "cell_type": "markdown",
   "metadata": {},
   "source": [
    "###### I hope you enjoyed Python classes and have built a good foundation for the logic involved. Now lets solve a few intresting questions to see what kind of logic you can come up with :)"
   ]
  },
  {
   "cell_type": "markdown",
   "metadata": {},
   "source": [
    "###### Write a program which accepts a sequence of comma-separated numbers from console and generate a list and a tuple which contains every number. \n",
    "\n",
    "<b>Sample Input:</b>\n",
    "\n",
    "Enter a Sequence of comma separated numbers:10,20,30,50,70\n",
    "\n",
    "<b>Sample Output:</b>\n",
    "\n",
    "List ['10', '20', '30', '50', '70']\n",
    "\n",
    "Tuple ('10', '20', '30', '50', '70')\n"
   ]
  },
  {
   "cell_type": "code",
   "execution_count": null,
   "metadata": {},
   "outputs": [],
   "source": []
  },
  {
   "cell_type": "markdown",
   "metadata": {},
   "source": [
    "###### Define a function named printTuple() which can generate and print a tuple where the value are square of numbers between 1 and 20 (both included)."
   ]
  },
  {
   "cell_type": "code",
   "execution_count": null,
   "metadata": {},
   "outputs": [],
   "source": []
  },
  {
   "cell_type": "markdown",
   "metadata": {},
   "source": [
    "###### With a given tuple (1,2,3,4,5,6,7,8,9,10), write a program to print the first half values in one line and the last half values in one line.\n",
    "\n",
    "<b>Sample Input:</b> (1,2,3,4,5,6,7,8,9,10)\n",
    "\n",
    "<b>Sample Output:</b>\n",
    "\n",
    "First Half: (1, 2, 3, 4, 5)\n",
    "\n",
    "Second Half (6, 7, 8, 9, 10)\n"
   ]
  },
  {
   "cell_type": "code",
   "execution_count": null,
   "metadata": {},
   "outputs": [],
   "source": []
  },
  {
   "cell_type": "markdown",
   "metadata": {},
   "source": [
    "###### Write a program to generate and print another tuple whose values are even numbers in the given tuple (1,2,3,4,5,6,7,8,9,10).\n",
    "\n",
    "Sample Input: (1,2,3,4,5,6,7,8,9,10).\n",
    "\n",
    "Sample Output: (2, 4, 6, 8, 10)\n"
   ]
  },
  {
   "cell_type": "code",
   "execution_count": null,
   "metadata": {},
   "outputs": [],
   "source": []
  }
 ],
 "metadata": {
  "kernelspec": {
   "display_name": "Python 3",
   "language": "python",
   "name": "python3"
  },
  "language_info": {
   "codemirror_mode": {
    "name": "ipython",
    "version": 3
   },
   "file_extension": ".py",
   "mimetype": "text/x-python",
   "name": "python",
   "nbconvert_exporter": "python",
   "pygments_lexer": "ipython3",
   "version": "3.7.3"
  }
 },
 "nbformat": 4,
 "nbformat_minor": 4
}
