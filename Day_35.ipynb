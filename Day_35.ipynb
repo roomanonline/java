{
 "cells": [
  {
   "cell_type": "markdown",
   "metadata": {},
   "source": [
    "# Important Instructions:"
   ]
  },
  {
   "cell_type": "raw",
   "metadata": {},
   "source": [
    "1)When coding in java using jupyter notebooks there is no need to provide a main method as it is automatically provided.\n",
    "\n",
    "2)Code written within a cell is automatically placed within the main method unless you explicitly place it within another class\n",
    "\n",
    "I hope you enjoyed the classes and have built a good foundation for the logic involved. Now lets solve a few intresting questions to see what kind of logic you can come up with :)"
   ]
  },
  {
   "cell_type": "raw",
   "metadata": {},
   "source": [
    "1.What is wrong with the following code?\n",
    "\n",
    "public interface SomethingIsWrong {\n",
    "    String aMethod(){\n",
    "        return \"Hi Mom\";\n",
    "    }\n",
    "}\n",
    "\n",
    "Fix the issue.\n",
    "\n",
    "Sample output:\n",
    "\n",
    "Hi Mom\n"
   ]
  },
  {
   "cell_type": "code",
   "execution_count": null,
   "metadata": {},
   "outputs": [],
   "source": []
  },
  {
   "cell_type": "code",
   "execution_count": null,
   "metadata": {},
   "outputs": [],
   "source": [
    "2. Create interface A which has two methods m1 and m2. Now create another interface B which inherits from interface A and declare method m3 in interface B.\n",
    "interface B should be inherited in a class named MyClass.\n",
    "(note: MyClass should have all the properties of interface A & B)\n",
    "\n",
    "Sample output:\n",
    "\n",
    "Implemented method 1....\n",
    "Implemented method 2....\n",
    "Implemented method 3....\n"
   ]
  },
  {
   "cell_type": "code",
   "execution_count": null,
   "metadata": {},
   "outputs": [],
   "source": []
  }
 ],
 "metadata": {
  "kernelspec": {
   "display_name": "Java",
   "language": "java",
   "name": "java"
  },
  "language_info": {
   "codemirror_mode": "java",
   "file_extension": ".jshell",
   "mimetype": "text/x-java-source",
   "name": "Java",
   "pygments_lexer": "java",
   "version": "11.0.7+10-post-Ubuntu-2ubuntu218.04"
  }
 },
 "nbformat": 4,
 "nbformat_minor": 4
}
