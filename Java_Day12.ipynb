{
 "cells": [
  {
   "cell_type": "markdown",
   "metadata": {},
   "source": [
    "# Important Instructions:"
   ]
  },
  {
   "cell_type": "raw",
   "metadata": {},
   "source": [
    "1)When coding in java using jupyter notebooks there is no need to provide a main method as it is automatically provided.\n",
    "\n",
    "2)Code written within a cell is automatically placed within the main method unless you explicitly place it within another class\n",
    "\n",
    "I hope you enjoyed the Array classes and have built a good foundation for the logic involved. Now lets solve a few intresting questions to see what kind of logic you can come up with :)"
   ]
  },
  {
   "cell_type": "raw",
   "metadata": {},
   "source": [
    "1.Define a class named  Merger. In the class declare two arrays and fill them with N integer elements collected from the keyboard. Declare a third array, in which first two arrays are merged and printed as output.\n",
    "Sample input\n",
    "First array : [2 4 6]\n",
    "Second array: [1 3 5]\n",
    "\n",
    "Sample output :\n",
    "Merged array : 2 4 6 1 3 5"
   ]
  },
  {
   "cell_type": "code",
   "execution_count": null,
   "metadata": {},
   "outputs": [],
   "source": []
  },
  {
   "cell_type": "raw",
   "metadata": {},
   "source": [
    "2)Write a program that reads an integer between 0 and 1000 and  adds  all the digits in the integer. For example, if an integer is 932, the  sum of all its digits is 14.\n",
    "Hint:  Use the % operator to extract digits, and use the / operator to remove the extracted digit.\n",
    "For instance, 932 % 10 = 2 and 932 / 10 = 93.\n"
   ]
  },
  {
   "cell_type": "code",
   "execution_count": null,
   "metadata": {},
   "outputs": [],
   "source": []
  }
 ],
 "metadata": {
  "kernelspec": {
   "display_name": "Java",
   "language": "java",
   "name": "java"
  },
  "language_info": {
   "codemirror_mode": "java",
   "file_extension": ".jshell",
   "mimetype": "text/x-java-source",
   "name": "Java",
   "pygments_lexer": "java",
   "version": "11.0.8+10-post-Ubuntu-0ubuntu118.04.1"
  }
 },
 "nbformat": 4,
 "nbformat_minor": 4
}
